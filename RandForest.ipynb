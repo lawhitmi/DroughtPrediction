{
 "cells": [
  {
   "cell_type": "markdown",
   "metadata": {},
   "source": [
    "# Drought Prediction in the Mediterranean"
   ]
  },
  {
   "cell_type": "code",
   "execution_count": 186,
   "metadata": {},
   "outputs": [],
   "source": [
    "from sklearn.ensemble import RandomForestClassifier, AdaBoostClassifier\n",
    "from sklearn.decomposition import PCA\n",
    "from sklearn.preprocessing import KBinsDiscretizer, Binarizer\n",
    "from sklearn.compose import ColumnTransformer\n",
    "from sklearn.model_selection import train_test_split\n",
    "#from sklearn.pipeline import Pipeline\n",
    "from sklearn.model_selection import cross_val_score\n",
    "from sklearn.model_selection import GridSearchCV\n",
    "from sklearn.metrics import confusion_matrix, f1_score, precision_score, plot_confusion_matrix\n",
    "from matplotlib import pyplot as plt\n",
    "from imblearn.over_sampling import RandomOverSampler\n",
    "from imblearn.pipeline import Pipeline\n",
    "from imblearn.over_sampling import SMOTE\n",
    "from collections import Counter\n",
    "%matplotlib inline\n",
    "import numpy as np\n",
    "import pandas as pd\n",
    "import pickle"
   ]
  },
  {
   "cell_type": "code",
   "execution_count": 6,
   "metadata": {},
   "outputs": [],
   "source": [
    "# # Train/Test Split - Just run once\n",
    "# X_tas = np.load('Data/tas_train.npy')\n",
    "# X_psl = np.load('Data/psl_train.npy')\n",
    "# y=np.load('Data/nao_index_train.npy')\n",
    "\n",
    "# X = np.concatenate((X_tas, X_psl),axis=1)\n",
    "# y=y.reshape(-1,1)\n",
    "\n",
    "# X_train, X_test, y_train, y_test = train_test_split(X, y, test_size=0.20, random_state=42)\n",
    "\n",
    "# np.save('Data/train/X_train.npy', X_train)\n",
    "# np.save('Data/test/X_test.npy', X_test)\n",
    "# np.save('Data/train/y_train.npy', y_train)\n",
    "# np.save('Data/test/y_test.npy', y_test)"
   ]
  },
  {
   "cell_type": "markdown",
   "metadata": {},
   "source": [
    "# Exploratory Data Analysis"
   ]
  },
  {
   "cell_type": "code",
   "execution_count": 176,
   "metadata": {},
   "outputs": [
    {
     "name": "stdout",
     "output_type": "stream",
     "text": [
      "(720, 4644)\n",
      "(720, 1)\n"
     ]
    }
   ],
   "source": [
    "#Load training data\n",
    "X_train = np.load('Data/train/X_train.npy')\n",
    "y_train = np.load('Data/train/y_train.npy')\n",
    "print(X_train.shape)\n",
    "print(y_train.shape)"
   ]
  },
  {
   "cell_type": "code",
   "execution_count": 155,
   "metadata": {},
   "outputs": [
    {
     "name": "stdout",
     "output_type": "stream",
     "text": [
      "Range of means:  0.10698490791697654\n",
      "Range of stdevs:  0.09475504033032955\n"
     ]
    }
   ],
   "source": [
    "# Data are standardized by column\n",
    "X_df = pd.DataFrame(X_train)\n",
    "print(\"Range of means: \",X_df.mean().max() - X_df.mean().min())\n",
    "print(\"Range of stdevs: \",X_df.std().max() - X_df.std().min())"
   ]
  },
  {
   "cell_type": "code",
   "execution_count": 156,
   "metadata": {},
   "outputs": [
    {
     "data": {
      "text/plain": [
       "0"
      ]
     },
     "execution_count": 156,
     "metadata": {},
     "output_type": "execute_result"
    }
   ],
   "source": [
    "# No missing data (synthetic dataset, so none are expected)\n",
    "X_df.isna().sum().sum()"
   ]
  },
  {
   "cell_type": "code",
   "execution_count": 157,
   "metadata": {
    "scrolled": true
   },
   "outputs": [
    {
     "data": {
      "image/png": "[encoded data removed]",
      "text/plain": [
       "<Figure size 432x288 with 1 Axes>"
      ]
     },
     "metadata": {
      "needs_background": "light"
     },
     "output_type": "display_data"
    }
   ],
   "source": [
    "# PCA - Virtually all variance is explained in the first 200 PCs of press and the first 500 PCs of temp\n",
    "num_components = [50,100,150,200,250,300,350,400,500]\n",
    "explained_variance_temp = []\n",
    "explained_variance_press = []\n",
    "for i in num_components:\n",
    "    pca_temp = PCA(n_components=i)\n",
    "    pca_press = PCA(n_components=i)\n",
    "    X_tas_pca = pca_temp.fit_transform(X_train[:,0:2322])\n",
    "    X_psl_pca = pca_press.fit_transform(X_train[:,2322:4645])\n",
    "    explained_variance_temp.append(pca_temp.explained_variance_ratio_.sum())\n",
    "    explained_variance_press.append(pca_press.explained_variance_ratio_.sum())\n",
    "\n",
    "    \n",
    "plt.plot(num_components,explained_variance_temp,'go',label=\"Temp\")\n",
    "plt.plot(num_components,explained_variance_press,\"r^\",label=\"Press\")\n",
    "plt.title(\"PCA Explained Variance\")\n",
    "plt.xlabel(\"Num Components\")\n",
    "plt.ylabel(\"% Explained Variance\")\n",
    "plt.legend(loc=\"lower right\")\n",
    "plt.show()\n"
   ]
  },
  {
   "cell_type": "code",
   "execution_count": 158,
   "metadata": {},
   "outputs": [
    {
     "data": {
      "image/png": "[encoded data removed]",
      "text/plain": [
       "<Figure size 432x288 with 1 Axes>"
      ]
     },
     "metadata": {
      "needs_background": "light"
     },
     "output_type": "display_data"
    }
   ],
   "source": [
    "np.histogram(y_train, bins=20);\n",
    "plt.title(\"NAO Index Histogram\")\n",
    "plt.xlabel(\"Index\")\n",
    "plt.ylabel(\"Frequency\")\n",
    "plt.hist(y_train,bins=20)\n",
    "plt.show()"
   ]
  },
  {
   "cell_type": "markdown",
   "metadata": {},
   "source": [
    "#### Investigate Correlation between target variable and each coordinate"
   ]
  },
  {
   "cell_type": "code",
   "execution_count": 174,
   "metadata": {},
   "outputs": [],
   "source": [
    "data = pd.DataFrame(X_train)"
   ]
  },
  {
   "cell_type": "code",
   "execution_count": 178,
   "metadata": {},
   "outputs": [
    {
     "data": {
      "image/png": "[encoded data removed]",
      "text/plain": [
       "<Figure size 432x288 with 1 Axes>"
      ]
     },
     "metadata": {
      "needs_background": "light"
     },
     "output_type": "display_data"
    }
   ],
   "source": [
    "data.corrwith(pd.Series(y_train.reshape(720,))).hist(bins=15);"
   ]
  },
  {
   "cell_type": "markdown",
   "metadata": {},
   "source": [
    "# Preprocessing"
   ]
  },
  {
   "cell_type": "code",
   "execution_count": 159,
   "metadata": {},
   "outputs": [],
   "source": [
    "# Transform Training Data with PCA\n",
    "pca_temp = PCA(n_components=500)\n",
    "pca_press = PCA(n_components=200)\n",
    "X_tas_pca = pca_temp.fit_transform(X_train[:,0:2322])\n",
    "X_psl_pca = pca_press.fit_transform(X_train[:,2322:4645])\n",
    "X_train_pca = np.concatenate((X_tas_pca,X_psl_pca),axis=1)"
   ]
  },
  {
   "cell_type": "code",
   "execution_count": 160,
   "metadata": {},
   "outputs": [
    {
     "name": "stdout",
     "output_type": "stream",
     "text": [
      "MSE Temp: 0.0019159701739312658\n",
      "MSE Press: 0.0009248858150807343\n"
     ]
    }
   ],
   "source": [
    "# Calculate reconstruction error\n",
    "X_tas_projected = pca_temp.inverse_transform(X_tas_pca)\n",
    "X_psl_projected = pca_press.inverse_transform(X_psl_pca)\n",
    "loss_temp = ((X_train[:,0:2322]-X_tas_projected)**2).mean()\n",
    "loss_press = ((X_train[:,2322:4645]-X_psl_projected)**2).mean()\n",
    "print('MSE Temp: '+str(loss_temp))\n",
    "print('MSE Press: '+str(loss_press))"
   ]
  },
  {
   "cell_type": "code",
   "execution_count": 161,
   "metadata": {},
   "outputs": [],
   "source": [
    "y_train_bin = np.sign(y_train).reshape(-1,)\n",
    "# kbin = KBinsDiscretizer(n_bins=3, encode='ordinal', strategy='kmeans')\n",
    "# kbin = KBinsDiscretizer(n_bins=3, encode='ordinal', strategy='quantile')\n",
    "\n",
    "# y_train_cat= kbin.fit_transform(y_train.reshape(-1,1)).reshape(-1,)\n",
    "# print(pd.Series(y_train_cat).value_counts())\n",
    "# print(kbin.bin_edges_)"
   ]
  },
  {
   "cell_type": "markdown",
   "metadata": {},
   "source": [
    "# Random Forest Classifier\n",
    "## Binary Classification (positive or negative NAOI)"
   ]
  },
  {
   "cell_type": "code",
   "execution_count": 162,
   "metadata": {},
   "outputs": [],
   "source": [
    "rf = RandomForestClassifier(random_state=1337)"
   ]
  },
  {
   "cell_type": "code",
   "execution_count": 163,
   "metadata": {},
   "outputs": [
    {
     "name": "stdout",
     "output_type": "stream",
     "text": [
      "0.5430555555555555\n",
      "{'criterion': 'gini', 'max_depth': 100, 'min_samples_split': 5}\n"
     ]
    }
   ],
   "source": [
    "# HPO without PCA\n",
    "## Random Forest ##\n",
    "parameters = {'max_depth':(10, 100), 'min_samples_split':[5, 15], 'criterion':['entropy','gini']}\n",
    "clf = GridSearchCV(rf, parameters,scoring='f1_micro')\n",
    "clf.fit(X_train,y_train_bin)\n",
    "print(clf.best_score_)\n",
    "print(clf.best_params_)"
   ]
  },
  {
   "cell_type": "markdown",
   "metadata": {},
   "source": [
    "Best Score: 0.5430555555555555\n",
    "\n",
    "Best Params: {'criterion': 'gini', 'max_depth': 100, 'min_samples_split': 5}"
   ]
  },
  {
   "cell_type": "code",
   "execution_count": 164,
   "metadata": {},
   "outputs": [
    {
     "data": {
      "text/html": [
       "<div>\n",
       "<style scoped>\n",
       "    .dataframe tbody tr th:only-of-type {\n",
       "        vertical-align: middle;\n",
       "    }\n",
       "\n",
       "    .dataframe tbody tr th {\n",
       "        vertical-align: top;\n",
       "    }\n",
       "\n",
       "    .dataframe thead th {\n",
       "        text-align: right;\n",
       "    }\n",
       "</style>\n",
       "<table border=\"1\" class=\"dataframe\">\n",
       "  <thead>\n",
       "    <tr style=\"text-align: right;\">\n",
       "      <th></th>\n",
       "      <th>mean_fit_time</th>\n",
       "      <th>std_fit_time</th>\n",
       "      <th>mean_score_time</th>\n",
       "      <th>std_score_time</th>\n",
       "      <th>param_criterion</th>\n",
       "      <th>param_max_depth</th>\n",
       "      <th>param_min_samples_split</th>\n",
       "      <th>params</th>\n",
       "      <th>split0_test_score</th>\n",
       "      <th>split1_test_score</th>\n",
       "      <th>split2_test_score</th>\n",
       "      <th>split3_test_score</th>\n",
       "      <th>split4_test_score</th>\n",
       "      <th>mean_test_score</th>\n",
       "      <th>std_test_score</th>\n",
       "      <th>rank_test_score</th>\n",
       "    </tr>\n",
       "  </thead>\n",
       "  <tbody>\n",
       "    <tr>\n",
       "      <th>0</th>\n",
       "      <td>2.509054</td>\n",
       "      <td>0.108081</td>\n",
       "      <td>0.012363</td>\n",
       "      <td>0.001613</td>\n",
       "      <td>entropy</td>\n",
       "      <td>10</td>\n",
       "      <td>5</td>\n",
       "      <td>{'criterion': 'entropy', 'max_depth': 10, 'min...</td>\n",
       "      <td>0.576389</td>\n",
       "      <td>0.465278</td>\n",
       "      <td>0.576389</td>\n",
       "      <td>0.527778</td>\n",
       "      <td>0.493056</td>\n",
       "      <td>0.527778</td>\n",
       "      <td>0.044358</td>\n",
       "      <td>4</td>\n",
       "    </tr>\n",
       "    <tr>\n",
       "      <th>1</th>\n",
       "      <td>2.560223</td>\n",
       "      <td>0.057327</td>\n",
       "      <td>0.012437</td>\n",
       "      <td>0.000470</td>\n",
       "      <td>entropy</td>\n",
       "      <td>10</td>\n",
       "      <td>15</td>\n",
       "      <td>{'criterion': 'entropy', 'max_depth': 10, 'min...</td>\n",
       "      <td>0.486111</td>\n",
       "      <td>0.500000</td>\n",
       "      <td>0.548611</td>\n",
       "      <td>0.520833</td>\n",
       "      <td>0.548611</td>\n",
       "      <td>0.520833</td>\n",
       "      <td>0.025230</td>\n",
       "      <td>5</td>\n",
       "    </tr>\n",
       "    <tr>\n",
       "      <th>2</th>\n",
       "      <td>2.824181</td>\n",
       "      <td>0.037575</td>\n",
       "      <td>0.012188</td>\n",
       "      <td>0.000437</td>\n",
       "      <td>entropy</td>\n",
       "      <td>100</td>\n",
       "      <td>5</td>\n",
       "      <td>{'criterion': 'entropy', 'max_depth': 100, 'mi...</td>\n",
       "      <td>0.506944</td>\n",
       "      <td>0.479167</td>\n",
       "      <td>0.555556</td>\n",
       "      <td>0.493056</td>\n",
       "      <td>0.513889</td>\n",
       "      <td>0.509722</td>\n",
       "      <td>0.025835</td>\n",
       "      <td>8</td>\n",
       "    </tr>\n",
       "    <tr>\n",
       "      <th>3</th>\n",
       "      <td>2.733696</td>\n",
       "      <td>0.035507</td>\n",
       "      <td>0.013098</td>\n",
       "      <td>0.000653</td>\n",
       "      <td>entropy</td>\n",
       "      <td>100</td>\n",
       "      <td>15</td>\n",
       "      <td>{'criterion': 'entropy', 'max_depth': 100, 'mi...</td>\n",
       "      <td>0.493056</td>\n",
       "      <td>0.506944</td>\n",
       "      <td>0.597222</td>\n",
       "      <td>0.534722</td>\n",
       "      <td>0.527778</td>\n",
       "      <td>0.531944</td>\n",
       "      <td>0.035843</td>\n",
       "      <td>3</td>\n",
       "    </tr>\n",
       "    <tr>\n",
       "      <th>4</th>\n",
       "      <td>1.547676</td>\n",
       "      <td>0.058194</td>\n",
       "      <td>0.013804</td>\n",
       "      <td>0.001922</td>\n",
       "      <td>gini</td>\n",
       "      <td>10</td>\n",
       "      <td>5</td>\n",
       "      <td>{'criterion': 'gini', 'max_depth': 10, 'min_sa...</td>\n",
       "      <td>0.506944</td>\n",
       "      <td>0.520833</td>\n",
       "      <td>0.604167</td>\n",
       "      <td>0.513889</td>\n",
       "      <td>0.562500</td>\n",
       "      <td>0.541667</td>\n",
       "      <td>0.036747</td>\n",
       "      <td>2</td>\n",
       "    </tr>\n",
       "    <tr>\n",
       "      <th>5</th>\n",
       "      <td>1.532707</td>\n",
       "      <td>0.062241</td>\n",
       "      <td>0.013486</td>\n",
       "      <td>0.000627</td>\n",
       "      <td>gini</td>\n",
       "      <td>10</td>\n",
       "      <td>15</td>\n",
       "      <td>{'criterion': 'gini', 'max_depth': 10, 'min_sa...</td>\n",
       "      <td>0.513889</td>\n",
       "      <td>0.472222</td>\n",
       "      <td>0.520833</td>\n",
       "      <td>0.541667</td>\n",
       "      <td>0.541667</td>\n",
       "      <td>0.518056</td>\n",
       "      <td>0.025459</td>\n",
       "      <td>6</td>\n",
       "    </tr>\n",
       "    <tr>\n",
       "      <th>6</th>\n",
       "      <td>1.718485</td>\n",
       "      <td>0.051914</td>\n",
       "      <td>0.013990</td>\n",
       "      <td>0.001225</td>\n",
       "      <td>gini</td>\n",
       "      <td>100</td>\n",
       "      <td>5</td>\n",
       "      <td>{'criterion': 'gini', 'max_depth': 100, 'min_s...</td>\n",
       "      <td>0.500000</td>\n",
       "      <td>0.541667</td>\n",
       "      <td>0.562500</td>\n",
       "      <td>0.513889</td>\n",
       "      <td>0.597222</td>\n",
       "      <td>0.543056</td>\n",
       "      <td>0.034694</td>\n",
       "      <td>1</td>\n",
       "    </tr>\n",
       "    <tr>\n",
       "      <th>7</th>\n",
       "      <td>1.622359</td>\n",
       "      <td>0.050334</td>\n",
       "      <td>0.013244</td>\n",
       "      <td>0.001115</td>\n",
       "      <td>gini</td>\n",
       "      <td>100</td>\n",
       "      <td>15</td>\n",
       "      <td>{'criterion': 'gini', 'max_depth': 100, 'min_s...</td>\n",
       "      <td>0.520833</td>\n",
       "      <td>0.451389</td>\n",
       "      <td>0.562500</td>\n",
       "      <td>0.500000</td>\n",
       "      <td>0.541667</td>\n",
       "      <td>0.515278</td>\n",
       "      <td>0.038138</td>\n",
       "      <td>7</td>\n",
       "    </tr>\n",
       "  </tbody>\n",
       "</table>\n",
       "</div>"
      ],
      "text/plain": [
       "   mean_fit_time  std_fit_time  mean_score_time  std_score_time  \\\n",
       "0       2.509054      0.108081         0.012363        0.001613   \n",
       "1       2.560223      0.057327         0.012437        0.000470   \n",
       "2       2.824181      0.037575         0.012188        0.000437   \n",
       "3       2.733696      0.035507         0.013098        0.000653   \n",
       "4       1.547676      0.058194         0.013804        0.001922   \n",
       "5       1.532707      0.062241         0.013486        0.000627   \n",
       "6       1.718485      0.051914         0.013990        0.001225   \n",
       "7       1.622359      0.050334         0.013244        0.001115   \n",
       "\n",
       "  param_criterion param_max_depth param_min_samples_split  \\\n",
       "0         entropy              10                       5   \n",
       "1         entropy              10                      15   \n",
       "2         entropy             100                       5   \n",
       "3         entropy             100                      15   \n",
       "4            gini              10                       5   \n",
       "5            gini              10                      15   \n",
       "6            gini             100                       5   \n",
       "7            gini             100                      15   \n",
       "\n",
       "                                              params  split0_test_score  \\\n",
       "0  {'criterion': 'entropy', 'max_depth': 10, 'min...           0.576389   \n",
       "1  {'criterion': 'entropy', 'max_depth': 10, 'min...           0.486111   \n",
       "2  {'criterion': 'entropy', 'max_depth': 100, 'mi...           0.506944   \n",
       "3  {'criterion': 'entropy', 'max_depth': 100, 'mi...           0.493056   \n",
       "4  {'criterion': 'gini', 'max_depth': 10, 'min_sa...           0.506944   \n",
       "5  {'criterion': 'gini', 'max_depth': 10, 'min_sa...           0.513889   \n",
       "6  {'criterion': 'gini', 'max_depth': 100, 'min_s...           0.500000   \n",
       "7  {'criterion': 'gini', 'max_depth': 100, 'min_s...           0.520833   \n",
       "\n",
       "   split1_test_score  split2_test_score  split3_test_score  split4_test_score  \\\n",
       "0           0.465278           0.576389           0.527778           0.493056   \n",
       "1           0.500000           0.548611           0.520833           0.548611   \n",
       "2           0.479167           0.555556           0.493056           0.513889   \n",
       "3           0.506944           0.597222           0.534722           0.527778   \n",
       "4           0.520833           0.604167           0.513889           0.562500   \n",
       "5           0.472222           0.520833           0.541667           0.541667   \n",
       "6           0.541667           0.562500           0.513889           0.597222   \n",
       "7           0.451389           0.562500           0.500000           0.541667   \n",
       "\n",
       "   mean_test_score  std_test_score  rank_test_score  \n",
       "0         0.527778        0.044358                4  \n",
       "1         0.520833        0.025230                5  \n",
       "2         0.509722        0.025835                8  \n",
       "3         0.531944        0.035843                3  \n",
       "4         0.541667        0.036747                2  \n",
       "5         0.518056        0.025459                6  \n",
       "6         0.543056        0.034694                1  \n",
       "7         0.515278        0.038138                7  "
      ]
     },
     "execution_count": 164,
     "metadata": {},
     "output_type": "execute_result"
    }
   ],
   "source": [
    "results = pd.DataFrame(clf.cv_results_)\n",
    "results"
   ]
  },
  {
   "cell_type": "code",
   "execution_count": 165,
   "metadata": {},
   "outputs": [
    {
     "name": "stdout",
     "output_type": "stream",
     "text": [
      "0.5569444444444446\n",
      "{'criterion': 'entropy', 'max_depth': 100, 'min_samples_split': 5}\n"
     ]
    }
   ],
   "source": [
    "# HPO with PCA\n",
    "## Random Forest ##\n",
    "parameters = {'max_depth':(10, 100), 'min_samples_split':[5, 15], 'criterion':['entropy','gini']}\n",
    "clf = GridSearchCV(rf, parameters,scoring='f1_micro')\n",
    "clf.fit(X_train_pca,y_train_bin)\n",
    "print(clf.best_score_)\n",
    "print(clf.best_params_)"
   ]
  },
  {
   "cell_type": "markdown",
   "metadata": {},
   "source": [
    "Best Score: 0.5569444444444446\n",
    "\n",
    "Best Params: {'criterion': 'entropy', 'max_depth': 100, 'min_samples_split': 5}"
   ]
  },
  {
   "cell_type": "code",
   "execution_count": 50,
   "metadata": {},
   "outputs": [
    {
     "data": {
      "text/html": [
       "<div>\n",
       "<style scoped>\n",
       "    .dataframe tbody tr th:only-of-type {\n",
       "        vertical-align: middle;\n",
       "    }\n",
       "\n",
       "    .dataframe tbody tr th {\n",
       "        vertical-align: top;\n",
       "    }\n",
       "\n",
       "    .dataframe thead th {\n",
       "        text-align: right;\n",
       "    }\n",
       "</style>\n",
       "<table border=\"1\" class=\"dataframe\">\n",
       "  <thead>\n",
       "    <tr style=\"text-align: right;\">\n",
       "      <th></th>\n",
       "      <th>mean_fit_time</th>\n",
       "      <th>std_fit_time</th>\n",
       "      <th>mean_score_time</th>\n",
       "      <th>std_score_time</th>\n",
       "      <th>param_criterion</th>\n",
       "      <th>param_max_depth</th>\n",
       "      <th>param_min_samples_split</th>\n",
       "      <th>params</th>\n",
       "      <th>split0_test_score</th>\n",
       "      <th>split1_test_score</th>\n",
       "      <th>split2_test_score</th>\n",
       "      <th>split3_test_score</th>\n",
       "      <th>split4_test_score</th>\n",
       "      <th>mean_test_score</th>\n",
       "      <th>std_test_score</th>\n",
       "      <th>rank_test_score</th>\n",
       "    </tr>\n",
       "  </thead>\n",
       "  <tbody>\n",
       "    <tr>\n",
       "      <th>0</th>\n",
       "      <td>1.200942</td>\n",
       "      <td>0.005981</td>\n",
       "      <td>0.014036</td>\n",
       "      <td>0.001604</td>\n",
       "      <td>entropy</td>\n",
       "      <td>10</td>\n",
       "      <td>5</td>\n",
       "      <td>{'criterion': 'entropy', 'max_depth': 10, 'min...</td>\n",
       "      <td>0.534722</td>\n",
       "      <td>0.534722</td>\n",
       "      <td>0.541667</td>\n",
       "      <td>0.513889</td>\n",
       "      <td>0.576389</td>\n",
       "      <td>0.540278</td>\n",
       "      <td>0.020318</td>\n",
       "      <td>4</td>\n",
       "    </tr>\n",
       "    <tr>\n",
       "      <th>1</th>\n",
       "      <td>1.178871</td>\n",
       "      <td>0.018643</td>\n",
       "      <td>0.010775</td>\n",
       "      <td>0.000863</td>\n",
       "      <td>entropy</td>\n",
       "      <td>10</td>\n",
       "      <td>15</td>\n",
       "      <td>{'criterion': 'entropy', 'max_depth': 10, 'min...</td>\n",
       "      <td>0.548611</td>\n",
       "      <td>0.513889</td>\n",
       "      <td>0.534722</td>\n",
       "      <td>0.548611</td>\n",
       "      <td>0.513889</td>\n",
       "      <td>0.531944</td>\n",
       "      <td>0.015590</td>\n",
       "      <td>6</td>\n",
       "    </tr>\n",
       "    <tr>\n",
       "      <th>2</th>\n",
       "      <td>1.293631</td>\n",
       "      <td>0.009125</td>\n",
       "      <td>0.013555</td>\n",
       "      <td>0.004025</td>\n",
       "      <td>entropy</td>\n",
       "      <td>100</td>\n",
       "      <td>5</td>\n",
       "      <td>{'criterion': 'entropy', 'max_depth': 100, 'mi...</td>\n",
       "      <td>0.555556</td>\n",
       "      <td>0.534722</td>\n",
       "      <td>0.541667</td>\n",
       "      <td>0.527778</td>\n",
       "      <td>0.548611</td>\n",
       "      <td>0.541667</td>\n",
       "      <td>0.009821</td>\n",
       "      <td>3</td>\n",
       "    </tr>\n",
       "    <tr>\n",
       "      <th>3</th>\n",
       "      <td>1.250098</td>\n",
       "      <td>0.019983</td>\n",
       "      <td>0.011338</td>\n",
       "      <td>0.000390</td>\n",
       "      <td>entropy</td>\n",
       "      <td>100</td>\n",
       "      <td>15</td>\n",
       "      <td>{'criterion': 'entropy', 'max_depth': 100, 'mi...</td>\n",
       "      <td>0.520833</td>\n",
       "      <td>0.500000</td>\n",
       "      <td>0.513889</td>\n",
       "      <td>0.513889</td>\n",
       "      <td>0.534722</td>\n",
       "      <td>0.516667</td>\n",
       "      <td>0.011283</td>\n",
       "      <td>8</td>\n",
       "    </tr>\n",
       "    <tr>\n",
       "      <th>4</th>\n",
       "      <td>0.700459</td>\n",
       "      <td>0.015514</td>\n",
       "      <td>0.011360</td>\n",
       "      <td>0.000551</td>\n",
       "      <td>gini</td>\n",
       "      <td>10</td>\n",
       "      <td>5</td>\n",
       "      <td>{'criterion': 'gini', 'max_depth': 10, 'min_sa...</td>\n",
       "      <td>0.562500</td>\n",
       "      <td>0.527778</td>\n",
       "      <td>0.541667</td>\n",
       "      <td>0.527778</td>\n",
       "      <td>0.583333</td>\n",
       "      <td>0.548611</td>\n",
       "      <td>0.021517</td>\n",
       "      <td>1</td>\n",
       "    </tr>\n",
       "    <tr>\n",
       "      <th>5</th>\n",
       "      <td>0.721774</td>\n",
       "      <td>0.036039</td>\n",
       "      <td>0.011851</td>\n",
       "      <td>0.002324</td>\n",
       "      <td>gini</td>\n",
       "      <td>10</td>\n",
       "      <td>15</td>\n",
       "      <td>{'criterion': 'gini', 'max_depth': 10, 'min_sa...</td>\n",
       "      <td>0.555556</td>\n",
       "      <td>0.520833</td>\n",
       "      <td>0.541667</td>\n",
       "      <td>0.541667</td>\n",
       "      <td>0.527778</td>\n",
       "      <td>0.537500</td>\n",
       "      <td>0.012108</td>\n",
       "      <td>5</td>\n",
       "    </tr>\n",
       "    <tr>\n",
       "      <th>6</th>\n",
       "      <td>0.772860</td>\n",
       "      <td>0.021999</td>\n",
       "      <td>0.011253</td>\n",
       "      <td>0.000867</td>\n",
       "      <td>gini</td>\n",
       "      <td>100</td>\n",
       "      <td>5</td>\n",
       "      <td>{'criterion': 'gini', 'max_depth': 100, 'min_s...</td>\n",
       "      <td>0.534722</td>\n",
       "      <td>0.548611</td>\n",
       "      <td>0.479167</td>\n",
       "      <td>0.493056</td>\n",
       "      <td>0.569444</td>\n",
       "      <td>0.525000</td>\n",
       "      <td>0.033907</td>\n",
       "      <td>7</td>\n",
       "    </tr>\n",
       "    <tr>\n",
       "      <th>7</th>\n",
       "      <td>0.787180</td>\n",
       "      <td>0.101975</td>\n",
       "      <td>0.011122</td>\n",
       "      <td>0.000925</td>\n",
       "      <td>gini</td>\n",
       "      <td>100</td>\n",
       "      <td>15</td>\n",
       "      <td>{'criterion': 'gini', 'max_depth': 100, 'min_s...</td>\n",
       "      <td>0.527778</td>\n",
       "      <td>0.527778</td>\n",
       "      <td>0.541667</td>\n",
       "      <td>0.548611</td>\n",
       "      <td>0.569444</td>\n",
       "      <td>0.543056</td>\n",
       "      <td>0.015466</td>\n",
       "      <td>2</td>\n",
       "    </tr>\n",
       "  </tbody>\n",
       "</table>\n",
       "</div>"
      ],
      "text/plain": [
       "   mean_fit_time  std_fit_time  mean_score_time  std_score_time  \\\n",
       "0       1.200942      0.005981         0.014036        0.001604   \n",
       "1       1.178871      0.018643         0.010775        0.000863   \n",
       "2       1.293631      0.009125         0.013555        0.004025   \n",
       "3       1.250098      0.019983         0.011338        0.000390   \n",
       "4       0.700459      0.015514         0.011360        0.000551   \n",
       "5       0.721774      0.036039         0.011851        0.002324   \n",
       "6       0.772860      0.021999         0.011253        0.000867   \n",
       "7       0.787180      0.101975         0.011122        0.000925   \n",
       "\n",
       "  param_criterion param_max_depth param_min_samples_split  \\\n",
       "0         entropy              10                       5   \n",
       "1         entropy              10                      15   \n",
       "2         entropy             100                       5   \n",
       "3         entropy             100                      15   \n",
       "4            gini              10                       5   \n",
       "5            gini              10                      15   \n",
       "6            gini             100                       5   \n",
       "7            gini             100                      15   \n",
       "\n",
       "                                              params  split0_test_score  \\\n",
       "0  {'criterion': 'entropy', 'max_depth': 10, 'min...           0.534722   \n",
       "1  {'criterion': 'entropy', 'max_depth': 10, 'min...           0.548611   \n",
       "2  {'criterion': 'entropy', 'max_depth': 100, 'mi...           0.555556   \n",
       "3  {'criterion': 'entropy', 'max_depth': 100, 'mi...           0.520833   \n",
       "4  {'criterion': 'gini', 'max_depth': 10, 'min_sa...           0.562500   \n",
       "5  {'criterion': 'gini', 'max_depth': 10, 'min_sa...           0.555556   \n",
       "6  {'criterion': 'gini', 'max_depth': 100, 'min_s...           0.534722   \n",
       "7  {'criterion': 'gini', 'max_depth': 100, 'min_s...           0.527778   \n",
       "\n",
       "   split1_test_score  split2_test_score  split3_test_score  split4_test_score  \\\n",
       "0           0.534722           0.541667           0.513889           0.576389   \n",
       "1           0.513889           0.534722           0.548611           0.513889   \n",
       "2           0.534722           0.541667           0.527778           0.548611   \n",
       "3           0.500000           0.513889           0.513889           0.534722   \n",
       "4           0.527778           0.541667           0.527778           0.583333   \n",
       "5           0.520833           0.541667           0.541667           0.527778   \n",
       "6           0.548611           0.479167           0.493056           0.569444   \n",
       "7           0.527778           0.541667           0.548611           0.569444   \n",
       "\n",
       "   mean_test_score  std_test_score  rank_test_score  \n",
       "0         0.540278        0.020318                4  \n",
       "1         0.531944        0.015590                6  \n",
       "2         0.541667        0.009821                3  \n",
       "3         0.516667        0.011283                8  \n",
       "4         0.548611        0.021517                1  \n",
       "5         0.537500        0.012108                5  \n",
       "6         0.525000        0.033907                7  \n",
       "7         0.543056        0.015466                2  "
      ]
     },
     "execution_count": 50,
     "metadata": {},
     "output_type": "execute_result"
    }
   ],
   "source": [
    "# Equal if not better performance when using PCA transform\n",
    "results = pd.DataFrame(clf.cv_results_)\n",
    "results"
   ]
  },
  {
   "cell_type": "code",
   "execution_count": 166,
   "metadata": {},
   "outputs": [],
   "source": [
    "# Persist RF wPCA Model\n",
    "with open('Data/RF_Bin_wPCA', 'wb') as f:\n",
    "    pickle.dump(clf, f)"
   ]
  },
  {
   "cell_type": "markdown",
   "metadata": {},
   "source": [
    "## Testing"
   ]
  },
  {
   "cell_type": "code",
   "execution_count": 167,
   "metadata": {},
   "outputs": [],
   "source": [
    "# Load Test Data\n",
    "X_test = np.load('Data/test/X_test.npy')\n",
    "y_test = np.load('Data/test/y_test.npy')"
   ]
  },
  {
   "cell_type": "code",
   "execution_count": 181,
   "metadata": {},
   "outputs": [],
   "source": [
    "#transform test data\n",
    "X_tas_pca_test = pca_temp.transform(X_test[:,0:2322])\n",
    "X_psl_pca_test = pca_press.transform(X_test[:,2322:4645])\n",
    "X_test_pca = np.concatenate((X_tas_pca_test,X_psl_pca_test),axis=1)\n",
    "y_test_bin = np.sign(y_test)\n"
   ]
  },
  {
   "cell_type": "code",
   "execution_count": 169,
   "metadata": {},
   "outputs": [
    {
     "data": {
      "text/plain": [
       "<sklearn.metrics._plot.confusion_matrix.ConfusionMatrixDisplay at 0x1f328f36648>"
      ]
     },
     "execution_count": 169,
     "metadata": {},
     "output_type": "execute_result"
    },
    {
     "data": {
      "image/png": "[encoded data removed]",
      "text/plain": [
       "<Figure size 432x288 with 2 Axes>"
      ]
     },
     "metadata": {
      "needs_background": "light"
     },
     "output_type": "display_data"
    }
   ],
   "source": [
    "plot_confusion_matrix(clf, X_test_pca, y_test_bin)"
   ]
  },
  {
   "cell_type": "code",
   "execution_count": 170,
   "metadata": {},
   "outputs": [],
   "source": [
    "y_pred = clf.predict(X_test_pca)"
   ]
  },
  {
   "cell_type": "code",
   "execution_count": 171,
   "metadata": {},
   "outputs": [
    {
     "name": "stdout",
     "output_type": "stream",
     "text": [
      "F1 score: 0.5277777777777778\n"
     ]
    }
   ],
   "source": [
    "print('F1 score: '+str(f1_score(y_test_bin, y_pred, average='micro')))"
   ]
  },
  {
   "cell_type": "code",
   "execution_count": 173,
   "metadata": {},
   "outputs": [
    {
     "data": {
      "text/plain": [
       "(array([-1.,  1.]), array([85, 95], dtype=int64))"
      ]
     },
     "execution_count": 173,
     "metadata": {},
     "output_type": "execute_result"
    }
   ],
   "source": [
    "np.unique(y_test_bin, return_counts=True)"
   ]
  },
  {
   "cell_type": "markdown",
   "metadata": {},
   "source": [
    "# Autoencoder"
   ]
  },
  {
   "cell_type": "code",
   "execution_count": 44,
   "metadata": {},
   "outputs": [],
   "source": [
    "import keras\n",
    "from keras import layers\n",
    "from keras.optimizers import Adam"
   ]
  },
  {
   "cell_type": "code",
   "execution_count": 111,
   "metadata": {},
   "outputs": [],
   "source": [
    "# Simplest Autoencoder - This did not perform well. The loss remained the same at each epoch\n",
    "# encoding_dim = 255\n",
    "# input_img = keras.Input(shape=(54,43,))\n",
    "# encoded = layers.Dense(encoding_dim, activation='relu')(input_img)\n",
    "# decoded = layers.Dense(2322, activation='sigmoid')(encoded)\n",
    "# autoencoder = keras.Model(input_img, decoded)\n",
    "# encoder = keras.Model(input_img, encoded)\n",
    "# encoded_input = keras.Input(shape=(encoding_dim,))\n",
    "# decoder_layer = autoencoder.layers[-1]\n",
    "# decoder = keras.Model(encoded_input, decoder_layer(encoded_input))\n",
    "# customAdam = Adam(lr=0.001)\n",
    "# autoencoder.compile(optimizer='adam', loss='binary_crossentropy')"
   ]
  },
  {
   "cell_type": "code",
   "execution_count": 144,
   "metadata": {},
   "outputs": [
    {
     "name": "stdout",
     "output_type": "stream",
     "text": [
      "(None, 54, 43, 16)\n",
      "(None, 56, 48, 16)\n",
      "(None, 28, 24, 16)\n",
      "(None, 28, 24, 8)\n",
      "(None, 14, 12, 8)\n",
      "(None, 14, 12, 8)\n",
      "(None, 7, 6, 8)\n",
      "(None, 7, 6, 8)\n",
      "(None, 14, 12, 8)\n",
      "(None, 14, 12, 8)\n",
      "(None, 28, 24, 8)\n",
      "(None, 28, 24, 16)\n",
      "(None, 56, 48, 16)\n",
      "(None, 54, 43, 16)\n",
      "(None, 54, 43, 1)\n"
     ]
    }
   ],
   "source": [
    "# Convolutional Encoder\n",
    "input_img = keras.Input(shape=(54,43,1))\n",
    "x = layers.Conv2D(16, (3, 3), activation='relu', padding='same')(input_img)\n",
    "print(x.shape)\n",
    "x = layers.ZeroPadding2D(padding=((0,2),(0,5)))(x)\n",
    "print(x.shape)\n",
    "x = layers.MaxPooling2D((2, 2), padding='same')(x)\n",
    "print(x.shape)\n",
    "x = layers.Conv2D(8, (3, 3), activation='relu', padding='same')(x)\n",
    "print(x.shape)\n",
    "x = layers.MaxPooling2D((2, 2), padding='same')(x)\n",
    "print(x.shape)\n",
    "x = layers.Conv2D(8, (3, 3), activation='relu', padding='same')(x)\n",
    "print(x.shape)\n",
    "encoded = layers.MaxPooling2D((2, 2), padding='same')(x)\n",
    "print(encoded.shape)\n",
    "\n",
    "# at this point the representation is (7,6,8) i.e. 336-dimensional\n",
    "\n",
    "x = layers.Conv2D(8, (3, 3), activation='relu', padding='same')(encoded)\n",
    "print(x.shape)\n",
    "x = layers.UpSampling2D((2, 2))(x)\n",
    "print(x.shape)\n",
    "x = layers.Conv2D(8, (3, 3), activation='relu', padding='same')(x)\n",
    "print(x.shape)\n",
    "x = layers.UpSampling2D((2, 2))(x)\n",
    "print(x.shape)\n",
    "x = layers.Conv2D(16, (3, 3), activation='relu', padding='same')(x)\n",
    "print(x.shape)\n",
    "x = layers.UpSampling2D((2, 2))(x)\n",
    "print(x.shape)\n",
    "x = layers.Cropping2D(cropping=((0,2),(0,5)))(x)\n",
    "print(x.shape)\n",
    "decoded = layers.Conv2D(1, (3, 3), activation='sigmoid', padding='same')(x)\n",
    "print(decoded.shape)"
   ]
  },
  {
   "cell_type": "code",
   "execution_count": 145,
   "metadata": {},
   "outputs": [],
   "source": [
    "autoencoder = keras.Model(input_img, decoded)\n",
    "autoencoder.compile(optimizer='adam', loss='binary_crossentropy')"
   ]
  },
  {
   "cell_type": "markdown",
   "metadata": {},
   "source": [
    "## Preprocessing"
   ]
  },
  {
   "cell_type": "code",
   "execution_count": 107,
   "metadata": {},
   "outputs": [],
   "source": [
    "# For convolutional autoencoder\n",
    "X_train_temp_auto = X_train[:,0:2322].reshape((720,54,43))\n",
    "X_train_press_auto = X_train[:,2322:4645].reshape((720,54,43))\n",
    "X_test_temp_auto = X_test[:,0:2322].reshape((180,54,43))\n",
    "X_test_press_auto = X_test[:,2322:4645].reshape((180,54,43))"
   ]
  },
  {
   "cell_type": "markdown",
   "metadata": {},
   "source": [
    "## Train the Autoencoder"
   ]
  },
  {
   "cell_type": "code",
   "execution_count": 146,
   "metadata": {},
   "outputs": [
    {
     "name": "stdout",
     "output_type": "stream",
     "text": [
      "Epoch 1/50\n",
      "144/144 [==============================] - 3s 18ms/step - loss: -3.2998 - val_loss: -5.0637\n",
      "Epoch 2/50\n",
      "144/144 [==============================] - 2s 17ms/step - loss: -5.4639 - val_loss: -5.8029\n",
      "Epoch 3/50\n",
      "144/144 [==============================] - 2s 17ms/step - loss: -5.8336 - val_loss: -5.9657\n",
      "Epoch 4/50\n",
      "144/144 [==============================] - 2s 17ms/step - loss: -5.9879 - val_loss: -6.1371\n",
      "Epoch 5/50\n",
      "144/144 [==============================] - 3s 17ms/step - loss: -6.0777 - val_loss: -6.2137\n",
      "Epoch 6/50\n",
      "144/144 [==============================] - 3s 18ms/step - loss: -6.1347 - val_loss: -6.2608\n",
      "Epoch 7/50\n",
      "144/144 [==============================] - 3s 18ms/step - loss: -6.1768 - val_loss: -6.2943\n",
      "Epoch 8/50\n",
      "144/144 [==============================] - 3s 19ms/step - loss: -6.2130 - val_loss: -6.3225\n",
      "Epoch 9/50\n",
      "144/144 [==============================] - 3s 19ms/step - loss: -6.2403 - val_loss: -6.3452\n",
      "Epoch 10/50\n",
      "144/144 [==============================] - 3s 21ms/step - loss: -6.2629 - val_loss: -6.3637\n",
      "Epoch 11/50\n",
      "144/144 [==============================] - 3s 19ms/step - loss: -6.2819 - val_loss: -6.3791\n",
      "Epoch 12/50\n",
      "144/144 [==============================] - 3s 21ms/step - loss: -6.2982 - val_loss: -6.3905\n",
      "Epoch 13/50\n",
      "144/144 [==============================] - 3s 21ms/step - loss: -6.3143 - val_loss: -6.4068\n",
      "Epoch 14/50\n",
      "144/144 [==============================] - 3s 22ms/step - loss: -6.3275 - val_loss: -6.4145\n",
      "Epoch 15/50\n",
      "144/144 [==============================] - 3s 24ms/step - loss: -6.3379 - val_loss: -6.4252\n",
      "Epoch 16/50\n",
      "144/144 [==============================] - 3s 21ms/step - loss: -6.3477 - val_loss: -6.4315\n",
      "Epoch 17/50\n",
      "144/144 [==============================] - 3s 21ms/step - loss: -6.3571 - val_loss: -6.4383\n",
      "Epoch 18/50\n",
      "144/144 [==============================] - 3s 21ms/step - loss: -6.3654 - val_loss: -6.4613\n",
      "Epoch 19/50\n",
      "144/144 [==============================] - 3s 22ms/step - loss: -6.3741 - val_loss: -6.4705\n",
      "Epoch 20/50\n",
      "144/144 [==============================] - 3s 19ms/step - loss: -6.3825 - val_loss: -6.4789\n",
      "Epoch 21/50\n",
      "144/144 [==============================] - 3s 21ms/step - loss: -6.3885 - val_loss: -6.4842\n",
      "Epoch 22/50\n",
      "144/144 [==============================] - 3s 22ms/step - loss: -6.3951 - val_loss: -6.4909\n",
      "Epoch 23/50\n",
      "144/144 [==============================] - 3s 20ms/step - loss: -6.3998 - val_loss: -6.4934\n",
      "Epoch 24/50\n",
      "144/144 [==============================] - 3s 21ms/step - loss: -6.4056 - val_loss: -6.4956\n",
      "Epoch 25/50\n",
      "144/144 [==============================] - 3s 20ms/step - loss: -6.4090 - val_loss: -6.4971\n",
      "Epoch 26/50\n",
      "144/144 [==============================] - 3s 20ms/step - loss: -6.4147 - val_loss: -6.5112\n",
      "Epoch 27/50\n",
      "144/144 [==============================] - 3s 20ms/step - loss: -6.4192 - val_loss: -6.5111\n",
      "Epoch 28/50\n",
      "144/144 [==============================] - 3s 20ms/step - loss: -6.4265 - val_loss: -6.5190\n",
      "Epoch 29/50\n",
      "144/144 [==============================] - 3s 20ms/step - loss: -6.4331 - val_loss: -6.5235\n",
      "Epoch 30/50\n",
      "144/144 [==============================] - 3s 20ms/step - loss: -6.4378 - val_loss: -6.5278\n",
      "Epoch 31/50\n",
      "144/144 [==============================] - 3s 21ms/step - loss: -6.4427 - val_loss: -6.5309\n",
      "Epoch 32/50\n",
      "144/144 [==============================] - 3s 21ms/step - loss: -6.4458 - val_loss: -6.5340\n",
      "Epoch 33/50\n",
      "144/144 [==============================] - 3s 21ms/step - loss: -6.4505 - val_loss: -6.5387\n",
      "Epoch 34/50\n",
      "144/144 [==============================] - 3s 20ms/step - loss: -6.4544 - val_loss: -6.5399\n",
      "Epoch 35/50\n",
      "144/144 [==============================] - 3s 20ms/step - loss: -6.4582 - val_loss: -6.5430\n",
      "Epoch 36/50\n",
      "144/144 [==============================] - 3s 20ms/step - loss: -6.4590 - val_loss: -6.5485\n",
      "Epoch 37/50\n",
      "144/144 [==============================] - 3s 21ms/step - loss: -6.4609 - val_loss: -6.5497\n",
      "Epoch 38/50\n",
      "144/144 [==============================] - 3s 20ms/step - loss: -6.4605 - val_loss: -6.5535\n",
      "Epoch 39/50\n",
      "144/144 [==============================] - 3s 20ms/step - loss: -6.4655 - val_loss: -6.5526\n",
      "Epoch 40/50\n",
      "144/144 [==============================] - 3s 21ms/step - loss: -6.4694 - val_loss: -6.5585\n",
      "Epoch 41/50\n",
      "144/144 [==============================] - 3s 21ms/step - loss: -6.4752 - val_loss: -6.5601\n",
      "Epoch 42/50\n",
      "144/144 [==============================] - 3s 20ms/step - loss: -6.4743 - val_loss: -6.5645\n",
      "Epoch 43/50\n",
      "144/144 [==============================] - 3s 20ms/step - loss: -6.4763 - val_loss: -6.5611\n",
      "Epoch 44/50\n",
      "144/144 [==============================] - 3s 20ms/step - loss: -6.4791 - val_loss: -6.5607\n",
      "Epoch 45/50\n",
      "144/144 [==============================] - 3s 20ms/step - loss: -6.4824 - val_loss: -6.5607\n",
      "Epoch 46/50\n",
      "144/144 [==============================] - 3s 21ms/step - loss: -6.4854 - val_loss: -6.5579\n",
      "Epoch 47/50\n",
      "144/144 [==============================] - 3s 21ms/step - loss: -6.4884 - val_loss: -6.5617\n",
      "Epoch 48/50\n",
      "144/144 [==============================] - 3s 21ms/step - loss: -6.4908 - val_loss: -6.5628\n",
      "Epoch 49/50\n",
      "144/144 [==============================] - 3s 21ms/step - loss: -6.4932 - val_loss: -6.5656\n",
      "Epoch 50/50\n",
      "144/144 [==============================] - 3s 21ms/step - loss: -6.4946 - val_loss: -6.5744\n"
     ]
    },
    {
     "data": {
      "text/plain": [
       "<tensorflow.python.keras.callbacks.History at 0x1f3279740c8>"
      ]
     },
     "execution_count": 146,
     "metadata": {},
     "output_type": "execute_result"
    }
   ],
   "source": [
    "autoencoder.fit(X_train_temp_auto, X_train_temp_auto, epochs=50, batch_size=50, shuffle=False, validation_data=(X_test_temp_auto, X_test_temp_auto))"
   ]
  },
  {
   "cell_type": "code",
   "execution_count": 153,
   "metadata": {},
   "outputs": [
    {
     "name": "stdout",
     "output_type": "stream",
     "text": [
      "0.6161989964222553\n"
     ]
    }
   ],
   "source": [
    "X_train_autoencoder = autoencoder.predict(X_train_temp_auto)\n",
    "mse = ((X_train_temp_auto-X_train_autoencoder.reshape((720,54,43)))**2).mean()\n",
    "print(mse)\n"
   ]
  },
  {
   "cell_type": "markdown",
   "metadata": {},
   "source": [
    "#### This MSE is far worse than that of the PCA transform"
   ]
  },
  {
   "cell_type": "markdown",
   "metadata": {},
   "source": [
    "# Try XGBoost"
   ]
  },
  {
   "cell_type": "code",
   "execution_count": 179,
   "metadata": {},
   "outputs": [],
   "source": [
    "import xgboost as xgb"
   ]
  },
  {
   "cell_type": "code",
   "execution_count": 187,
   "metadata": {},
   "outputs": [],
   "source": [
    "y_train_bin_xg = Binarizer().fit_transform(y_train)\n",
    "y_test_bin_xg = Binarizer().fit_transform(y_test)\n",
    "dtrain = xgb.DMatrix(X_train_pca, label=y_train_bin_xg)\n",
    "dtest = xgb.DMatrix(X_test_pca, label=y_test_bin_xg)"
   ]
  },
  {
   "cell_type": "code",
   "execution_count": 190,
   "metadata": {},
   "outputs": [],
   "source": [
    "param = {'max_depth':100, 'eta':1, 'objective': 'binary:logistic'}\n",
    "param['eval_metric'] = 'auc'\n",
    "evallist = [(dtest,'eval'),(dtrain,'train')]\n",
    "num_round = 20"
   ]
  },
  {
   "cell_type": "code",
   "execution_count": 191,
   "metadata": {},
   "outputs": [
    {
     "name": "stdout",
     "output_type": "stream",
     "text": [
      "[0]\teval-auc:0.53034\ttrain-auc:0.98510\n",
      "[1]\teval-auc:0.54180\ttrain-auc:0.99996\n",
      "[2]\teval-auc:0.51548\ttrain-auc:1.00000\n",
      "[3]\teval-auc:0.52855\ttrain-auc:1.00000\n",
      "[4]\teval-auc:0.53201\ttrain-auc:1.00000\n",
      "[5]\teval-auc:0.53300\ttrain-auc:1.00000\n",
      "[6]\teval-auc:0.54229\ttrain-auc:1.00000\n",
      "[7]\teval-auc:0.54341\ttrain-auc:1.00000\n",
      "[8]\teval-auc:0.55492\ttrain-auc:1.00000\n",
      "[9]\teval-auc:0.54985\ttrain-auc:1.00000\n",
      "[10]\teval-auc:0.54774\ttrain-auc:1.00000\n",
      "[11]\teval-auc:0.54539\ttrain-auc:1.00000\n",
      "[12]\teval-auc:0.55071\ttrain-auc:1.00000\n",
      "[13]\teval-auc:0.54724\ttrain-auc:1.00000\n",
      "[14]\teval-auc:0.55517\ttrain-auc:1.00000\n",
      "[15]\teval-auc:0.55059\ttrain-auc:1.00000\n",
      "[16]\teval-auc:0.54737\ttrain-auc:1.00000\n",
      "[17]\teval-auc:0.55368\ttrain-auc:1.00000\n",
      "[18]\teval-auc:0.54997\ttrain-auc:1.00000\n",
      "[19]\teval-auc:0.55084\ttrain-auc:1.00000\n"
     ]
    }
   ],
   "source": [
    "bst = xgb.train(param, dtrain, num_round, evallist)"
   ]
  },
  {
   "cell_type": "code",
   "execution_count": 197,
   "metadata": {},
   "outputs": [],
   "source": [
    "y_pred = bst.predict(xgb.DMatrix(X_test_pca))\n",
    "y_pred_bin = y_pred>=0.5"
   ]
  },
  {
   "cell_type": "code",
   "execution_count": 201,
   "metadata": {},
   "outputs": [
    {
     "name": "stdout",
     "output_type": "stream",
     "text": [
      "F1 score: 0.5444444444444444\n"
     ]
    }
   ],
   "source": [
    "print('F1 score: '+str(f1_score(y_test_bin_xg, y_pred_bin, average='micro')))"
   ]
  },
  {
   "cell_type": "markdown",
   "metadata": {},
   "source": [
    "# Old Code"
   ]
  },
  {
   "cell_type": "code",
   "execution_count": 394,
   "metadata": {},
   "outputs": [
    {
     "name": "stdout",
     "output_type": "stream",
     "text": [
      "[(-1.0, 625), (0.0, 625), (1.0, 625)]\n"
     ]
    }
   ],
   "source": [
    "# Try some oversampling to combat the class imbalance\n",
    "x_resampled, y_resampled = SMOTE().fit_resample(X_train_pca, y_train)\n",
    "print(sorted(Counter(y_resampled).items()))\n",
    "\n",
    "#x_resampled, y_resampled = RandomOverSampler().fit_resample(X_train_pca, y_train)\n",
    "#print(sorted(Counter(y_resampled).items()))"
   ]
  },
  {
   "cell_type": "code",
   "execution_count": 395,
   "metadata": {},
   "outputs": [],
   "source": [
    "#rf = RandomForestClassifier(random_state=1337)\n",
    "rf = RandomForestClassifier(random_state=1337, criterion='entropy', max_depth=10, min_samples_split=15)\n",
    "#ad = AdaBoostClassifier(random_state=1337)"
   ]
  },
  {
   "cell_type": "code",
   "execution_count": 396,
   "metadata": {},
   "outputs": [],
   "source": [
    "#train best model\n",
    "clf = rf.fit(x_resampled, y_resampled)"
   ]
  },
  {
   "cell_type": "code",
   "execution_count": 387,
   "metadata": {},
   "outputs": [],
   "source": [
    "# HPO\n",
    "## Random Forest ##\n",
    "# parameters = {'max_depth':(10, 100), 'min_samples_split':[5, 15], 'criterion':['entropy','gini']}\n",
    "# clf = GridSearchCV(rf, parameters)\n",
    "# #clf.fit(X_train_pca, y_train_cat)\n",
    "# #clf.fit(X_train,y_train_bin)\n",
    "# clf.fit(x_resampled, y_resampled)\n",
    "# print(clf.best_score_)\n",
    "# print(clf.best_params_)\n",
    "\n",
    "## AdaBoost ##\n",
    "# parameters = {'n_estimators':[50, 100], 'learning_rate':[0.1, 1, 5]}\n",
    "# clf = GridSearchCV(ad, parameters)\n",
    "# #clf.fit(X_train_pca, y_train_bin)\n",
    "# clf.fit(X_train_autoencoder, y_train_cat)"
   ]
  },
  {
   "cell_type": "code",
   "execution_count": null,
   "metadata": {},
   "outputs": [],
   "source": [
    "# Transform target to 3 categories\n",
    "# med_ids = np.where(np.logical_and(-1.5<y, y<1.5))[0]\n",
    "# y[y>=1.5] = 1 \n",
    "# y[y<=-1.5] = -1\n",
    "# y[med_ids] = 0\n",
    "# X = np.concatenate((X_tas,X_psl),axis=1)\n",
    "# y=y.reshape(-1,1)"
   ]
  }
 ],
 "metadata": {
  "kernelspec": {
   "display_name": "UT",
   "language": "python",
   "name": "ut"
  },
  "language_info": {
   "codemirror_mode": {
    "name": "ipython",
    "version": 3
   },
   "file_extension": ".py",
   "mimetype": "text/x-python",
   "name": "python",
   "nbconvert_exporter": "python",
   "pygments_lexer": "ipython3",
   "version": "3.7.4"
  }
 },
 "nbformat": 4,
 "nbformat_minor": 4
}
