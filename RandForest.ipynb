{
 "cells": [
  {
   "cell_type": "markdown",
   "metadata": {},
   "source": [
    "# Drought Prediction in the Mediterranean"
   ]
  },
  {
   "cell_type": "code",
   "execution_count": 1,
   "metadata": {},
   "outputs": [],
   "source": [
    "from sklearn.ensemble import RandomForestClassifier, AdaBoostClassifier\n",
    "from sklearn.decomposition import PCA\n",
    "from sklearn.preprocessing import KBinsDiscretizer, Binarizer\n",
    "from sklearn.compose import ColumnTransformer\n",
    "from sklearn.model_selection import train_test_split\n",
    "#from sklearn.pipeline import Pipeline\n",
    "from sklearn.model_selection import cross_val_score\n",
    "from sklearn.model_selection import GridSearchCV\n",
    "from sklearn.metrics import confusion_matrix, f1_score, precision_score, plot_confusion_matrix\n",
    "from matplotlib import pyplot as plt\n",
    "from imblearn.over_sampling import RandomOverSampler\n",
    "from imblearn.pipeline import Pipeline\n",
    "from imblearn.over_sampling import SMOTE\n",
    "from collections import Counter\n",
    "%matplotlib inline\n",
    "import numpy as np\n",
    "import pandas as pd\n",
    "import pickle"
   ]
  },
  {
   "cell_type": "code",
   "execution_count": 6,
   "metadata": {},
   "outputs": [],
   "source": [
    "# # Train/Test Split - Just run once\n",
    "# X_tas = np.load('Data/tas_train.npy')\n",
    "# X_psl = np.load('Data/psl_train.npy')\n",
    "# y=np.load('Data/nao_index_train.npy')\n",
    "\n",
    "# X = np.concatenate((X_tas, X_psl),axis=1)\n",
    "# y=y.reshape(-1,1)\n",
    "\n",
    "# X_train, X_test, y_train, y_test = train_test_split(X, y, test_size=0.20, random_state=42)\n",
    "\n",
    "# np.save('Data/train/X_train.npy', X_train)\n",
    "# np.save('Data/test/X_test.npy', X_test)\n",
    "# np.save('Data/train/y_train.npy', y_train)\n",
    "# np.save('Data/test/y_test.npy', y_test)"
   ]
  },
  {
   "cell_type": "markdown",
   "metadata": {},
   "source": [
    "# Exploratory Data Analysis"
   ]
  },
  {
   "cell_type": "code",
   "execution_count": 2,
   "metadata": {},
   "outputs": [
    {
     "name": "stdout",
     "output_type": "stream",
     "text": [
      "(720, 4644)\n",
      "(720, 1)\n"
     ]
    }
   ],
   "source": [
    "#Load training data\n",
    "X_train = np.load('Data/train/X_train.npy')\n",
    "y_train = np.load('Data/train/y_train.npy')\n",
    "print(X_train.shape)\n",
    "print(y_train.shape)"
   ]
  },
  {
   "cell_type": "code",
   "execution_count": 3,
   "metadata": {},
   "outputs": [
    {
     "name": "stdout",
     "output_type": "stream",
     "text": [
      "Range of means:  0.10698490791697654\n",
      "Range of stdevs:  0.09475504033032955\n"
     ]
    }
   ],
   "source": [
    "# Data are standardized by column\n",
    "X_df = pd.DataFrame(X_train)\n",
    "print(\"Range of means: \",X_df.mean().max() - X_df.mean().min())\n",
    "print(\"Range of stdevs: \",X_df.std().max() - X_df.std().min())"
   ]
  },
  {
   "cell_type": "code",
   "execution_count": 4,
   "metadata": {},
   "outputs": [
    {
     "data": {
      "text/plain": [
       "0"
      ]
     },
     "execution_count": 4,
     "metadata": {},
     "output_type": "execute_result"
    }
   ],
   "source": [
    "# No missing data (synthetic dataset, so none are expected)\n",
    "X_df.isna().sum().sum()"
   ]
  },
  {
   "cell_type": "code",
   "execution_count": 5,
   "metadata": {
    "scrolled": true
   },
   "outputs": [
    {
     "data": {
      "image/png": "[encoded data removed]",
      "text/plain": [
       "<Figure size 432x288 with 1 Axes>"
      ]
     },
     "metadata": {
      "needs_background": "light"
     },
     "output_type": "display_data"
    }
   ],
   "source": [
    "# PCA - Virtually all variance is explained in the first 200 PCs of press and the first 500 PCs of temp\n",
    "num_components = [50,100,150,200,250,300,350,400,500]\n",
    "explained_variance_temp = []\n",
    "explained_variance_press = []\n",
    "for i in num_components:\n",
    "    pca_temp = PCA(n_components=i)\n",
    "    pca_press = PCA(n_components=i)\n",
    "    X_tas_pca = pca_temp.fit_transform(X_train[:,0:2322])\n",
    "    X_psl_pca = pca_press.fit_transform(X_train[:,2322:4645])\n",
    "    explained_variance_temp.append(pca_temp.explained_variance_ratio_.sum())\n",
    "    explained_variance_press.append(pca_press.explained_variance_ratio_.sum())\n",
    "\n",
    "    \n",
    "plt.plot(num_components,explained_variance_temp,'go',label=\"Temp\")\n",
    "plt.plot(num_components,explained_variance_press,\"r^\",label=\"Press\")\n",
    "plt.title(\"PCA Explained Variance\")\n",
    "plt.xlabel(\"Num Components\")\n",
    "plt.ylabel(\"% Explained Variance\")\n",
    "plt.legend(loc=\"lower right\")\n",
    "plt.show()\n"
   ]
  },
  {
   "cell_type": "code",
   "execution_count": 6,
   "metadata": {},
   "outputs": [
    {
     "data": {
      "image/png": "[encoded data removed]",
      "text/plain": [
       "<Figure size 432x288 with 1 Axes>"
      ]
     },
     "metadata": {
      "needs_background": "light"
     },
     "output_type": "display_data"
    }
   ],
   "source": [
    "np.histogram(y_train, bins=20);\n",
    "plt.title(\"NAO Index Histogram\")\n",
    "plt.xlabel(\"Index\")\n",
    "plt.ylabel(\"Frequency\")\n",
    "plt.hist(y_train,bins=20)\n",
    "plt.show()"
   ]
  },
  {
   "cell_type": "markdown",
   "metadata": {},
   "source": [
    "#### Investigate Correlation between target variable and each coordinate"
   ]
  },
  {
   "cell_type": "code",
   "execution_count": 7,
   "metadata": {},
   "outputs": [],
   "source": [
    "data = pd.DataFrame(X_train)"
   ]
  },
  {
   "cell_type": "code",
   "execution_count": 8,
   "metadata": {},
   "outputs": [
    {
     "data": {
      "image/png": "[encoded data removed]",
      "text/plain": [
       "<Figure size 432x288 with 1 Axes>"
      ]
     },
     "metadata": {
      "needs_background": "light"
     },
     "output_type": "display_data"
    }
   ],
   "source": [
    "data.corrwith(pd.Series(y_train.reshape(720,))).hist(bins=15);"
   ]
  },
  {
   "cell_type": "markdown",
   "metadata": {},
   "source": [
    "# Preprocessing"
   ]
  },
  {
   "cell_type": "code",
   "execution_count": 6,
   "metadata": {},
   "outputs": [],
   "source": [
    "# Transform Training Data with PCA\n",
    "pca_temp = PCA(n_components=125)\n",
    "pca_press = PCA(n_components=50)\n",
    "# After feedback from Eduardo Zorita, reduced the number of PCs.\n",
    "# pca_temp = PCA(n_components=15)\n",
    "# pca_press = PCA(n_components=15)\n",
    "\n",
    "X_tas_pca = pca_temp.fit_transform(X_train[:,0:2322])\n",
    "X_psl_pca = pca_press.fit_transform(X_train[:,2322:4645])\n",
    "X_train_pca = np.concatenate((X_tas_pca,X_psl_pca),axis=1)"
   ]
  },
  {
   "cell_type": "code",
   "execution_count": 7,
   "metadata": {},
   "outputs": [
    {
     "name": "stdout",
     "output_type": "stream",
     "text": [
      "MSE Temp: 0.039978632135274396\n",
      "MSE Press: 0.013623849179161466\n"
     ]
    }
   ],
   "source": [
    "# Calculate reconstruction error\n",
    "X_tas_projected = pca_temp.inverse_transform(X_tas_pca)\n",
    "X_psl_projected = pca_press.inverse_transform(X_psl_pca)\n",
    "loss_temp = ((X_train[:,0:2322]-X_tas_projected)**2).mean()\n",
    "loss_press = ((X_train[:,2322:4645]-X_psl_projected)**2).mean()\n",
    "print('MSE Temp: '+str(loss_temp))\n",
    "print('MSE Press: '+str(loss_press))"
   ]
  },
  {
   "cell_type": "code",
   "execution_count": 8,
   "metadata": {},
   "outputs": [],
   "source": [
    "y_train_bin = np.sign(y_train).reshape(-1,)\n",
    "# kbin = KBinsDiscretizer(n_bins=3, encode='ordinal', strategy='kmeans')\n",
    "# kbin = KBinsDiscretizer(n_bins=3, encode='ordinal', strategy='quantile')\n",
    "\n",
    "# y_train_cat= kbin.fit_transform(y_train.reshape(-1,1)).reshape(-1,)\n",
    "# print(pd.Series(y_train_cat).value_counts())\n",
    "# print(kbin.bin_edges_)"
   ]
  },
  {
   "cell_type": "markdown",
   "metadata": {},
   "source": [
    "# Random Forest Classifier\n",
    "## Binary Classification (positive or negative NAOI)"
   ]
  },
  {
   "cell_type": "code",
   "execution_count": 9,
   "metadata": {},
   "outputs": [],
   "source": [
    "rf = RandomForestClassifier(random_state=1337)"
   ]
  },
  {
   "cell_type": "code",
   "execution_count": 10,
   "metadata": {},
   "outputs": [
    {
     "name": "stdout",
     "output_type": "stream",
     "text": [
      "0.6518982229762063\n",
      "{'criterion': 'gini', 'max_depth': 10, 'min_samples_split': 5}\n"
     ]
    }
   ],
   "source": [
    "# HPO without PCA\n",
    "## Random Forest ##\n",
    "parameters = {'max_depth':(10, 100), 'min_samples_split':[5, 15], 'criterion':['entropy','gini']}\n",
    "clf = GridSearchCV(rf, parameters,scoring='f1')\n",
    "clf.fit(X_train,y_train_bin)\n",
    "print(clf.best_score_)\n",
    "print(clf.best_params_)"
   ]
  },
  {
   "cell_type": "markdown",
   "metadata": {},
   "source": [
    "Best F1 Score: 0.6518982229762063\n",
    "\n",
    "{'criterion': 'gini', 'max_depth': 10, 'min_samples_split': 5}"
   ]
  },
  {
   "cell_type": "code",
   "execution_count": 11,
   "metadata": {},
   "outputs": [
    {
     "data": {
      "text/html": [
       "<div>\n",
       "<style scoped>\n",
       "    .dataframe tbody tr th:only-of-type {\n",
       "        vertical-align: middle;\n",
       "    }\n",
       "\n",
       "    .dataframe tbody tr th {\n",
       "        vertical-align: top;\n",
       "    }\n",
       "\n",
       "    .dataframe thead th {\n",
       "        text-align: right;\n",
       "    }\n",
       "</style>\n",
       "<table border=\"1\" class=\"dataframe\">\n",
       "  <thead>\n",
       "    <tr style=\"text-align: right;\">\n",
       "      <th></th>\n",
       "      <th>mean_fit_time</th>\n",
       "      <th>std_fit_time</th>\n",
       "      <th>mean_score_time</th>\n",
       "      <th>std_score_time</th>\n",
       "      <th>param_criterion</th>\n",
       "      <th>param_max_depth</th>\n",
       "      <th>param_min_samples_split</th>\n",
       "      <th>params</th>\n",
       "      <th>split0_test_score</th>\n",
       "      <th>split1_test_score</th>\n",
       "      <th>split2_test_score</th>\n",
       "      <th>split3_test_score</th>\n",
       "      <th>split4_test_score</th>\n",
       "      <th>mean_test_score</th>\n",
       "      <th>std_test_score</th>\n",
       "      <th>rank_test_score</th>\n",
       "    </tr>\n",
       "  </thead>\n",
       "  <tbody>\n",
       "    <tr>\n",
       "      <th>0</th>\n",
       "      <td>2.758310</td>\n",
       "      <td>0.127190</td>\n",
       "      <td>0.013613</td>\n",
       "      <td>0.001219</td>\n",
       "      <td>entropy</td>\n",
       "      <td>10</td>\n",
       "      <td>5</td>\n",
       "      <td>{'criterion': 'entropy', 'max_depth': 10, 'min...</td>\n",
       "      <td>0.666667</td>\n",
       "      <td>0.583784</td>\n",
       "      <td>0.683938</td>\n",
       "      <td>0.630435</td>\n",
       "      <td>0.617801</td>\n",
       "      <td>0.636525</td>\n",
       "      <td>0.035569</td>\n",
       "      <td>3</td>\n",
       "    </tr>\n",
       "    <tr>\n",
       "      <th>1</th>\n",
       "      <td>2.740571</td>\n",
       "      <td>0.119680</td>\n",
       "      <td>0.012509</td>\n",
       "      <td>0.000422</td>\n",
       "      <td>entropy</td>\n",
       "      <td>10</td>\n",
       "      <td>15</td>\n",
       "      <td>{'criterion': 'entropy', 'max_depth': 10, 'min...</td>\n",
       "      <td>0.606383</td>\n",
       "      <td>0.604396</td>\n",
       "      <td>0.666667</td>\n",
       "      <td>0.622951</td>\n",
       "      <td>0.652406</td>\n",
       "      <td>0.630560</td>\n",
       "      <td>0.024932</td>\n",
       "      <td>6</td>\n",
       "    </tr>\n",
       "    <tr>\n",
       "      <th>2</th>\n",
       "      <td>2.908190</td>\n",
       "      <td>0.036275</td>\n",
       "      <td>0.011998</td>\n",
       "      <td>0.000249</td>\n",
       "      <td>entropy</td>\n",
       "      <td>100</td>\n",
       "      <td>5</td>\n",
       "      <td>{'criterion': 'entropy', 'max_depth': 100, 'mi...</td>\n",
       "      <td>0.612022</td>\n",
       "      <td>0.585635</td>\n",
       "      <td>0.666667</td>\n",
       "      <td>0.605405</td>\n",
       "      <td>0.639175</td>\n",
       "      <td>0.621781</td>\n",
       "      <td>0.028239</td>\n",
       "      <td>7</td>\n",
       "    </tr>\n",
       "    <tr>\n",
       "      <th>3</th>\n",
       "      <td>2.770911</td>\n",
       "      <td>0.042325</td>\n",
       "      <td>0.012379</td>\n",
       "      <td>0.000459</td>\n",
       "      <td>entropy</td>\n",
       "      <td>100</td>\n",
       "      <td>15</td>\n",
       "      <td>{'criterion': 'entropy', 'max_depth': 100, 'mi...</td>\n",
       "      <td>0.613757</td>\n",
       "      <td>0.607735</td>\n",
       "      <td>0.694737</td>\n",
       "      <td>0.633880</td>\n",
       "      <td>0.630435</td>\n",
       "      <td>0.636109</td>\n",
       "      <td>0.030916</td>\n",
       "      <td>4</td>\n",
       "    </tr>\n",
       "    <tr>\n",
       "      <th>4</th>\n",
       "      <td>1.528268</td>\n",
       "      <td>0.035313</td>\n",
       "      <td>0.013874</td>\n",
       "      <td>0.001547</td>\n",
       "      <td>gini</td>\n",
       "      <td>10</td>\n",
       "      <td>5</td>\n",
       "      <td>{'criterion': 'gini', 'max_depth': 10, 'min_sa...</td>\n",
       "      <td>0.620321</td>\n",
       "      <td>0.642487</td>\n",
       "      <td>0.713568</td>\n",
       "      <td>0.623656</td>\n",
       "      <td>0.659459</td>\n",
       "      <td>0.651898</td>\n",
       "      <td>0.033893</td>\n",
       "      <td>1</td>\n",
       "    </tr>\n",
       "    <tr>\n",
       "      <th>5</th>\n",
       "      <td>1.492679</td>\n",
       "      <td>0.032881</td>\n",
       "      <td>0.012194</td>\n",
       "      <td>0.000387</td>\n",
       "      <td>gini</td>\n",
       "      <td>10</td>\n",
       "      <td>15</td>\n",
       "      <td>{'criterion': 'gini', 'max_depth': 10, 'min_sa...</td>\n",
       "      <td>0.627660</td>\n",
       "      <td>0.595745</td>\n",
       "      <td>0.634921</td>\n",
       "      <td>0.645161</td>\n",
       "      <td>0.652632</td>\n",
       "      <td>0.631224</td>\n",
       "      <td>0.019686</td>\n",
       "      <td>5</td>\n",
       "    </tr>\n",
       "    <tr>\n",
       "      <th>6</th>\n",
       "      <td>1.702611</td>\n",
       "      <td>0.038729</td>\n",
       "      <td>0.013588</td>\n",
       "      <td>0.001336</td>\n",
       "      <td>gini</td>\n",
       "      <td>100</td>\n",
       "      <td>5</td>\n",
       "      <td>{'criterion': 'gini', 'max_depth': 100, 'min_s...</td>\n",
       "      <td>0.608696</td>\n",
       "      <td>0.652632</td>\n",
       "      <td>0.670157</td>\n",
       "      <td>0.602273</td>\n",
       "      <td>0.688172</td>\n",
       "      <td>0.644386</td>\n",
       "      <td>0.033754</td>\n",
       "      <td>2</td>\n",
       "    </tr>\n",
       "    <tr>\n",
       "      <th>7</th>\n",
       "      <td>1.674827</td>\n",
       "      <td>0.069773</td>\n",
       "      <td>0.012906</td>\n",
       "      <td>0.000868</td>\n",
       "      <td>gini</td>\n",
       "      <td>100</td>\n",
       "      <td>15</td>\n",
       "      <td>{'criterion': 'gini', 'max_depth': 100, 'min_s...</td>\n",
       "      <td>0.627027</td>\n",
       "      <td>0.568306</td>\n",
       "      <td>0.673575</td>\n",
       "      <td>0.595506</td>\n",
       "      <td>0.641304</td>\n",
       "      <td>0.621144</td>\n",
       "      <td>0.036440</td>\n",
       "      <td>8</td>\n",
       "    </tr>\n",
       "  </tbody>\n",
       "</table>\n",
       "</div>"
      ],
      "text/plain": [
       "   mean_fit_time  std_fit_time  mean_score_time  std_score_time  \\\n",
       "0       2.758310      0.127190         0.013613        0.001219   \n",
       "1       2.740571      0.119680         0.012509        0.000422   \n",
       "2       2.908190      0.036275         0.011998        0.000249   \n",
       "3       2.770911      0.042325         0.012379        0.000459   \n",
       "4       1.528268      0.035313         0.013874        0.001547   \n",
       "5       1.492679      0.032881         0.012194        0.000387   \n",
       "6       1.702611      0.038729         0.013588        0.001336   \n",
       "7       1.674827      0.069773         0.012906        0.000868   \n",
       "\n",
       "  param_criterion param_max_depth param_min_samples_split  \\\n",
       "0         entropy              10                       5   \n",
       "1         entropy              10                      15   \n",
       "2         entropy             100                       5   \n",
       "3         entropy             100                      15   \n",
       "4            gini              10                       5   \n",
       "5            gini              10                      15   \n",
       "6            gini             100                       5   \n",
       "7            gini             100                      15   \n",
       "\n",
       "                                              params  split0_test_score  \\\n",
       "0  {'criterion': 'entropy', 'max_depth': 10, 'min...           0.666667   \n",
       "1  {'criterion': 'entropy', 'max_depth': 10, 'min...           0.606383   \n",
       "2  {'criterion': 'entropy', 'max_depth': 100, 'mi...           0.612022   \n",
       "3  {'criterion': 'entropy', 'max_depth': 100, 'mi...           0.613757   \n",
       "4  {'criterion': 'gini', 'max_depth': 10, 'min_sa...           0.620321   \n",
       "5  {'criterion': 'gini', 'max_depth': 10, 'min_sa...           0.627660   \n",
       "6  {'criterion': 'gini', 'max_depth': 100, 'min_s...           0.608696   \n",
       "7  {'criterion': 'gini', 'max_depth': 100, 'min_s...           0.627027   \n",
       "\n",
       "   split1_test_score  split2_test_score  split3_test_score  split4_test_score  \\\n",
       "0           0.583784           0.683938           0.630435           0.617801   \n",
       "1           0.604396           0.666667           0.622951           0.652406   \n",
       "2           0.585635           0.666667           0.605405           0.639175   \n",
       "3           0.607735           0.694737           0.633880           0.630435   \n",
       "4           0.642487           0.713568           0.623656           0.659459   \n",
       "5           0.595745           0.634921           0.645161           0.652632   \n",
       "6           0.652632           0.670157           0.602273           0.688172   \n",
       "7           0.568306           0.673575           0.595506           0.641304   \n",
       "\n",
       "   mean_test_score  std_test_score  rank_test_score  \n",
       "0         0.636525        0.035569                3  \n",
       "1         0.630560        0.024932                6  \n",
       "2         0.621781        0.028239                7  \n",
       "3         0.636109        0.030916                4  \n",
       "4         0.651898        0.033893                1  \n",
       "5         0.631224        0.019686                5  \n",
       "6         0.644386        0.033754                2  \n",
       "7         0.621144        0.036440                8  "
      ]
     },
     "execution_count": 11,
     "metadata": {},
     "output_type": "execute_result"
    }
   ],
   "source": [
    "results = pd.DataFrame(clf.cv_results_)\n",
    "results"
   ]
  },
  {
   "cell_type": "code",
   "execution_count": 12,
   "metadata": {},
   "outputs": [
    {
     "name": "stdout",
     "output_type": "stream",
     "text": [
      "0.6820079069364086\n",
      "{'criterion': 'gini', 'max_depth': 10, 'min_samples_split': 15}\n"
     ]
    }
   ],
   "source": [
    "# HPO with PCA\n",
    "## Random Forest ##\n",
    "parameters = {'max_depth':(10, 100), 'min_samples_split':[5, 15], 'criterion':['entropy','gini']}\n",
    "clf = GridSearchCV(rf, parameters,scoring='f1')\n",
    "clf.fit(X_train_pca,y_train_bin)\n",
    "print(clf.best_score_)\n",
    "print(clf.best_params_)"
   ]
  },
  {
   "cell_type": "markdown",
   "metadata": {},
   "source": [
    "Best F1 Score: 0.6820079069364086\n",
    "\n",
    "{'criterion': 'gini', 'max_depth': 10, 'min_samples_split': 15}"
   ]
  },
  {
   "cell_type": "code",
   "execution_count": 13,
   "metadata": {},
   "outputs": [
    {
     "data": {
      "text/html": [
       "<div>\n",
       "<style scoped>\n",
       "    .dataframe tbody tr th:only-of-type {\n",
       "        vertical-align: middle;\n",
       "    }\n",
       "\n",
       "    .dataframe tbody tr th {\n",
       "        vertical-align: top;\n",
       "    }\n",
       "\n",
       "    .dataframe thead th {\n",
       "        text-align: right;\n",
       "    }\n",
       "</style>\n",
       "<table border=\"1\" class=\"dataframe\">\n",
       "  <thead>\n",
       "    <tr style=\"text-align: right;\">\n",
       "      <th></th>\n",
       "      <th>mean_fit_time</th>\n",
       "      <th>std_fit_time</th>\n",
       "      <th>mean_score_time</th>\n",
       "      <th>std_score_time</th>\n",
       "      <th>param_criterion</th>\n",
       "      <th>param_max_depth</th>\n",
       "      <th>param_min_samples_split</th>\n",
       "      <th>params</th>\n",
       "      <th>split0_test_score</th>\n",
       "      <th>split1_test_score</th>\n",
       "      <th>split2_test_score</th>\n",
       "      <th>split3_test_score</th>\n",
       "      <th>split4_test_score</th>\n",
       "      <th>mean_test_score</th>\n",
       "      <th>std_test_score</th>\n",
       "      <th>rank_test_score</th>\n",
       "    </tr>\n",
       "  </thead>\n",
       "  <tbody>\n",
       "    <tr>\n",
       "      <th>0</th>\n",
       "      <td>1.732737</td>\n",
       "      <td>0.181178</td>\n",
       "      <td>0.024518</td>\n",
       "      <td>0.002956</td>\n",
       "      <td>entropy</td>\n",
       "      <td>10</td>\n",
       "      <td>5</td>\n",
       "      <td>{'criterion': 'entropy', 'max_depth': 10, 'min...</td>\n",
       "      <td>0.690000</td>\n",
       "      <td>0.683417</td>\n",
       "      <td>0.670103</td>\n",
       "      <td>0.676768</td>\n",
       "      <td>0.686869</td>\n",
       "      <td>0.681431</td>\n",
       "      <td>0.007170</td>\n",
       "      <td>2</td>\n",
       "    </tr>\n",
       "    <tr>\n",
       "      <th>1</th>\n",
       "      <td>1.490977</td>\n",
       "      <td>0.056872</td>\n",
       "      <td>0.028521</td>\n",
       "      <td>0.002933</td>\n",
       "      <td>entropy</td>\n",
       "      <td>10</td>\n",
       "      <td>15</td>\n",
       "      <td>{'criterion': 'entropy', 'max_depth': 10, 'min...</td>\n",
       "      <td>0.680412</td>\n",
       "      <td>0.686567</td>\n",
       "      <td>0.680628</td>\n",
       "      <td>0.656566</td>\n",
       "      <td>0.670051</td>\n",
       "      <td>0.674845</td>\n",
       "      <td>0.010573</td>\n",
       "      <td>4</td>\n",
       "    </tr>\n",
       "    <tr>\n",
       "      <th>2</th>\n",
       "      <td>1.784997</td>\n",
       "      <td>0.137922</td>\n",
       "      <td>0.032681</td>\n",
       "      <td>0.011376</td>\n",
       "      <td>entropy</td>\n",
       "      <td>100</td>\n",
       "      <td>5</td>\n",
       "      <td>{'criterion': 'entropy', 'max_depth': 100, 'mi...</td>\n",
       "      <td>0.690355</td>\n",
       "      <td>0.626263</td>\n",
       "      <td>0.673684</td>\n",
       "      <td>0.630000</td>\n",
       "      <td>0.616216</td>\n",
       "      <td>0.647304</td>\n",
       "      <td>0.029182</td>\n",
       "      <td>8</td>\n",
       "    </tr>\n",
       "    <tr>\n",
       "      <th>3</th>\n",
       "      <td>1.973995</td>\n",
       "      <td>0.207036</td>\n",
       "      <td>0.040556</td>\n",
       "      <td>0.011983</td>\n",
       "      <td>entropy</td>\n",
       "      <td>100</td>\n",
       "      <td>15</td>\n",
       "      <td>{'criterion': 'entropy', 'max_depth': 100, 'mi...</td>\n",
       "      <td>0.680628</td>\n",
       "      <td>0.690000</td>\n",
       "      <td>0.715026</td>\n",
       "      <td>0.645833</td>\n",
       "      <td>0.670213</td>\n",
       "      <td>0.680340</td>\n",
       "      <td>0.022759</td>\n",
       "      <td>3</td>\n",
       "    </tr>\n",
       "    <tr>\n",
       "      <th>4</th>\n",
       "      <td>1.165604</td>\n",
       "      <td>0.212884</td>\n",
       "      <td>0.038262</td>\n",
       "      <td>0.012954</td>\n",
       "      <td>gini</td>\n",
       "      <td>10</td>\n",
       "      <td>5</td>\n",
       "      <td>{'criterion': 'gini', 'max_depth': 10, 'min_sa...</td>\n",
       "      <td>0.692308</td>\n",
       "      <td>0.683168</td>\n",
       "      <td>0.663212</td>\n",
       "      <td>0.670000</td>\n",
       "      <td>0.653061</td>\n",
       "      <td>0.672350</td>\n",
       "      <td>0.013974</td>\n",
       "      <td>5</td>\n",
       "    </tr>\n",
       "    <tr>\n",
       "      <th>5</th>\n",
       "      <td>1.022668</td>\n",
       "      <td>0.081241</td>\n",
       "      <td>0.025369</td>\n",
       "      <td>0.004742</td>\n",
       "      <td>gini</td>\n",
       "      <td>10</td>\n",
       "      <td>15</td>\n",
       "      <td>{'criterion': 'gini', 'max_depth': 10, 'min_sa...</td>\n",
       "      <td>0.673267</td>\n",
       "      <td>0.703518</td>\n",
       "      <td>0.683168</td>\n",
       "      <td>0.673469</td>\n",
       "      <td>0.676617</td>\n",
       "      <td>0.682008</td>\n",
       "      <td>0.011335</td>\n",
       "      <td>1</td>\n",
       "    </tr>\n",
       "    <tr>\n",
       "      <th>6</th>\n",
       "      <td>1.034553</td>\n",
       "      <td>0.027250</td>\n",
       "      <td>0.026597</td>\n",
       "      <td>0.006918</td>\n",
       "      <td>gini</td>\n",
       "      <td>100</td>\n",
       "      <td>5</td>\n",
       "      <td>{'criterion': 'gini', 'max_depth': 100, 'min_s...</td>\n",
       "      <td>0.676923</td>\n",
       "      <td>0.715026</td>\n",
       "      <td>0.645503</td>\n",
       "      <td>0.673469</td>\n",
       "      <td>0.618557</td>\n",
       "      <td>0.665896</td>\n",
       "      <td>0.032402</td>\n",
       "      <td>6</td>\n",
       "    </tr>\n",
       "    <tr>\n",
       "      <th>7</th>\n",
       "      <td>1.077076</td>\n",
       "      <td>0.056846</td>\n",
       "      <td>0.030227</td>\n",
       "      <td>0.005294</td>\n",
       "      <td>gini</td>\n",
       "      <td>100</td>\n",
       "      <td>15</td>\n",
       "      <td>{'criterion': 'gini', 'max_depth': 100, 'min_s...</td>\n",
       "      <td>0.635897</td>\n",
       "      <td>0.666667</td>\n",
       "      <td>0.663212</td>\n",
       "      <td>0.646465</td>\n",
       "      <td>0.663212</td>\n",
       "      <td>0.655091</td>\n",
       "      <td>0.011906</td>\n",
       "      <td>7</td>\n",
       "    </tr>\n",
       "  </tbody>\n",
       "</table>\n",
       "</div>"
      ],
      "text/plain": [
       "   mean_fit_time  std_fit_time  mean_score_time  std_score_time  \\\n",
       "0       1.732737      0.181178         0.024518        0.002956   \n",
       "1       1.490977      0.056872         0.028521        0.002933   \n",
       "2       1.784997      0.137922         0.032681        0.011376   \n",
       "3       1.973995      0.207036         0.040556        0.011983   \n",
       "4       1.165604      0.212884         0.038262        0.012954   \n",
       "5       1.022668      0.081241         0.025369        0.004742   \n",
       "6       1.034553      0.027250         0.026597        0.006918   \n",
       "7       1.077076      0.056846         0.030227        0.005294   \n",
       "\n",
       "  param_criterion param_max_depth param_min_samples_split  \\\n",
       "0         entropy              10                       5   \n",
       "1         entropy              10                      15   \n",
       "2         entropy             100                       5   \n",
       "3         entropy             100                      15   \n",
       "4            gini              10                       5   \n",
       "5            gini              10                      15   \n",
       "6            gini             100                       5   \n",
       "7            gini             100                      15   \n",
       "\n",
       "                                              params  split0_test_score  \\\n",
       "0  {'criterion': 'entropy', 'max_depth': 10, 'min...           0.690000   \n",
       "1  {'criterion': 'entropy', 'max_depth': 10, 'min...           0.680412   \n",
       "2  {'criterion': 'entropy', 'max_depth': 100, 'mi...           0.690355   \n",
       "3  {'criterion': 'entropy', 'max_depth': 100, 'mi...           0.680628   \n",
       "4  {'criterion': 'gini', 'max_depth': 10, 'min_sa...           0.692308   \n",
       "5  {'criterion': 'gini', 'max_depth': 10, 'min_sa...           0.673267   \n",
       "6  {'criterion': 'gini', 'max_depth': 100, 'min_s...           0.676923   \n",
       "7  {'criterion': 'gini', 'max_depth': 100, 'min_s...           0.635897   \n",
       "\n",
       "   split1_test_score  split2_test_score  split3_test_score  split4_test_score  \\\n",
       "0           0.683417           0.670103           0.676768           0.686869   \n",
       "1           0.686567           0.680628           0.656566           0.670051   \n",
       "2           0.626263           0.673684           0.630000           0.616216   \n",
       "3           0.690000           0.715026           0.645833           0.670213   \n",
       "4           0.683168           0.663212           0.670000           0.653061   \n",
       "5           0.703518           0.683168           0.673469           0.676617   \n",
       "6           0.715026           0.645503           0.673469           0.618557   \n",
       "7           0.666667           0.663212           0.646465           0.663212   \n",
       "\n",
       "   mean_test_score  std_test_score  rank_test_score  \n",
       "0         0.681431        0.007170                2  \n",
       "1         0.674845        0.010573                4  \n",
       "2         0.647304        0.029182                8  \n",
       "3         0.680340        0.022759                3  \n",
       "4         0.672350        0.013974                5  \n",
       "5         0.682008        0.011335                1  \n",
       "6         0.665896        0.032402                6  \n",
       "7         0.655091        0.011906                7  "
      ]
     },
     "execution_count": 13,
     "metadata": {},
     "output_type": "execute_result"
    }
   ],
   "source": [
    "# Equal if not better performance when using PCA transform\n",
    "results = pd.DataFrame(clf.cv_results_)\n",
    "results"
   ]
  },
  {
   "cell_type": "code",
   "execution_count": 14,
   "metadata": {},
   "outputs": [],
   "source": [
    "# Persist RF wPCA Model\n",
    "with open('Data/RF_Bin_wPCA', 'wb') as f:\n",
    "    pickle.dump(clf, f)"
   ]
  },
  {
   "cell_type": "markdown",
   "metadata": {},
   "source": [
    "## Testing"
   ]
  },
  {
   "cell_type": "code",
   "execution_count": 15,
   "metadata": {},
   "outputs": [],
   "source": [
    "# Load Test Data\n",
    "X_test = np.load('Data/test/X_test.npy')\n",
    "y_test = np.load('Data/test/y_test.npy')"
   ]
  },
  {
   "cell_type": "code",
   "execution_count": 16,
   "metadata": {},
   "outputs": [],
   "source": [
    "#transform test data\n",
    "X_tas_pca_test = pca_temp.transform(X_test[:,0:2322])\n",
    "X_psl_pca_test = pca_press.transform(X_test[:,2322:4645])\n",
    "X_test_pca = np.concatenate((X_tas_pca_test,X_psl_pca_test),axis=1)\n",
    "y_test_bin = np.sign(y_test)\n"
   ]
  },
  {
   "cell_type": "code",
   "execution_count": 17,
   "metadata": {},
   "outputs": [
    {
     "data": {
      "text/plain": [
       "<sklearn.metrics._plot.confusion_matrix.ConfusionMatrixDisplay at 0x15ae3958988>"
      ]
     },
     "execution_count": 17,
     "metadata": {},
     "output_type": "execute_result"
    },
    {
     "data": {
      "image/png": "[encoded data removed]",
      "text/plain": [
       "<Figure size 432x288 with 2 Axes>"
      ]
     },
     "metadata": {
      "needs_background": "light"
     },
     "output_type": "display_data"
    }
   ],
   "source": [
    "plot_confusion_matrix(clf, X_test_pca, y_test_bin)"
   ]
  },
  {
   "cell_type": "code",
   "execution_count": 18,
   "metadata": {},
   "outputs": [],
   "source": [
    "y_pred = clf.predict(X_test_pca)"
   ]
  },
  {
   "cell_type": "code",
   "execution_count": 19,
   "metadata": {},
   "outputs": [
    {
     "name": "stdout",
     "output_type": "stream",
     "text": [
      "F1 score: 0.6585365853658537\n"
     ]
    }
   ],
   "source": [
    "print('F1 score: '+str(f1_score(y_test_bin, y_pred, average='binary')))"
   ]
  },
  {
   "cell_type": "code",
   "execution_count": 20,
   "metadata": {},
   "outputs": [
    {
     "data": {
      "text/plain": [
       "(array([-1.,  1.]), array([85, 95], dtype=int64))"
      ]
     },
     "execution_count": 20,
     "metadata": {},
     "output_type": "execute_result"
    }
   ],
   "source": [
    "np.unique(y_test_bin, return_counts=True)"
   ]
  },
  {
   "cell_type": "markdown",
   "metadata": {},
   "source": [
    "# Autoencoder"
   ]
  },
  {
   "cell_type": "code",
   "execution_count": 27,
   "metadata": {},
   "outputs": [],
   "source": [
    "import keras\n",
    "from keras import layers\n",
    "from keras.optimizers import Adam"
   ]
  },
  {
   "cell_type": "code",
   "execution_count": 55,
   "metadata": {},
   "outputs": [],
   "source": [
    "# Simplest Autoencoder - This did not perform well. The loss remained the same at each epoch\n",
    "# encoding_dim = 255\n",
    "# input_img = keras.Input(shape=(54,43,))\n",
    "# encoded = layers.Dense(encoding_dim, activation='relu')(input_img)\n",
    "# decoded = layers.Dense(2322, activation='sigmoid')(encoded)\n",
    "# autoencoder = keras.Model(input_img, decoded)\n",
    "# encoder = keras.Model(input_img, encoded)\n",
    "# encoded_input = keras.Input(shape=(encoding_dim,))\n",
    "# decoder_layer = autoencoder.layers[-1]\n",
    "# decoder = keras.Model(encoded_input, decoder_layer(encoded_input))\n",
    "# customAdam = Adam(lr=0.001)\n",
    "# autoencoder.compile(optimizer='adam', loss='binary_crossentropy')"
   ]
  },
  {
   "cell_type": "code",
   "execution_count": 71,
   "metadata": {},
   "outputs": [
    {
     "name": "stdout",
     "output_type": "stream",
     "text": [
      "(None, 54, 43, 16)\n",
      "(None, 56, 48, 16)\n",
      "(None, 28, 24, 16)\n",
      "(None, 28, 24, 8)\n",
      "(None, 14, 12, 8)\n",
      "(None, 14, 12, 8)\n",
      "encoded (None, 7, 6, 8)\n",
      "(None, 7, 6, 8)\n",
      "(None, 14, 12, 8)\n",
      "(None, 14, 12, 8)\n",
      "(None, 28, 24, 8)\n",
      "(None, 28, 24, 16)\n",
      "(None, 56, 48, 16)\n",
      "Cropped (None, 54, 43, 16)\n",
      "(None, 54, 43, 1)\n"
     ]
    }
   ],
   "source": [
    "# Convolutional Encoder\n",
    "input_img = keras.Input(shape=(54,43,1))\n",
    "x = layers.Conv2D(16, (3, 3), activation='relu', padding='same')(input_img)\n",
    "print(x.shape)\n",
    "x = layers.ZeroPadding2D(padding=((0,2),(0,5)))(x)\n",
    "print(x.shape)\n",
    "x = layers.MaxPooling2D((2, 2), padding='same')(x)\n",
    "print(x.shape)\n",
    "x = layers.Conv2D(8, (3, 3), activation='relu', padding='same')(x)\n",
    "print(x.shape)\n",
    "x = layers.MaxPooling2D((2, 2), padding='same')(x)\n",
    "print(x.shape)\n",
    "x = layers.Conv2D(8, (3, 3), activation='relu', padding='same')(x)\n",
    "print(x.shape)\n",
    "encoded = layers.MaxPooling2D((2, 2), padding='same')(x)\n",
    "print('encoded',encoded.shape)\n",
    "\n",
    "# at this point the representation is (7,6,8) i.e. 336-dimensional\n",
    "\n",
    "x = layers.Conv2D(8, (3, 3), activation='relu', padding='same')(encoded)\n",
    "print(x.shape)\n",
    "x = layers.UpSampling2D((2, 2))(x)\n",
    "print(x.shape)\n",
    "x = layers.Conv2D(8, (3, 3), activation='relu', padding='same')(x)\n",
    "print(x.shape)\n",
    "x = layers.UpSampling2D((2, 2))(x)\n",
    "print(x.shape)\n",
    "x = layers.Conv2D(16, (3, 3), activation='relu', padding='same')(x)\n",
    "print(x.shape)\n",
    "x = layers.UpSampling2D((2, 2))(x)\n",
    "print(x.shape)\n",
    "x = layers.Cropping2D(cropping=((0,2),(0,5)))(x)\n",
    "print('Cropped',x.shape)\n",
    "decoded = layers.Conv2D(1, (3, 3), activation='sigmoid', padding='same')(x)\n",
    "print(decoded.shape)"
   ]
  },
  {
   "cell_type": "code",
   "execution_count": 73,
   "metadata": {},
   "outputs": [
    {
     "name": "stdout",
     "output_type": "stream",
     "text": [
      "(None, 54, 43, 16)\n",
      "(None, 56, 48, 16)\n",
      "encoded (None, 28, 24, 16)\n",
      "(None, 28, 24, 16)\n",
      "(None, 56, 48, 16)\n",
      "(None, 54, 43, 16)\n",
      "(None, 54, 43, 1)\n"
     ]
    }
   ],
   "source": [
    "input_img = keras.Input(shape=(54,43,1))\n",
    "x = layers.Conv2D(16, (3, 3), activation='relu', padding='same')(input_img)\n",
    "print(x.shape)\n",
    "x = layers.ZeroPadding2D(padding=((0,2),(0,5)))(x)\n",
    "print(x.shape)\n",
    "encoded = layers.MaxPooling2D((2, 2), padding='same')(x)\n",
    "print('encoded',encoded.shape)\n",
    "\n",
    "x = layers.Conv2D(16, (3, 3), activation='relu', padding='same')(encoded)\n",
    "print(x.shape)\n",
    "x = layers.UpSampling2D((2, 2))(x)\n",
    "print(x.shape)\n",
    "x = layers.Cropping2D(cropping=((0,2),(0,5)))(x)\n",
    "print(x.shape)\n",
    "decoded = layers.Conv2D(1, (3, 3), activation='sigmoid', padding='same')(x)\n",
    "print(decoded.shape)"
   ]
  },
  {
   "cell_type": "code",
   "execution_count": 74,
   "metadata": {},
   "outputs": [],
   "source": [
    "autoencoder = keras.Model(input_img, decoded)\n",
    "autoencoder.compile(optimizer='adam', loss='binary_crossentropy')"
   ]
  },
  {
   "cell_type": "markdown",
   "metadata": {},
   "source": [
    "## Preprocessing"
   ]
  },
  {
   "cell_type": "code",
   "execution_count": 75,
   "metadata": {},
   "outputs": [],
   "source": [
    "# For convolutional autoencoder\n",
    "X_train_temp_auto = X_train[:,0:2322].reshape((720,54,43))\n",
    "X_train_press_auto = X_train[:,2322:4645].reshape((720,54,43))\n",
    "X_test_temp_auto = X_test[:,0:2322].reshape((180,54,43))\n",
    "X_test_press_auto = X_test[:,2322:4645].reshape((180,54,43))"
   ]
  },
  {
   "cell_type": "markdown",
   "metadata": {},
   "source": [
    "## Train the Autoencoder"
   ]
  },
  {
   "cell_type": "code",
   "execution_count": 76,
   "metadata": {},
   "outputs": [
    {
     "name": "stdout",
     "output_type": "stream",
     "text": [
      "Epoch 1/100\n",
      "29/29 [==============================] - 2s 56ms/step - loss: -0.9251 - val_loss: -3.2026\n",
      "Epoch 2/100\n",
      "29/29 [==============================] - 2s 52ms/step - loss: -5.3084 - val_loss: -6.3749\n",
      "Epoch 3/100\n",
      "29/29 [==============================] - 2s 53ms/step - loss: -6.5506 - val_loss: -6.5931\n",
      "Epoch 4/100\n",
      "29/29 [==============================] - 2s 53ms/step - loss: -6.6715 - val_loss: -6.6703\n",
      "Epoch 5/100\n",
      "29/29 [==============================] - 2s 53ms/step - loss: -6.7378 - val_loss: -6.7266\n",
      "Epoch 6/100\n",
      "29/29 [==============================] - 2s 54ms/step - loss: -6.7871 - val_loss: -6.7673\n",
      "Epoch 7/100\n",
      "29/29 [==============================] - 2s 55ms/step - loss: -6.8221 - val_loss: -6.7956\n",
      "Epoch 8/100\n",
      "29/29 [==============================] - 2s 57ms/step - loss: -6.8468 - val_loss: -6.8170\n",
      "Epoch 9/100\n",
      "29/29 [==============================] - 2s 57ms/step - loss: -6.8659 - val_loss: -6.8337\n",
      "Epoch 10/100\n",
      "29/29 [==============================] - 2s 58ms/step - loss: -6.8808 - val_loss: -6.8480\n",
      "Epoch 11/100\n",
      "29/29 [==============================] - 2s 59ms/step - loss: -6.8943 - val_loss: -6.8618\n",
      "Epoch 12/100\n",
      "29/29 [==============================] - 2s 60ms/step - loss: -6.9093 - val_loss: -6.8783\n",
      "Epoch 13/100\n",
      "29/29 [==============================] - 2s 60ms/step - loss: -6.9266 - val_loss: -6.8965\n",
      "Epoch 14/100\n",
      "29/29 [==============================] - 2s 60ms/step - loss: -6.9449 - val_loss: -6.9153\n",
      "Epoch 15/100\n",
      "29/29 [==============================] - 2s 60ms/step - loss: -6.9624 - val_loss: -6.9317\n",
      "Epoch 16/100\n",
      "29/29 [==============================] - 2s 61ms/step - loss: -6.9781 - val_loss: -6.9464\n",
      "Epoch 17/100\n",
      "29/29 [==============================] - 2s 64ms/step - loss: -6.9913 - val_loss: -6.9582\n",
      "Epoch 18/100\n",
      "29/29 [==============================] - 2s 64ms/step - loss: -7.0020 - val_loss: -6.9676\n",
      "Epoch 19/100\n",
      "29/29 [==============================] - 2s 62ms/step - loss: -7.0106 - val_loss: -6.9754\n",
      "Epoch 20/100\n",
      "29/29 [==============================] - 2s 64ms/step - loss: -7.0178 - val_loss: -6.9816\n",
      "Epoch 21/100\n",
      "29/29 [==============================] - 2s 63ms/step - loss: -7.0236 - val_loss: -6.9872\n",
      "Epoch 22/100\n",
      "29/29 [==============================] - 2s 65ms/step - loss: -7.0292 - val_loss: -6.9922\n",
      "Epoch 23/100\n",
      "29/29 [==============================] - 2s 61ms/step - loss: -7.0338 - val_loss: -6.9966\n",
      "Epoch 24/100\n",
      "29/29 [==============================] - 2s 61ms/step - loss: -7.0380 - val_loss: -7.0004\n",
      "Epoch 25/100\n",
      "29/29 [==============================] - 2s 60ms/step - loss: -7.0416 - val_loss: -7.0036\n",
      "Epoch 26/100\n",
      "29/29 [==============================] - 2s 61ms/step - loss: -7.0448 - val_loss: -7.0068\n",
      "Epoch 27/100\n",
      "29/29 [==============================] - 2s 60ms/step - loss: -7.0479 - val_loss: -7.0095\n",
      "Epoch 28/100\n",
      "29/29 [==============================] - 2s 60ms/step - loss: -7.0505 - val_loss: -7.0118\n",
      "Epoch 29/100\n",
      "29/29 [==============================] - 2s 60ms/step - loss: -7.0529 - val_loss: -7.0143\n",
      "Epoch 30/100\n",
      "29/29 [==============================] - 2s 61ms/step - loss: -7.0551 - val_loss: -7.0165\n",
      "Epoch 31/100\n",
      "29/29 [==============================] - 2s 61ms/step - loss: -7.0571 - val_loss: -7.0185\n",
      "Epoch 32/100\n",
      "29/29 [==============================] - 2s 61ms/step - loss: -7.0591 - val_loss: -7.0204s - loss: -7.\n",
      "Epoch 33/100\n",
      "29/29 [==============================] - 2s 61ms/step - loss: -7.0609 - val_loss: -7.0217\n",
      "Epoch 34/100\n",
      "29/29 [==============================] - 2s 61ms/step - loss: -7.0623 - val_loss: -7.0236\n",
      "Epoch 35/100\n",
      "29/29 [==============================] - 2s 61ms/step - loss: -7.0639 - val_loss: -7.0249\n",
      "Epoch 36/100\n",
      "29/29 [==============================] - 2s 60ms/step - loss: -7.0651 - val_loss: -7.0260\n",
      "Epoch 37/100\n",
      "29/29 [==============================] - 2s 60ms/step - loss: -7.0665 - val_loss: -7.0275\n",
      "Epoch 38/100\n",
      "29/29 [==============================] - 2s 62ms/step - loss: -7.0676 - val_loss: -7.0288\n",
      "Epoch 39/100\n",
      "29/29 [==============================] - 2s 62ms/step - loss: -7.0687 - val_loss: -7.0299\n",
      "Epoch 40/100\n",
      "29/29 [==============================] - 2s 61ms/step - loss: -7.0697 - val_loss: -7.0306\n",
      "Epoch 41/100\n",
      "29/29 [==============================] - 2s 62ms/step - loss: -7.0707 - val_loss: -7.0319\n",
      "Epoch 42/100\n",
      "29/29 [==============================] - 2s 61ms/step - loss: -7.0714 - val_loss: -7.0326\n",
      "Epoch 43/100\n",
      "29/29 [==============================] - 2s 62ms/step - loss: -7.0721 - val_loss: -7.0325\n",
      "Epoch 44/100\n",
      "29/29 [==============================] - 2s 61ms/step - loss: -7.0727 - val_loss: -7.0340\n",
      "Epoch 45/100\n",
      "29/29 [==============================] - 2s 61ms/step - loss: -7.0739 - val_loss: -7.0351\n",
      "Epoch 46/100\n",
      "29/29 [==============================] - 2s 61ms/step - loss: -7.0744 - val_loss: -7.0348\n",
      "Epoch 47/100\n",
      "29/29 [==============================] - 2s 62ms/step - loss: -7.0750 - val_loss: -7.0355\n",
      "Epoch 48/100\n",
      "29/29 [==============================] - 2s 61ms/step - loss: -7.0755 - val_loss: -7.0369\n",
      "Epoch 49/100\n",
      "29/29 [==============================] - 2s 61ms/step - loss: -7.0764 - val_loss: -7.0376\n",
      "Epoch 50/100\n",
      "29/29 [==============================] - 2s 61ms/step - loss: -7.0770 - val_loss: -7.0381\n",
      "Epoch 51/100\n",
      "29/29 [==============================] - 2s 61ms/step - loss: -7.0776 - val_loss: -7.0387\n",
      "Epoch 52/100\n",
      "29/29 [==============================] - 2s 62ms/step - loss: -7.0780 - val_loss: -7.0392\n",
      "Epoch 53/100\n",
      "29/29 [==============================] - 2s 62ms/step - loss: -7.0785 - val_loss: -7.0396\n",
      "Epoch 54/100\n",
      "29/29 [==============================] - 2s 61ms/step - loss: -7.0790 - val_loss: -7.0402\n",
      "Epoch 55/100\n",
      "29/29 [==============================] - 2s 62ms/step - loss: -7.0796 - val_loss: -7.0405\n",
      "Epoch 56/100\n",
      "29/29 [==============================] - 2s 62ms/step - loss: -7.0800 - val_loss: -7.0412\n",
      "Epoch 57/100\n",
      "29/29 [==============================] - 2s 61ms/step - loss: -7.0805 - val_loss: -7.0414\n",
      "Epoch 58/100\n",
      "29/29 [==============================] - 2s 64ms/step - loss: -7.0808 - val_loss: -7.0422\n",
      "Epoch 59/100\n",
      "29/29 [==============================] - 2s 61ms/step - loss: -7.0815 - val_loss: -7.0427\n",
      "Epoch 60/100\n",
      "29/29 [==============================] - 2s 61ms/step - loss: -7.0819 - val_loss: -7.0428\n",
      "Epoch 61/100\n",
      "29/29 [==============================] - 2s 62ms/step - loss: -7.0823 - val_loss: -7.0434\n",
      "Epoch 62/100\n",
      "29/29 [==============================] - 2s 61ms/step - loss: -7.0828 - val_loss: -7.0435\n",
      "Epoch 63/100\n",
      "29/29 [==============================] - 2s 62ms/step - loss: -7.0831 - val_loss: -7.0444\n",
      "Epoch 64/100\n",
      "29/29 [==============================] - 2s 61ms/step - loss: -7.0835 - val_loss: -7.0449\n",
      "Epoch 65/100\n",
      "29/29 [==============================] - 2s 62ms/step - loss: -7.0838 - val_loss: -7.0447\n",
      "Epoch 66/100\n",
      "29/29 [==============================] - 2s 61ms/step - loss: -7.0843 - val_loss: -7.0456\n",
      "Epoch 67/100\n",
      "29/29 [==============================] - 2s 61ms/step - loss: -7.0847 - val_loss: -7.0461\n",
      "Epoch 68/100\n",
      "29/29 [==============================] - 2s 62ms/step - loss: -7.0851 - val_loss: -7.0465\n",
      "Epoch 69/100\n",
      "29/29 [==============================] - 2s 63ms/step - loss: -7.0857 - val_loss: -7.0468\n",
      "Epoch 70/100\n",
      "29/29 [==============================] - 2s 65ms/step - loss: -7.0861 - val_loss: -7.0472\n",
      "Epoch 71/100\n",
      "29/29 [==============================] - 2s 61ms/step - loss: -7.0862 - val_loss: -7.0476\n",
      "Epoch 72/100\n",
      "29/29 [==============================] - 2s 62ms/step - loss: -7.0867 - val_loss: -7.0479\n",
      "Epoch 73/100\n",
      "29/29 [==============================] - 2s 62ms/step - loss: -7.0872 - val_loss: -7.0484\n",
      "Epoch 74/100\n",
      "29/29 [==============================] - 2s 62ms/step - loss: -7.0874 - val_loss: -7.0488\n",
      "Epoch 75/100\n",
      "29/29 [==============================] - 2s 62ms/step - loss: -7.0879 - val_loss: -7.0493\n",
      "Epoch 76/100\n",
      "29/29 [==============================] - 2s 61ms/step - loss: -7.0883 - val_loss: -7.0497\n",
      "Epoch 77/100\n",
      "29/29 [==============================] - 2s 62ms/step - loss: -7.0887 - val_loss: -7.0497\n",
      "Epoch 78/100\n",
      "29/29 [==============================] - 2s 62ms/step - loss: -7.0891 - val_loss: -7.0504\n",
      "Epoch 79/100\n",
      "29/29 [==============================] - 2s 62ms/step - loss: -7.0894 - val_loss: -7.0505\n",
      "Epoch 80/100\n"
     ]
    },
    {
     "name": "stdout",
     "output_type": "stream",
     "text": [
      "29/29 [==============================] - 2s 60ms/step - loss: -7.0897 - val_loss: -7.0511\n",
      "Epoch 81/100\n",
      "29/29 [==============================] - 2s 60ms/step - loss: -7.0899 - val_loss: -7.0516\n",
      "Epoch 82/100\n",
      "29/29 [==============================] - 2s 63ms/step - loss: -7.0905 - val_loss: -7.0518\n",
      "Epoch 83/100\n",
      "29/29 [==============================] - 2s 63ms/step - loss: -7.0909 - val_loss: -7.0524\n",
      "Epoch 84/100\n",
      "29/29 [==============================] - 2s 61ms/step - loss: -7.0913 - val_loss: -7.0526\n",
      "Epoch 85/100\n",
      "29/29 [==============================] - 2s 63ms/step - loss: -7.0916 - val_loss: -7.0530\n",
      "Epoch 86/100\n",
      "29/29 [==============================] - 2s 64ms/step - loss: -7.0919 - val_loss: -7.0529\n",
      "Epoch 87/100\n",
      "29/29 [==============================] - 2s 62ms/step - loss: -7.0924 - val_loss: -7.0538\n",
      "Epoch 88/100\n",
      "29/29 [==============================] - 2s 60ms/step - loss: -7.0927 - val_loss: -7.0540\n",
      "Epoch 89/100\n",
      "29/29 [==============================] - 2s 60ms/step - loss: -7.0930 - val_loss: -7.0545\n",
      "Epoch 90/100\n",
      "29/29 [==============================] - 2s 61ms/step - loss: -7.0931 - val_loss: -7.0546\n",
      "Epoch 91/100\n",
      "29/29 [==============================] - 2s 62ms/step - loss: -7.0935 - val_loss: -7.0552\n",
      "Epoch 92/100\n",
      "29/29 [==============================] - 2s 61ms/step - loss: -7.0939 - val_loss: -7.0557\n",
      "Epoch 93/100\n",
      "29/29 [==============================] - 2s 60ms/step - loss: -7.0944 - val_loss: -7.0560\n",
      "Epoch 94/100\n",
      "29/29 [==============================] - 2s 60ms/step - loss: -7.0947 - val_loss: -7.0563\n",
      "Epoch 95/100\n",
      "29/29 [==============================] - 2s 62ms/step - loss: -7.0951 - val_loss: -7.0566\n",
      "Epoch 96/100\n",
      "29/29 [==============================] - 2s 60ms/step - loss: -7.0953 - val_loss: -7.0562\n",
      "Epoch 97/100\n",
      "29/29 [==============================] - 2s 60ms/step - loss: -7.0956 - val_loss: -7.0573\n",
      "Epoch 98/100\n",
      "29/29 [==============================] - 2s 60ms/step - loss: -7.0961 - val_loss: -7.0576\n",
      "Epoch 99/100\n",
      "29/29 [==============================] - 2s 60ms/step - loss: -7.0964 - val_loss: -7.0579\n",
      "Epoch 100/100\n",
      "29/29 [==============================] - 2s 60ms/step - loss: -7.0967 - val_loss: -7.0581\n"
     ]
    },
    {
     "data": {
      "text/plain": [
       "<tensorflow.python.keras.callbacks.History at 0x15afc514448>"
      ]
     },
     "execution_count": 76,
     "metadata": {},
     "output_type": "execute_result"
    }
   ],
   "source": [
    "autoencoder.fit(X_train_press_auto, X_train_press_auto, epochs=100, batch_size=25, shuffle=True, validation_data=(X_test_press_auto, X_test_press_auto))"
   ]
  },
  {
   "cell_type": "code",
   "execution_count": 77,
   "metadata": {},
   "outputs": [
    {
     "name": "stdout",
     "output_type": "stream",
     "text": [
      "0.5912405100637436\n"
     ]
    }
   ],
   "source": [
    "X_train_autoencoder = autoencoder.predict(X_train_temp_auto)\n",
    "mse = ((X_train_temp_auto-X_train_autoencoder.reshape((720,54,43)))**2).mean()\n",
    "print(mse)\n"
   ]
  },
  {
   "cell_type": "markdown",
   "metadata": {},
   "source": [
    "#### This MSE is far worse than that of the PCA transform"
   ]
  },
  {
   "cell_type": "markdown",
   "metadata": {},
   "source": [
    "# Try XGBoost"
   ]
  },
  {
   "cell_type": "code",
   "execution_count": 21,
   "metadata": {},
   "outputs": [],
   "source": [
    "import xgboost as xgb"
   ]
  },
  {
   "cell_type": "code",
   "execution_count": 22,
   "metadata": {},
   "outputs": [],
   "source": [
    "y_train_bin_xg = Binarizer().fit_transform(y_train)\n",
    "y_test_bin_xg = Binarizer().fit_transform(y_test)\n",
    "dtrain = xgb.DMatrix(X_train_pca, label=y_train_bin_xg)\n",
    "dtest = xgb.DMatrix(X_test_pca, label=y_test_bin_xg)"
   ]
  },
  {
   "cell_type": "code",
   "execution_count": 23,
   "metadata": {},
   "outputs": [],
   "source": [
    "param = {'max_depth':100, 'eta':1, 'objective': 'binary:logistic'}\n",
    "param['eval_metric'] = 'auc'\n",
    "evallist = [(dtest,'eval'),(dtrain,'train')]\n",
    "num_round = 20"
   ]
  },
  {
   "cell_type": "code",
   "execution_count": 24,
   "metadata": {},
   "outputs": [
    {
     "name": "stdout",
     "output_type": "stream",
     "text": [
      "[0]\teval-auc:0.49567\ttrain-auc:0.98282\n",
      "[1]\teval-auc:0.53071\ttrain-auc:0.99990\n",
      "[2]\teval-auc:0.52768\ttrain-auc:1.00000\n",
      "[3]\teval-auc:0.53226\ttrain-auc:1.00000\n",
      "[4]\teval-auc:0.52050\ttrain-auc:1.00000\n",
      "[5]\teval-auc:0.50861\ttrain-auc:1.00000\n",
      "[6]\teval-auc:0.51096\ttrain-auc:1.00000\n",
      "[7]\teval-auc:0.50514\ttrain-auc:1.00000\n",
      "[8]\teval-auc:0.51703\ttrain-auc:1.00000\n",
      "[9]\teval-auc:0.52099\ttrain-auc:1.00000\n",
      "[10]\teval-auc:0.52000\ttrain-auc:1.00000\n",
      "[11]\teval-auc:0.52000\ttrain-auc:1.00000\n",
      "[12]\teval-auc:0.52768\ttrain-auc:1.00000\n",
      "[13]\teval-auc:0.52656\ttrain-auc:1.00000\n",
      "[14]\teval-auc:0.52780\ttrain-auc:1.00000\n",
      "[15]\teval-auc:0.52892\ttrain-auc:1.00000\n",
      "[16]\teval-auc:0.51901\ttrain-auc:1.00000\n",
      "[17]\teval-auc:0.51529\ttrain-auc:1.00000\n",
      "[18]\teval-auc:0.51591\ttrain-auc:1.00000\n",
      "[19]\teval-auc:0.52186\ttrain-auc:1.00000\n"
     ]
    }
   ],
   "source": [
    "bst = xgb.train(param, dtrain, num_round, evallist)"
   ]
  },
  {
   "cell_type": "code",
   "execution_count": 25,
   "metadata": {},
   "outputs": [],
   "source": [
    "y_pred = bst.predict(xgb.DMatrix(X_test_pca))\n",
    "y_pred_bin = y_pred>=0.5"
   ]
  },
  {
   "cell_type": "code",
   "execution_count": 26,
   "metadata": {},
   "outputs": [
    {
     "name": "stdout",
     "output_type": "stream",
     "text": [
      "F1 score: 0.5728155339805826\n"
     ]
    }
   ],
   "source": [
    "print('F1 score: '+str(f1_score(y_test_bin_xg, y_pred_bin, average='binary')))"
   ]
  },
  {
   "cell_type": "markdown",
   "metadata": {},
   "source": [
    "# Old Code"
   ]
  },
  {
   "cell_type": "code",
   "execution_count": 394,
   "metadata": {},
   "outputs": [
    {
     "name": "stdout",
     "output_type": "stream",
     "text": [
      "[(-1.0, 625), (0.0, 625), (1.0, 625)]\n"
     ]
    }
   ],
   "source": [
    "# Try some oversampling to combat the class imbalance\n",
    "x_resampled, y_resampled = SMOTE().fit_resample(X_train_pca, y_train)\n",
    "print(sorted(Counter(y_resampled).items()))\n",
    "\n",
    "#x_resampled, y_resampled = RandomOverSampler().fit_resample(X_train_pca, y_train)\n",
    "#print(sorted(Counter(y_resampled).items()))"
   ]
  },
  {
   "cell_type": "code",
   "execution_count": 395,
   "metadata": {},
   "outputs": [],
   "source": [
    "#rf = RandomForestClassifier(random_state=1337)\n",
    "rf = RandomForestClassifier(random_state=1337, criterion='entropy', max_depth=10, min_samples_split=15)\n",
    "#ad = AdaBoostClassifier(random_state=1337)"
   ]
  },
  {
   "cell_type": "code",
   "execution_count": 396,
   "metadata": {},
   "outputs": [],
   "source": [
    "#train best model\n",
    "clf = rf.fit(x_resampled, y_resampled)"
   ]
  },
  {
   "cell_type": "code",
   "execution_count": 387,
   "metadata": {},
   "outputs": [],
   "source": [
    "# HPO\n",
    "## Random Forest ##\n",
    "# parameters = {'max_depth':(10, 100), 'min_samples_split':[5, 15], 'criterion':['entropy','gini']}\n",
    "# clf = GridSearchCV(rf, parameters)\n",
    "# #clf.fit(X_train_pca, y_train_cat)\n",
    "# #clf.fit(X_train,y_train_bin)\n",
    "# clf.fit(x_resampled, y_resampled)\n",
    "# print(clf.best_score_)\n",
    "# print(clf.best_params_)\n",
    "\n",
    "## AdaBoost ##\n",
    "# parameters = {'n_estimators':[50, 100], 'learning_rate':[0.1, 1, 5]}\n",
    "# clf = GridSearchCV(ad, parameters)\n",
    "# #clf.fit(X_train_pca, y_train_bin)\n",
    "# clf.fit(X_train_autoencoder, y_train_cat)"
   ]
  },
  {
   "cell_type": "code",
   "execution_count": null,
   "metadata": {},
   "outputs": [],
   "source": [
    "# Transform target to 3 categories\n",
    "# med_ids = np.where(np.logical_and(-1.5<y, y<1.5))[0]\n",
    "# y[y>=1.5] = 1 \n",
    "# y[y<=-1.5] = -1\n",
    "# y[med_ids] = 0\n",
    "# X = np.concatenate((X_tas,X_psl),axis=1)\n",
    "# y=y.reshape(-1,1)"
   ]
  }
 ],
 "metadata": {
  "kernelspec": {
   "display_name": "UT",
   "language": "python",
   "name": "ut"
  },
  "language_info": {
   "codemirror_mode": {
    "name": "ipython",
    "version": 3
   },
   "file_extension": ".py",
   "mimetype": "text/x-python",
   "name": "python",
   "nbconvert_exporter": "python",
   "pygments_lexer": "ipython3",
   "version": "3.7.4"
  }
 },
 "nbformat": 4,
 "nbformat_minor": 4
}
