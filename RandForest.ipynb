{
 "cells": [
  {
   "cell_type": "code",
   "execution_count": 66,
   "metadata": {},
   "outputs": [],
   "source": [
    "from sklearn.ensemble import RandomForestClassifier, AdaBoostClassifier\n",
    "from sklearn.decomposition import PCA\n",
    "from sklearn.preprocessing import KBinsDiscretizer\n",
    "from sklearn.compose import ColumnTransformer\n",
    "from sklearn.model_selection import train_test_split\n",
    "#from sklearn.pipeline import Pipeline\n",
    "from sklearn.model_selection import cross_val_score\n",
    "from sklearn.model_selection import GridSearchCV\n",
    "from sklearn.metrics import confusion_matrix, f1_score, precision_score, plot_confusion_matrix\n",
    "from matplotlib import pyplot as plt\n",
    "from imblearn.over_sampling import RandomOverSampler\n",
    "from imblearn.pipeline import Pipeline\n",
    "from imblearn.over_sampling import SMOTE\n",
    "from collections import Counter\n",
    "%matplotlib inline\n",
    "import numpy as np\n",
    "import pandas as pd\n",
    "import pickle"
   ]
  },
  {
   "cell_type": "code",
   "execution_count": 6,
   "metadata": {},
   "outputs": [],
   "source": [
    "# # Train/Test Split - Just run once\n",
    "# X_tas = np.load('Data/tas_train.npy')\n",
    "# X_psl = np.load('Data/psl_train.npy')\n",
    "# y=np.load('Data/nao_index_train.npy')\n",
    "\n",
    "# X = np.concatenate((X_tas, X_psl),axis=1)\n",
    "# y=y.reshape(-1,1)\n",
    "\n",
    "# X_train, X_test, y_train, y_test = train_test_split(X, y, test_size=0.20, random_state=42)\n",
    "\n",
    "# np.save('Data/train/X_train.npy', X_train)\n",
    "# np.save('Data/test/X_test.npy', X_test)\n",
    "# np.save('Data/train/y_train.npy', y_train)\n",
    "# np.save('Data/test/y_test.npy', y_test)"
   ]
  },
  {
   "cell_type": "markdown",
   "metadata": {},
   "source": [
    "# Exploratory Data Analysis"
   ]
  },
  {
   "cell_type": "code",
   "execution_count": 14,
   "metadata": {},
   "outputs": [
    {
     "name": "stdout",
     "output_type": "stream",
     "text": [
      "(720, 4644)\n",
      "(720, 1)\n"
     ]
    }
   ],
   "source": [
    "#Load training data\n",
    "X_train = np.load('Data/train/X_train.npy')\n",
    "y_train = np.load('Data/train/y_train.npy')\n",
    "print(X_train.shape)\n",
    "print(y_train.shape)"
   ]
  },
  {
   "cell_type": "code",
   "execution_count": 20,
   "metadata": {},
   "outputs": [
    {
     "name": "stdout",
     "output_type": "stream",
     "text": [
      "Range of means:  0.10698490791697654\n",
      "Range of stdevs:  0.09475504033032955\n"
     ]
    }
   ],
   "source": [
    "# Data are standardized by column\n",
    "X_df = pd.DataFrame(X_train)\n",
    "print(\"Range of means: \",X_df.mean().max() - X_df.mean().min())\n",
    "print(\"Range of stdevs: \",X_df.std().max() - X_df.std().min())"
   ]
  },
  {
   "cell_type": "code",
   "execution_count": 11,
   "metadata": {},
   "outputs": [
    {
     "data": {
      "text/plain": [
       "0"
      ]
     },
     "execution_count": 11,
     "metadata": {},
     "output_type": "execute_result"
    }
   ],
   "source": [
    "# No missing data (synthetic dataset, so none are expected)\n",
    "X_df.isna().sum().sum()"
   ]
  },
  {
   "cell_type": "code",
   "execution_count": 33,
   "metadata": {
    "scrolled": true
   },
   "outputs": [
    {
     "data": {
      "image/png": "[encoded data removed]",
      "text/plain": [
       "<Figure size 432x288 with 1 Axes>"
      ]
     },
     "metadata": {
      "needs_background": "light"
     },
     "output_type": "display_data"
    }
   ],
   "source": [
    "# PCA - Virtually all variance is explained in the first 200 PCs of press and the first 500 PCs of temp\n",
    "num_components = [50,100,150,200,250,300,350,400,500]\n",
    "explained_variance_temp = []\n",
    "explained_variance_press = []\n",
    "for i in num_components:\n",
    "    pca_temp = PCA(n_components=i)\n",
    "    pca_press = PCA(n_components=i)\n",
    "    X_tas_pca = pca_temp.fit_transform(X_train[:,0:2321])\n",
    "    X_psl_pca = pca_press.fit_transform(X_train[:,2322:4643])\n",
    "    explained_variance_temp.append(pca_temp.explained_variance_ratio_.sum())\n",
    "    explained_variance_press.append(pca_press.explained_variance_ratio_.sum())\n",
    "\n",
    "    \n",
    "plt.plot(num_components,explained_variance_temp,'go',label=\"Temp\")\n",
    "plt.plot(num_components,explained_variance_press,\"r^\",label=\"Press\")\n",
    "plt.title(\"PCA Explained Variance\")\n",
    "plt.xlabel(\"Num Components\")\n",
    "plt.ylabel(\"% Explained Variance\")\n",
    "plt.legend(loc=\"lower right\")\n",
    "plt.show()\n"
   ]
  },
  {
   "cell_type": "code",
   "execution_count": 36,
   "metadata": {},
   "outputs": [
    {
     "data": {
      "text/plain": [
       "(array([  1.,   1.,   0.,   3.,   7.,  13.,  34.,  32.,  54.,  60.,  81.,\n",
       "         98., 100.,  88.,  75.,  38.,  23.,   8.,   3.,   1.]),\n",
       " array([-3.85065722, -3.51365315, -3.17664909, -2.83964502, -2.50264096,\n",
       "        -2.16563689, -1.82863283, -1.49162876, -1.1546247 , -0.81762063,\n",
       "        -0.48061657, -0.1436125 ,  0.19339157,  0.53039563,  0.8673997 ,\n",
       "         1.20440376,  1.54140783,  1.87841189,  2.21541596,  2.55242002,\n",
       "         2.88942409]),\n",
       " <BarContainer object of 20 artists>)"
      ]
     },
     "execution_count": 36,
     "metadata": {},
     "output_type": "execute_result"
    },
    {
     "data": {
      "image/png": "[encoded data removed]",
      "text/plain": [
       "<Figure size 432x288 with 1 Axes>"
      ]
     },
     "metadata": {
      "needs_background": "light"
     },
     "output_type": "display_data"
    }
   ],
   "source": [
    "np.histogram(y_train, bins=20);\n",
    "plt.hist(y_train,bins=20)"
   ]
  },
  {
   "cell_type": "markdown",
   "metadata": {},
   "source": [
    "# Preprocessing"
   ]
  },
  {
   "cell_type": "code",
   "execution_count": 48,
   "metadata": {},
   "outputs": [],
   "source": [
    "# Transform Training Data with PCA\n",
    "pca_temp = PCA(n_components=500)\n",
    "pca_press = PCA(n_components=200)\n",
    "X_tas_pca = pca_temp.fit_transform(X_train[:,0:2321])\n",
    "X_psl_pca = pca_press.fit_transform(X_train[:,2322:4643])\n",
    "X_train_pca = np.concatenate((X_tas_pca,X_psl_pca),axis=1)"
   ]
  },
  {
   "cell_type": "code",
   "execution_count": 37,
   "metadata": {},
   "outputs": [],
   "source": [
    "y_train_bin = np.sign(y_train).reshape(-1,)\n",
    "# kbin = KBinsDiscretizer(n_bins=3, encode='ordinal', strategy='kmeans')\n",
    "# kbin = KBinsDiscretizer(n_bins=3, encode='ordinal', strategy='quantile')\n",
    "\n",
    "# y_train_cat= kbin.fit_transform(y_train.reshape(-1,1)).reshape(-1,)\n",
    "# print(pd.Series(y_train_cat).value_counts())\n",
    "# print(kbin.bin_edges_)"
   ]
  },
  {
   "cell_type": "markdown",
   "metadata": {},
   "source": [
    "# Random Forest Classifier\n",
    "## Binary Classification (positive or negative NAOI)"
   ]
  },
  {
   "cell_type": "code",
   "execution_count": 39,
   "metadata": {},
   "outputs": [],
   "source": [
    "rf = RandomForestClassifier(random_state=1337)"
   ]
  },
  {
   "cell_type": "code",
   "execution_count": 42,
   "metadata": {},
   "outputs": [
    {
     "name": "stdout",
     "output_type": "stream",
     "text": [
      "0.5430555555555555\n",
      "{'criterion': 'gini', 'max_depth': 100, 'min_samples_split': 5}\n"
     ]
    }
   ],
   "source": [
    "# HPO without PCA\n",
    "## Random Forest ##\n",
    "parameters = {'max_depth':(10, 100), 'min_samples_split':[5, 15], 'criterion':['entropy','gini']}\n",
    "clf = GridSearchCV(rf, parameters,scoring='f1_micro')\n",
    "clf.fit(X_train,y_train_bin)\n",
    "print(clf.best_score_)\n",
    "print(clf.best_params_)"
   ]
  },
  {
   "cell_type": "markdown",
   "metadata": {},
   "source": [
    "Best Score: 0.5430555555555555\n",
    "\n",
    "Best Params: {'criterion': 'gini', 'max_depth': 100, 'min_samples_split': 5}"
   ]
  },
  {
   "cell_type": "code",
   "execution_count": 46,
   "metadata": {},
   "outputs": [
    {
     "data": {
      "text/html": [
       "<div>\n",
       "<style scoped>\n",
       "    .dataframe tbody tr th:only-of-type {\n",
       "        vertical-align: middle;\n",
       "    }\n",
       "\n",
       "    .dataframe tbody tr th {\n",
       "        vertical-align: top;\n",
       "    }\n",
       "\n",
       "    .dataframe thead th {\n",
       "        text-align: right;\n",
       "    }\n",
       "</style>\n",
       "<table border=\"1\" class=\"dataframe\">\n",
       "  <thead>\n",
       "    <tr style=\"text-align: right;\">\n",
       "      <th></th>\n",
       "      <th>mean_fit_time</th>\n",
       "      <th>std_fit_time</th>\n",
       "      <th>mean_score_time</th>\n",
       "      <th>std_score_time</th>\n",
       "      <th>param_criterion</th>\n",
       "      <th>param_max_depth</th>\n",
       "      <th>param_min_samples_split</th>\n",
       "      <th>params</th>\n",
       "      <th>split0_test_score</th>\n",
       "      <th>split1_test_score</th>\n",
       "      <th>split2_test_score</th>\n",
       "      <th>split3_test_score</th>\n",
       "      <th>split4_test_score</th>\n",
       "      <th>mean_test_score</th>\n",
       "      <th>std_test_score</th>\n",
       "      <th>rank_test_score</th>\n",
       "    </tr>\n",
       "  </thead>\n",
       "  <tbody>\n",
       "    <tr>\n",
       "      <th>0</th>\n",
       "      <td>2.943947</td>\n",
       "      <td>0.036387</td>\n",
       "      <td>0.015631</td>\n",
       "      <td>0.002286</td>\n",
       "      <td>entropy</td>\n",
       "      <td>10</td>\n",
       "      <td>5</td>\n",
       "      <td>{'criterion': 'entropy', 'max_depth': 10, 'min...</td>\n",
       "      <td>0.576389</td>\n",
       "      <td>0.465278</td>\n",
       "      <td>0.576389</td>\n",
       "      <td>0.527778</td>\n",
       "      <td>0.493056</td>\n",
       "      <td>0.527778</td>\n",
       "      <td>0.044358</td>\n",
       "      <td>4</td>\n",
       "    </tr>\n",
       "    <tr>\n",
       "      <th>1</th>\n",
       "      <td>3.054767</td>\n",
       "      <td>0.091264</td>\n",
       "      <td>0.015892</td>\n",
       "      <td>0.001954</td>\n",
       "      <td>entropy</td>\n",
       "      <td>10</td>\n",
       "      <td>15</td>\n",
       "      <td>{'criterion': 'entropy', 'max_depth': 10, 'min...</td>\n",
       "      <td>0.486111</td>\n",
       "      <td>0.500000</td>\n",
       "      <td>0.548611</td>\n",
       "      <td>0.520833</td>\n",
       "      <td>0.548611</td>\n",
       "      <td>0.520833</td>\n",
       "      <td>0.025230</td>\n",
       "      <td>5</td>\n",
       "    </tr>\n",
       "    <tr>\n",
       "      <th>2</th>\n",
       "      <td>3.417422</td>\n",
       "      <td>0.110275</td>\n",
       "      <td>0.018340</td>\n",
       "      <td>0.003511</td>\n",
       "      <td>entropy</td>\n",
       "      <td>100</td>\n",
       "      <td>5</td>\n",
       "      <td>{'criterion': 'entropy', 'max_depth': 100, 'mi...</td>\n",
       "      <td>0.506944</td>\n",
       "      <td>0.479167</td>\n",
       "      <td>0.555556</td>\n",
       "      <td>0.493056</td>\n",
       "      <td>0.513889</td>\n",
       "      <td>0.509722</td>\n",
       "      <td>0.025835</td>\n",
       "      <td>8</td>\n",
       "    </tr>\n",
       "    <tr>\n",
       "      <th>3</th>\n",
       "      <td>3.281793</td>\n",
       "      <td>0.070005</td>\n",
       "      <td>0.017593</td>\n",
       "      <td>0.002014</td>\n",
       "      <td>entropy</td>\n",
       "      <td>100</td>\n",
       "      <td>15</td>\n",
       "      <td>{'criterion': 'entropy', 'max_depth': 100, 'mi...</td>\n",
       "      <td>0.493056</td>\n",
       "      <td>0.506944</td>\n",
       "      <td>0.597222</td>\n",
       "      <td>0.534722</td>\n",
       "      <td>0.527778</td>\n",
       "      <td>0.531944</td>\n",
       "      <td>0.035843</td>\n",
       "      <td>3</td>\n",
       "    </tr>\n",
       "    <tr>\n",
       "      <th>4</th>\n",
       "      <td>1.832055</td>\n",
       "      <td>0.034881</td>\n",
       "      <td>0.014944</td>\n",
       "      <td>0.000756</td>\n",
       "      <td>gini</td>\n",
       "      <td>10</td>\n",
       "      <td>5</td>\n",
       "      <td>{'criterion': 'gini', 'max_depth': 10, 'min_sa...</td>\n",
       "      <td>0.506944</td>\n",
       "      <td>0.520833</td>\n",
       "      <td>0.604167</td>\n",
       "      <td>0.513889</td>\n",
       "      <td>0.562500</td>\n",
       "      <td>0.541667</td>\n",
       "      <td>0.036747</td>\n",
       "      <td>2</td>\n",
       "    </tr>\n",
       "    <tr>\n",
       "      <th>5</th>\n",
       "      <td>1.786029</td>\n",
       "      <td>0.051446</td>\n",
       "      <td>0.015358</td>\n",
       "      <td>0.001015</td>\n",
       "      <td>gini</td>\n",
       "      <td>10</td>\n",
       "      <td>15</td>\n",
       "      <td>{'criterion': 'gini', 'max_depth': 10, 'min_sa...</td>\n",
       "      <td>0.513889</td>\n",
       "      <td>0.472222</td>\n",
       "      <td>0.520833</td>\n",
       "      <td>0.541667</td>\n",
       "      <td>0.541667</td>\n",
       "      <td>0.518056</td>\n",
       "      <td>0.025459</td>\n",
       "      <td>6</td>\n",
       "    </tr>\n",
       "    <tr>\n",
       "      <th>6</th>\n",
       "      <td>2.020679</td>\n",
       "      <td>0.060403</td>\n",
       "      <td>0.016608</td>\n",
       "      <td>0.002780</td>\n",
       "      <td>gini</td>\n",
       "      <td>100</td>\n",
       "      <td>5</td>\n",
       "      <td>{'criterion': 'gini', 'max_depth': 100, 'min_s...</td>\n",
       "      <td>0.500000</td>\n",
       "      <td>0.541667</td>\n",
       "      <td>0.562500</td>\n",
       "      <td>0.513889</td>\n",
       "      <td>0.597222</td>\n",
       "      <td>0.543056</td>\n",
       "      <td>0.034694</td>\n",
       "      <td>1</td>\n",
       "    </tr>\n",
       "    <tr>\n",
       "      <th>7</th>\n",
       "      <td>2.044202</td>\n",
       "      <td>0.081119</td>\n",
       "      <td>0.015634</td>\n",
       "      <td>0.002997</td>\n",
       "      <td>gini</td>\n",
       "      <td>100</td>\n",
       "      <td>15</td>\n",
       "      <td>{'criterion': 'gini', 'max_depth': 100, 'min_s...</td>\n",
       "      <td>0.520833</td>\n",
       "      <td>0.451389</td>\n",
       "      <td>0.562500</td>\n",
       "      <td>0.500000</td>\n",
       "      <td>0.541667</td>\n",
       "      <td>0.515278</td>\n",
       "      <td>0.038138</td>\n",
       "      <td>7</td>\n",
       "    </tr>\n",
       "  </tbody>\n",
       "</table>\n",
       "</div>"
      ],
      "text/plain": [
       "   mean_fit_time  std_fit_time  mean_score_time  std_score_time  \\\n",
       "0       2.943947      0.036387         0.015631        0.002286   \n",
       "1       3.054767      0.091264         0.015892        0.001954   \n",
       "2       3.417422      0.110275         0.018340        0.003511   \n",
       "3       3.281793      0.070005         0.017593        0.002014   \n",
       "4       1.832055      0.034881         0.014944        0.000756   \n",
       "5       1.786029      0.051446         0.015358        0.001015   \n",
       "6       2.020679      0.060403         0.016608        0.002780   \n",
       "7       2.044202      0.081119         0.015634        0.002997   \n",
       "\n",
       "  param_criterion param_max_depth param_min_samples_split  \\\n",
       "0         entropy              10                       5   \n",
       "1         entropy              10                      15   \n",
       "2         entropy             100                       5   \n",
       "3         entropy             100                      15   \n",
       "4            gini              10                       5   \n",
       "5            gini              10                      15   \n",
       "6            gini             100                       5   \n",
       "7            gini             100                      15   \n",
       "\n",
       "                                              params  split0_test_score  \\\n",
       "0  {'criterion': 'entropy', 'max_depth': 10, 'min...           0.576389   \n",
       "1  {'criterion': 'entropy', 'max_depth': 10, 'min...           0.486111   \n",
       "2  {'criterion': 'entropy', 'max_depth': 100, 'mi...           0.506944   \n",
       "3  {'criterion': 'entropy', 'max_depth': 100, 'mi...           0.493056   \n",
       "4  {'criterion': 'gini', 'max_depth': 10, 'min_sa...           0.506944   \n",
       "5  {'criterion': 'gini', 'max_depth': 10, 'min_sa...           0.513889   \n",
       "6  {'criterion': 'gini', 'max_depth': 100, 'min_s...           0.500000   \n",
       "7  {'criterion': 'gini', 'max_depth': 100, 'min_s...           0.520833   \n",
       "\n",
       "   split1_test_score  split2_test_score  split3_test_score  split4_test_score  \\\n",
       "0           0.465278           0.576389           0.527778           0.493056   \n",
       "1           0.500000           0.548611           0.520833           0.548611   \n",
       "2           0.479167           0.555556           0.493056           0.513889   \n",
       "3           0.506944           0.597222           0.534722           0.527778   \n",
       "4           0.520833           0.604167           0.513889           0.562500   \n",
       "5           0.472222           0.520833           0.541667           0.541667   \n",
       "6           0.541667           0.562500           0.513889           0.597222   \n",
       "7           0.451389           0.562500           0.500000           0.541667   \n",
       "\n",
       "   mean_test_score  std_test_score  rank_test_score  \n",
       "0         0.527778        0.044358                4  \n",
       "1         0.520833        0.025230                5  \n",
       "2         0.509722        0.025835                8  \n",
       "3         0.531944        0.035843                3  \n",
       "4         0.541667        0.036747                2  \n",
       "5         0.518056        0.025459                6  \n",
       "6         0.543056        0.034694                1  \n",
       "7         0.515278        0.038138                7  "
      ]
     },
     "execution_count": 46,
     "metadata": {},
     "output_type": "execute_result"
    }
   ],
   "source": [
    "results = pd.DataFrame(clf.cv_results_)\n",
    "results"
   ]
  },
  {
   "cell_type": "code",
   "execution_count": 49,
   "metadata": {},
   "outputs": [
    {
     "name": "stdout",
     "output_type": "stream",
     "text": [
      "0.548611111111111\n",
      "{'criterion': 'gini', 'max_depth': 10, 'min_samples_split': 5}\n"
     ]
    }
   ],
   "source": [
    "# HPO with PCA\n",
    "## Random Forest ##\n",
    "parameters = {'max_depth':(10, 100), 'min_samples_split':[5, 15], 'criterion':['entropy','gini']}\n",
    "clf = GridSearchCV(rf, parameters,scoring='f1_micro')\n",
    "clf.fit(X_train_pca,y_train_bin)\n",
    "print(clf.best_score_)\n",
    "print(clf.best_params_)"
   ]
  },
  {
   "cell_type": "markdown",
   "metadata": {},
   "source": [
    "Best Score: 0.548611111111111\n",
    "\n",
    "Best Params: {'criterion': 'gini', 'max_depth': 10, 'min_samples_split': 5}"
   ]
  },
  {
   "cell_type": "code",
   "execution_count": 50,
   "metadata": {},
   "outputs": [
    {
     "data": {
      "text/html": [
       "<div>\n",
       "<style scoped>\n",
       "    .dataframe tbody tr th:only-of-type {\n",
       "        vertical-align: middle;\n",
       "    }\n",
       "\n",
       "    .dataframe tbody tr th {\n",
       "        vertical-align: top;\n",
       "    }\n",
       "\n",
       "    .dataframe thead th {\n",
       "        text-align: right;\n",
       "    }\n",
       "</style>\n",
       "<table border=\"1\" class=\"dataframe\">\n",
       "  <thead>\n",
       "    <tr style=\"text-align: right;\">\n",
       "      <th></th>\n",
       "      <th>mean_fit_time</th>\n",
       "      <th>std_fit_time</th>\n",
       "      <th>mean_score_time</th>\n",
       "      <th>std_score_time</th>\n",
       "      <th>param_criterion</th>\n",
       "      <th>param_max_depth</th>\n",
       "      <th>param_min_samples_split</th>\n",
       "      <th>params</th>\n",
       "      <th>split0_test_score</th>\n",
       "      <th>split1_test_score</th>\n",
       "      <th>split2_test_score</th>\n",
       "      <th>split3_test_score</th>\n",
       "      <th>split4_test_score</th>\n",
       "      <th>mean_test_score</th>\n",
       "      <th>std_test_score</th>\n",
       "      <th>rank_test_score</th>\n",
       "    </tr>\n",
       "  </thead>\n",
       "  <tbody>\n",
       "    <tr>\n",
       "      <th>0</th>\n",
       "      <td>1.200942</td>\n",
       "      <td>0.005981</td>\n",
       "      <td>0.014036</td>\n",
       "      <td>0.001604</td>\n",
       "      <td>entropy</td>\n",
       "      <td>10</td>\n",
       "      <td>5</td>\n",
       "      <td>{'criterion': 'entropy', 'max_depth': 10, 'min...</td>\n",
       "      <td>0.534722</td>\n",
       "      <td>0.534722</td>\n",
       "      <td>0.541667</td>\n",
       "      <td>0.513889</td>\n",
       "      <td>0.576389</td>\n",
       "      <td>0.540278</td>\n",
       "      <td>0.020318</td>\n",
       "      <td>4</td>\n",
       "    </tr>\n",
       "    <tr>\n",
       "      <th>1</th>\n",
       "      <td>1.178871</td>\n",
       "      <td>0.018643</td>\n",
       "      <td>0.010775</td>\n",
       "      <td>0.000863</td>\n",
       "      <td>entropy</td>\n",
       "      <td>10</td>\n",
       "      <td>15</td>\n",
       "      <td>{'criterion': 'entropy', 'max_depth': 10, 'min...</td>\n",
       "      <td>0.548611</td>\n",
       "      <td>0.513889</td>\n",
       "      <td>0.534722</td>\n",
       "      <td>0.548611</td>\n",
       "      <td>0.513889</td>\n",
       "      <td>0.531944</td>\n",
       "      <td>0.015590</td>\n",
       "      <td>6</td>\n",
       "    </tr>\n",
       "    <tr>\n",
       "      <th>2</th>\n",
       "      <td>1.293631</td>\n",
       "      <td>0.009125</td>\n",
       "      <td>0.013555</td>\n",
       "      <td>0.004025</td>\n",
       "      <td>entropy</td>\n",
       "      <td>100</td>\n",
       "      <td>5</td>\n",
       "      <td>{'criterion': 'entropy', 'max_depth': 100, 'mi...</td>\n",
       "      <td>0.555556</td>\n",
       "      <td>0.534722</td>\n",
       "      <td>0.541667</td>\n",
       "      <td>0.527778</td>\n",
       "      <td>0.548611</td>\n",
       "      <td>0.541667</td>\n",
       "      <td>0.009821</td>\n",
       "      <td>3</td>\n",
       "    </tr>\n",
       "    <tr>\n",
       "      <th>3</th>\n",
       "      <td>1.250098</td>\n",
       "      <td>0.019983</td>\n",
       "      <td>0.011338</td>\n",
       "      <td>0.000390</td>\n",
       "      <td>entropy</td>\n",
       "      <td>100</td>\n",
       "      <td>15</td>\n",
       "      <td>{'criterion': 'entropy', 'max_depth': 100, 'mi...</td>\n",
       "      <td>0.520833</td>\n",
       "      <td>0.500000</td>\n",
       "      <td>0.513889</td>\n",
       "      <td>0.513889</td>\n",
       "      <td>0.534722</td>\n",
       "      <td>0.516667</td>\n",
       "      <td>0.011283</td>\n",
       "      <td>8</td>\n",
       "    </tr>\n",
       "    <tr>\n",
       "      <th>4</th>\n",
       "      <td>0.700459</td>\n",
       "      <td>0.015514</td>\n",
       "      <td>0.011360</td>\n",
       "      <td>0.000551</td>\n",
       "      <td>gini</td>\n",
       "      <td>10</td>\n",
       "      <td>5</td>\n",
       "      <td>{'criterion': 'gini', 'max_depth': 10, 'min_sa...</td>\n",
       "      <td>0.562500</td>\n",
       "      <td>0.527778</td>\n",
       "      <td>0.541667</td>\n",
       "      <td>0.527778</td>\n",
       "      <td>0.583333</td>\n",
       "      <td>0.548611</td>\n",
       "      <td>0.021517</td>\n",
       "      <td>1</td>\n",
       "    </tr>\n",
       "    <tr>\n",
       "      <th>5</th>\n",
       "      <td>0.721774</td>\n",
       "      <td>0.036039</td>\n",
       "      <td>0.011851</td>\n",
       "      <td>0.002324</td>\n",
       "      <td>gini</td>\n",
       "      <td>10</td>\n",
       "      <td>15</td>\n",
       "      <td>{'criterion': 'gini', 'max_depth': 10, 'min_sa...</td>\n",
       "      <td>0.555556</td>\n",
       "      <td>0.520833</td>\n",
       "      <td>0.541667</td>\n",
       "      <td>0.541667</td>\n",
       "      <td>0.527778</td>\n",
       "      <td>0.537500</td>\n",
       "      <td>0.012108</td>\n",
       "      <td>5</td>\n",
       "    </tr>\n",
       "    <tr>\n",
       "      <th>6</th>\n",
       "      <td>0.772860</td>\n",
       "      <td>0.021999</td>\n",
       "      <td>0.011253</td>\n",
       "      <td>0.000867</td>\n",
       "      <td>gini</td>\n",
       "      <td>100</td>\n",
       "      <td>5</td>\n",
       "      <td>{'criterion': 'gini', 'max_depth': 100, 'min_s...</td>\n",
       "      <td>0.534722</td>\n",
       "      <td>0.548611</td>\n",
       "      <td>0.479167</td>\n",
       "      <td>0.493056</td>\n",
       "      <td>0.569444</td>\n",
       "      <td>0.525000</td>\n",
       "      <td>0.033907</td>\n",
       "      <td>7</td>\n",
       "    </tr>\n",
       "    <tr>\n",
       "      <th>7</th>\n",
       "      <td>0.787180</td>\n",
       "      <td>0.101975</td>\n",
       "      <td>0.011122</td>\n",
       "      <td>0.000925</td>\n",
       "      <td>gini</td>\n",
       "      <td>100</td>\n",
       "      <td>15</td>\n",
       "      <td>{'criterion': 'gini', 'max_depth': 100, 'min_s...</td>\n",
       "      <td>0.527778</td>\n",
       "      <td>0.527778</td>\n",
       "      <td>0.541667</td>\n",
       "      <td>0.548611</td>\n",
       "      <td>0.569444</td>\n",
       "      <td>0.543056</td>\n",
       "      <td>0.015466</td>\n",
       "      <td>2</td>\n",
       "    </tr>\n",
       "  </tbody>\n",
       "</table>\n",
       "</div>"
      ],
      "text/plain": [
       "   mean_fit_time  std_fit_time  mean_score_time  std_score_time  \\\n",
       "0       1.200942      0.005981         0.014036        0.001604   \n",
       "1       1.178871      0.018643         0.010775        0.000863   \n",
       "2       1.293631      0.009125         0.013555        0.004025   \n",
       "3       1.250098      0.019983         0.011338        0.000390   \n",
       "4       0.700459      0.015514         0.011360        0.000551   \n",
       "5       0.721774      0.036039         0.011851        0.002324   \n",
       "6       0.772860      0.021999         0.011253        0.000867   \n",
       "7       0.787180      0.101975         0.011122        0.000925   \n",
       "\n",
       "  param_criterion param_max_depth param_min_samples_split  \\\n",
       "0         entropy              10                       5   \n",
       "1         entropy              10                      15   \n",
       "2         entropy             100                       5   \n",
       "3         entropy             100                      15   \n",
       "4            gini              10                       5   \n",
       "5            gini              10                      15   \n",
       "6            gini             100                       5   \n",
       "7            gini             100                      15   \n",
       "\n",
       "                                              params  split0_test_score  \\\n",
       "0  {'criterion': 'entropy', 'max_depth': 10, 'min...           0.534722   \n",
       "1  {'criterion': 'entropy', 'max_depth': 10, 'min...           0.548611   \n",
       "2  {'criterion': 'entropy', 'max_depth': 100, 'mi...           0.555556   \n",
       "3  {'criterion': 'entropy', 'max_depth': 100, 'mi...           0.520833   \n",
       "4  {'criterion': 'gini', 'max_depth': 10, 'min_sa...           0.562500   \n",
       "5  {'criterion': 'gini', 'max_depth': 10, 'min_sa...           0.555556   \n",
       "6  {'criterion': 'gini', 'max_depth': 100, 'min_s...           0.534722   \n",
       "7  {'criterion': 'gini', 'max_depth': 100, 'min_s...           0.527778   \n",
       "\n",
       "   split1_test_score  split2_test_score  split3_test_score  split4_test_score  \\\n",
       "0           0.534722           0.541667           0.513889           0.576389   \n",
       "1           0.513889           0.534722           0.548611           0.513889   \n",
       "2           0.534722           0.541667           0.527778           0.548611   \n",
       "3           0.500000           0.513889           0.513889           0.534722   \n",
       "4           0.527778           0.541667           0.527778           0.583333   \n",
       "5           0.520833           0.541667           0.541667           0.527778   \n",
       "6           0.548611           0.479167           0.493056           0.569444   \n",
       "7           0.527778           0.541667           0.548611           0.569444   \n",
       "\n",
       "   mean_test_score  std_test_score  rank_test_score  \n",
       "0         0.540278        0.020318                4  \n",
       "1         0.531944        0.015590                6  \n",
       "2         0.541667        0.009821                3  \n",
       "3         0.516667        0.011283                8  \n",
       "4         0.548611        0.021517                1  \n",
       "5         0.537500        0.012108                5  \n",
       "6         0.525000        0.033907                7  \n",
       "7         0.543056        0.015466                2  "
      ]
     },
     "execution_count": 50,
     "metadata": {},
     "output_type": "execute_result"
    }
   ],
   "source": [
    "# Equal if not better performance when using PCA transform\n",
    "results = pd.DataFrame(clf.cv_results_)\n",
    "results"
   ]
  },
  {
   "cell_type": "code",
   "execution_count": 67,
   "metadata": {},
   "outputs": [],
   "source": [
    "# Persist RF wPCA Model\n",
    "with open('Data/RF_Bin_wPCA', 'wb') as f:\n",
    "    pickle.dump(clf, f)"
   ]
  },
  {
   "cell_type": "markdown",
   "metadata": {},
   "source": [
    "## Testing"
   ]
  },
  {
   "cell_type": "code",
   "execution_count": 51,
   "metadata": {},
   "outputs": [],
   "source": [
    "# Load Test Data\n",
    "X_test = np.load('Data/test/X_test.npy')\n",
    "y_test = np.load('Data/test/y_test.npy')"
   ]
  },
  {
   "cell_type": "code",
   "execution_count": 52,
   "metadata": {},
   "outputs": [],
   "source": [
    "#transform test data\n",
    "X_tas_pca_test = pca_temp.transform(X_test[:,0:2321])\n",
    "X_psl_pca_test = pca_press.transform(X_test[:,2322:4643])\n",
    "X_test_pca = np.concatenate((X_tas_pca_test,X_psl_pca_test),axis=1)\n",
    "y_test_bin = np.sign(y_test)\n"
   ]
  },
  {
   "cell_type": "code",
   "execution_count": 58,
   "metadata": {},
   "outputs": [
    {
     "data": {
      "text/plain": [
       "<sklearn.metrics._plot.confusion_matrix.ConfusionMatrixDisplay at 0x24fbbfe4cc8>"
      ]
     },
     "execution_count": 58,
     "metadata": {},
     "output_type": "execute_result"
    },
    {
     "data": {
      "image/png": "[encoded data removed]",
      "text/plain": [
       "<Figure size 432x288 with 2 Axes>"
      ]
     },
     "metadata": {
      "needs_background": "light"
     },
     "output_type": "display_data"
    }
   ],
   "source": [
    "plot_confusion_matrix(clf, X_test_pca, y_test_bin)"
   ]
  },
  {
   "cell_type": "code",
   "execution_count": 59,
   "metadata": {},
   "outputs": [],
   "source": [
    "y_pred = clf.predict(X_test_pca)"
   ]
  },
  {
   "cell_type": "code",
   "execution_count": 60,
   "metadata": {},
   "outputs": [
    {
     "name": "stdout",
     "output_type": "stream",
     "text": [
      "F1 score: 0.55\n"
     ]
    }
   ],
   "source": [
    "print('F1 score: '+str(f1_score(y_test_bin, y_pred, average='micro')))"
   ]
  },
  {
   "cell_type": "code",
   "execution_count": 64,
   "metadata": {},
   "outputs": [
    {
     "data": {
      "text/plain": [
       "(array([-1.,  1.]), array([85, 95], dtype=int64))"
      ]
     },
     "execution_count": 64,
     "metadata": {},
     "output_type": "execute_result"
    }
   ],
   "source": [
    "np.unique(y_test_bin, return_counts=True)"
   ]
  },
  {
   "cell_type": "markdown",
   "metadata": {},
   "source": [
    "# Try something else"
   ]
  },
  {
   "cell_type": "code",
   "execution_count": 405,
   "metadata": {},
   "outputs": [],
   "source": [
    "import keras\n",
    "from keras import layers\n",
    "from keras.optimizers import Adam"
   ]
  },
  {
   "cell_type": "code",
   "execution_count": 406,
   "metadata": {},
   "outputs": [],
   "source": [
    "encoding_dim = 32"
   ]
  },
  {
   "cell_type": "code",
   "execution_count": 409,
   "metadata": {},
   "outputs": [],
   "source": [
    "input_img = keras.Input(shape=(4644,))\n",
    "encoded = layers.Dense(encoding_dim, activation='relu')(input_img)\n",
    "decoded = layers.Dense(4644, activation='sigmoid')(encoded)\n",
    "autoencoder = keras.Model(input_img, decoded)\n",
    "encoder = keras.Model(input_img, encoded)\n",
    "encoded_input = keras.Input(shape=(encoding_dim,))\n",
    "decoder_layer = autoencoder.layers[-1]\n",
    "decoder = keras.Model(encoded_input, decoder_layer(encoded_input))\n",
    "customAdam = Adam(lr=0.001)\n",
    "autoencoder.compile(optimizer='adam', loss='binary_crossentropy')"
   ]
  },
  {
   "cell_type": "code",
   "execution_count": 410,
   "metadata": {},
   "outputs": [
    {
     "name": "stdout",
     "output_type": "stream",
     "text": [
      "Train on 720 samples, validate on 180 samples\n",
      "Epoch 1/100\n",
      "720/720 [==============================] - 1s 1ms/step - loss: 0.3867 - val_loss: -0.3301\n",
      "Epoch 2/100\n",
      "720/720 [==============================] - 0s 511us/step - loss: -1.2542 - val_loss: -2.0230\n",
      "Epoch 3/100\n",
      "720/720 [==============================] - 0s 366us/step - loss: -2.4340 - val_loss: -2.6804\n",
      "Epoch 4/100\n",
      "720/720 [==============================] - 0s 464us/step - loss: -2.9079 - val_loss: -3.0826\n",
      "Epoch 5/100\n",
      "720/720 [==============================] - 0s 654us/step - loss: -3.2697 - val_loss: -3.4257\n",
      "Epoch 6/100\n",
      "720/720 [==============================] - 0s 557us/step - loss: -3.5859 - val_loss: -3.7321\n",
      "Epoch 7/100\n",
      "720/720 [==============================] - 0s 556us/step - loss: -3.8765 - val_loss: -4.0190\n",
      "Epoch 8/100\n",
      "720/720 [==============================] - 0s 565us/step - loss: -4.1557 - val_loss: -4.2785\n",
      "Epoch 9/100\n",
      "720/720 [==============================] - 0s 405us/step - loss: -4.4066 - val_loss: -4.4873\n",
      "Epoch 10/100\n",
      "720/720 [==============================] - 0s 532us/step - loss: -4.6097 - val_loss: -4.6430\n",
      "Epoch 11/100\n",
      "720/720 [==============================] - 0s 590us/step - loss: -4.7679 - val_loss: -4.7545\n",
      "Epoch 12/100\n",
      "720/720 [==============================] - 1s 720us/step - loss: -4.8901 - val_loss: -4.8357\n",
      "Epoch 13/100\n",
      "720/720 [==============================] - 0s 692us/step - loss: -4.9894 - val_loss: -4.8994\n",
      "Epoch 14/100\n",
      "720/720 [==============================] - 0s 659us/step - loss: -5.0756 - val_loss: -4.9559\n",
      "Epoch 15/100\n",
      "720/720 [==============================] - 0s 600us/step - loss: -5.1541 - val_loss: -5.0082\n",
      "Epoch 16/100\n",
      "720/720 [==============================] - 0s 393us/step - loss: -5.2259 - val_loss: -5.0554\n",
      "Epoch 17/100\n",
      "720/720 [==============================] - 0s 482us/step - loss: -5.2899 - val_loss: -5.0970\n",
      "Epoch 18/100\n",
      "720/720 [==============================] - 0s 377us/step - loss: -5.3459 - val_loss: -5.1326\n",
      "Epoch 19/100\n",
      "720/720 [==============================] - 0s 385us/step - loss: -5.3952 - val_loss: -5.1644\n",
      "Epoch 20/100\n",
      "720/720 [==============================] - 0s 431us/step - loss: -5.4394 - val_loss: -5.1927\n",
      "Epoch 21/100\n",
      "720/720 [==============================] - 0s 534us/step - loss: -5.4795 - val_loss: -5.2181\n",
      "Epoch 22/100\n",
      "720/720 [==============================] - 0s 471us/step - loss: -5.5169 - val_loss: -5.2416\n",
      "Epoch 23/100\n",
      "720/720 [==============================] - 0s 577us/step - loss: -5.5517 - val_loss: -5.2641\n",
      "Epoch 24/100\n",
      "720/720 [==============================] - 0s 614us/step - loss: -5.5843 - val_loss: -5.2856\n",
      "Epoch 25/100\n",
      "720/720 [==============================] - 1s 741us/step - loss: -5.6149 - val_loss: -5.3069\n",
      "Epoch 26/100\n",
      "720/720 [==============================] - 0s 663us/step - loss: -5.6438 - val_loss: -5.3278\n",
      "Epoch 27/100\n",
      "720/720 [==============================] - 0s 402us/step - loss: -5.6712 - val_loss: -5.3477\n",
      "Epoch 28/100\n",
      "720/720 [==============================] - 0s 471us/step - loss: -5.6971 - val_loss: -5.3668\n",
      "Epoch 29/100\n",
      "720/720 [==============================] - 0s 501us/step - loss: -5.7214 - val_loss: -5.3851\n",
      "Epoch 30/100\n",
      "720/720 [==============================] - 0s 447us/step - loss: -5.7440 - val_loss: -5.4021\n",
      "Epoch 31/100\n",
      "720/720 [==============================] - 0s 542us/step - loss: -5.7651 - val_loss: -5.4178\n",
      "Epoch 32/100\n",
      "720/720 [==============================] - 0s 537us/step - loss: -5.7848 - val_loss: -5.4326\n",
      "Epoch 33/100\n",
      "720/720 [==============================] - 0s 317us/step - loss: -5.8030 - val_loss: -5.4463\n",
      "Epoch 34/100\n",
      "720/720 [==============================] - 0s 587us/step - loss: -5.8201 - val_loss: -5.4585\n",
      "Epoch 35/100\n",
      "720/720 [==============================] - 1s 776us/step - loss: -5.8358 - val_loss: -5.4698\n",
      "Epoch 36/100\n",
      "720/720 [==============================] - 0s 400us/step - loss: -5.8504 - val_loss: -5.4803\n",
      "Epoch 37/100\n",
      "720/720 [==============================] - 0s 479us/step - loss: -5.8641 - val_loss: -5.4899\n",
      "Epoch 38/100\n",
      "720/720 [==============================] - 0s 506us/step - loss: -5.8768 - val_loss: -5.4984\n",
      "Epoch 39/100\n",
      "720/720 [==============================] - 0s 502us/step - loss: -5.8887 - val_loss: -5.5062\n",
      "Epoch 40/100\n",
      "720/720 [==============================] - 0s 634us/step - loss: -5.8999 - val_loss: -5.5132\n",
      "Epoch 41/100\n",
      "720/720 [==============================] - 0s 525us/step - loss: -5.9104 - val_loss: -5.5197\n",
      "Epoch 42/100\n",
      "720/720 [==============================] - 0s 515us/step - loss: -5.9201 - val_loss: -5.5254\n",
      "Epoch 43/100\n",
      "720/720 [==============================] - 1s 727us/step - loss: -5.9294 - val_loss: -5.5310\n",
      "Epoch 44/100\n",
      "720/720 [==============================] - 0s 600us/step - loss: -5.9382 - val_loss: -5.5358\n",
      "Epoch 45/100\n",
      "720/720 [==============================] - 0s 442us/step - loss: -5.9466 - val_loss: -5.5407\n",
      "Epoch 46/100\n",
      "720/720 [==============================] - 0s 474us/step - loss: -5.9544 - val_loss: -5.5453\n",
      "Epoch 47/100\n",
      "720/720 [==============================] - 0s 462us/step - loss: -5.9619 - val_loss: -5.5491\n",
      "Epoch 48/100\n",
      "720/720 [==============================] - 0s 690us/step - loss: -5.9691 - val_loss: -5.5527\n",
      "Epoch 49/100\n",
      "720/720 [==============================] - 1s 718us/step - loss: -5.9759 - val_loss: -5.5563\n",
      "Epoch 50/100\n",
      "720/720 [==============================] - 0s 540us/step - loss: -5.9824 - val_loss: -5.5594\n",
      "Epoch 51/100\n",
      "720/720 [==============================] - 1s 713us/step - loss: -5.9887 - val_loss: -5.5624\n",
      "Epoch 52/100\n",
      "720/720 [==============================] - 0s 606us/step - loss: -5.9948 - val_loss: -5.5654\n",
      "Epoch 53/100\n",
      "720/720 [==============================] - 0s 575us/step - loss: -6.0006 - val_loss: -5.5682\n",
      "Epoch 54/100\n",
      "720/720 [==============================] - 0s 523us/step - loss: -6.0063 - val_loss: -5.5707\n",
      "Epoch 55/100\n",
      "720/720 [==============================] - 0s 649us/step - loss: -6.0116 - val_loss: -5.5735\n",
      "Epoch 56/100\n",
      "720/720 [==============================] - 3s 4ms/step - loss: -6.0169 - val_loss: -5.5759\n",
      "Epoch 57/100\n",
      "720/720 [==============================] - 1s 1ms/step - loss: -6.0220 - val_loss: -5.5780\n",
      "Epoch 58/100\n",
      "720/720 [==============================] - 1s 968us/step - loss: -6.0267 - val_loss: -5.5802\n",
      "Epoch 59/100\n",
      "720/720 [==============================] - 1s 969us/step - loss: -6.0314 - val_loss: -5.5823\n",
      "Epoch 60/100\n",
      "720/720 [==============================] - 1s 853us/step - loss: -6.0358 - val_loss: -5.5842\n",
      "Epoch 61/100\n",
      "720/720 [==============================] - 1s 793us/step - loss: -6.0402 - val_loss: -5.5861\n",
      "Epoch 62/100\n",
      "720/720 [==============================] - 1s 932us/step - loss: -6.0444 - val_loss: -5.5878\n",
      "Epoch 63/100\n",
      "720/720 [==============================] - 1s 908us/step - loss: -6.0483 - val_loss: -5.5894\n",
      "Epoch 64/100\n",
      "720/720 [==============================] - 1s 938us/step - loss: -6.0523 - val_loss: -5.5908\n",
      "Epoch 65/100\n",
      "720/720 [==============================] - 1s 859us/step - loss: -6.0561 - val_loss: -5.5920\n",
      "Epoch 66/100\n",
      "720/720 [==============================] - 1s 980us/step - loss: -6.0598 - val_loss: -5.5932\n",
      "Epoch 67/100\n",
      "720/720 [==============================] - 1s 884us/step - loss: -6.0634 - val_loss: -5.5945\n",
      "Epoch 68/100\n",
      "720/720 [==============================] - 1s 891us/step - loss: -6.0669 - val_loss: -5.5955\n",
      "Epoch 69/100\n",
      "720/720 [==============================] - 1s 942us/step - loss: -6.0703 - val_loss: -5.5965\n",
      "Epoch 70/100\n",
      "720/720 [==============================] - 1s 803us/step - loss: -6.0736 - val_loss: -5.5976\n",
      "Epoch 71/100\n",
      "720/720 [==============================] - 1s 837us/step - loss: -6.0767 - val_loss: -5.5987\n",
      "Epoch 72/100\n",
      "720/720 [==============================] - 1s 809us/step - loss: -6.0799 - val_loss: -5.5993\n",
      "Epoch 73/100\n",
      "720/720 [==============================] - 1s 729us/step - loss: -6.0829 - val_loss: -5.6002\n",
      "Epoch 74/100\n",
      "720/720 [==============================] - 1s 854us/step - loss: -6.0858 - val_loss: -5.6006\n",
      "Epoch 75/100\n",
      "720/720 [==============================] - 1s 856us/step - loss: -6.0887 - val_loss: -5.6009\n",
      "Epoch 76/100\n",
      "720/720 [==============================] - 1s 902us/step - loss: -6.0914 - val_loss: -5.6018\n",
      "Epoch 77/100\n",
      "720/720 [==============================] - 1s 843us/step - loss: -6.0942 - val_loss: -5.6020\n",
      "Epoch 78/100\n",
      "720/720 [==============================] - 1s 861us/step - loss: -6.0967 - val_loss: -5.6024\n",
      "Epoch 79/100\n",
      "720/720 [==============================] - 1s 855us/step - loss: -6.0994 - val_loss: -5.6026\n",
      "Epoch 80/100\n",
      "720/720 [==============================] - 1s 1ms/step - loss: -6.1019 - val_loss: -5.6031\n",
      "Epoch 81/100\n",
      "720/720 [==============================] - 1s 798us/step - loss: -6.1043 - val_loss: -5.6033\n",
      "Epoch 82/100\n",
      "720/720 [==============================] - 1s 849us/step - loss: -6.1067 - val_loss: -5.6034\n",
      "Epoch 83/100\n",
      "720/720 [==============================] - 1s 773us/step - loss: -6.1092 - val_loss: -5.6034\n",
      "Epoch 84/100\n",
      "720/720 [==============================] - 1s 764us/step - loss: -6.1114 - val_loss: -5.6031\n",
      "Epoch 85/100\n",
      "720/720 [==============================] - 1s 810us/step - loss: -6.1137 - val_loss: -5.6034\n",
      "Epoch 86/100\n",
      "720/720 [==============================] - 1s 953us/step - loss: -6.1158 - val_loss: -5.6032\n",
      "Epoch 87/100\n",
      "720/720 [==============================] - 1s 844us/step - loss: -6.1180 - val_loss: -5.6034\n",
      "Epoch 88/100\n",
      "720/720 [==============================] - 1s 947us/step - loss: -6.1201 - val_loss: -5.6031\n",
      "Epoch 89/100\n",
      "720/720 [==============================] - 1s 826us/step - loss: -6.1222 - val_loss: -5.6031\n",
      "Epoch 90/100\n",
      "720/720 [==============================] - 1s 855us/step - loss: -6.1243 - val_loss: -5.6029\n",
      "Epoch 91/100\n",
      "720/720 [==============================] - 0s 530us/step - loss: -6.1263 - val_loss: -5.6027\n",
      "Epoch 92/100\n",
      "720/720 [==============================] - 0s 496us/step - loss: -6.1283 - val_loss: -5.6026\n",
      "Epoch 93/100\n",
      "720/720 [==============================] - 0s 689us/step - loss: -6.1303 - val_loss: -5.6023\n",
      "Epoch 94/100\n",
      "720/720 [==============================] - 0s 526us/step - loss: -6.1323 - val_loss: -5.6022\n",
      "Epoch 95/100\n",
      "720/720 [==============================] - 0s 399us/step - loss: -6.1342 - val_loss: -5.6018\n",
      "Epoch 96/100\n",
      "720/720 [==============================] - 0s 357us/step - loss: -6.1362 - val_loss: -5.6014\n",
      "Epoch 97/100\n",
      "720/720 [==============================] - 0s 364us/step - loss: -6.1381 - val_loss: -5.6013\n",
      "Epoch 98/100\n",
      "720/720 [==============================] - 0s 465us/step - loss: -6.1399 - val_loss: -5.6009\n",
      "Epoch 99/100\n",
      "720/720 [==============================] - 0s 527us/step - loss: -6.1418 - val_loss: -5.6003\n",
      "Epoch 100/100\n",
      "720/720 [==============================] - 0s 415us/step - loss: -6.1436 - val_loss: -5.6002\n"
     ]
    },
    {
     "data": {
      "text/plain": [
       "<keras.callbacks.History at 0x7f65900c0ba8>"
      ]
     },
     "execution_count": 410,
     "metadata": {},
     "output_type": "execute_result"
    }
   ],
   "source": [
    "autoencoder.fit(X_train, X_train, epochs=100, batch_size=50, shuffle=False, validation_data=(X_test, X_test))"
   ]
  },
  {
   "cell_type": "code",
   "execution_count": 267,
   "metadata": {},
   "outputs": [],
   "source": [
    "X_train_autoencoder = encoder.predict(X_train)"
   ]
  },
  {
   "cell_type": "code",
   "execution_count": 394,
   "metadata": {},
   "outputs": [
    {
     "name": "stdout",
     "output_type": "stream",
     "text": [
      "[(-1.0, 625), (0.0, 625), (1.0, 625)]\n"
     ]
    }
   ],
   "source": [
    "# Try some oversampling to combat the class imbalance\n",
    "x_resampled, y_resampled = SMOTE().fit_resample(X_train_pca, y_train)\n",
    "print(sorted(Counter(y_resampled).items()))\n",
    "\n",
    "#x_resampled, y_resampled = RandomOverSampler().fit_resample(X_train_pca, y_train)\n",
    "#print(sorted(Counter(y_resampled).items()))"
   ]
  },
  {
   "cell_type": "code",
   "execution_count": 395,
   "metadata": {},
   "outputs": [],
   "source": [
    "#rf = RandomForestClassifier(random_state=1337)\n",
    "rf = RandomForestClassifier(random_state=1337, criterion='entropy', max_depth=10, min_samples_split=15)\n",
    "#ad = AdaBoostClassifier(random_state=1337)"
   ]
  },
  {
   "cell_type": "code",
   "execution_count": 396,
   "metadata": {},
   "outputs": [],
   "source": [
    "#train best model\n",
    "clf = rf.fit(x_resampled, y_resampled)"
   ]
  },
  {
   "cell_type": "code",
   "execution_count": 387,
   "metadata": {},
   "outputs": [],
   "source": [
    "# HPO\n",
    "## Random Forest ##\n",
    "# parameters = {'max_depth':(10, 100), 'min_samples_split':[5, 15], 'criterion':['entropy','gini']}\n",
    "# clf = GridSearchCV(rf, parameters)\n",
    "# #clf.fit(X_train_pca, y_train_cat)\n",
    "# #clf.fit(X_train,y_train_bin)\n",
    "# clf.fit(x_resampled, y_resampled)\n",
    "# print(clf.best_score_)\n",
    "# print(clf.best_params_)\n",
    "\n",
    "## AdaBoost ##\n",
    "# parameters = {'n_estimators':[50, 100], 'learning_rate':[0.1, 1, 5]}\n",
    "# clf = GridSearchCV(ad, parameters)\n",
    "# #clf.fit(X_train_pca, y_train_bin)\n",
    "# clf.fit(X_train_autoencoder, y_train_cat)"
   ]
  },
  {
   "cell_type": "code",
   "execution_count": null,
   "metadata": {},
   "outputs": [],
   "source": [
    "# Transform target to 3 categories\n",
    "# med_ids = np.where(np.logical_and(-1.5<y, y<1.5))[0]\n",
    "# y[y>=1.5] = 1 \n",
    "# y[y<=-1.5] = -1\n",
    "# y[med_ids] = 0\n",
    "# X = np.concatenate((X_tas,X_psl),axis=1)\n",
    "# y=y.reshape(-1,1)"
   ]
  }
 ],
 "metadata": {
  "kernelspec": {
   "display_name": "UT",
   "language": "python",
   "name": "ut"
  },
  "language_info": {
   "codemirror_mode": {
    "name": "ipython",
    "version": 3
   },
   "file_extension": ".py",
   "mimetype": "text/x-python",
   "name": "python",
   "nbconvert_exporter": "python",
   "pygments_lexer": "ipython3",
   "version": "3.7.4"
  }
 },
 "nbformat": 4,
 "nbformat_minor": 4
}
