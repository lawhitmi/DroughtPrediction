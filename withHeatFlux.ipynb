{
 "cells": [
  {
   "cell_type": "markdown",
   "metadata": {},
   "source": [
    "# Drought Prediction in the Mediterranean"
   ]
  },
  {
   "cell_type": "code",
   "execution_count": 1,
   "metadata": {},
   "outputs": [],
   "source": [
    "from sklearn.ensemble import RandomForestClassifier, AdaBoostClassifier\n",
    "from sklearn.decomposition import PCA\n",
    "from sklearn.preprocessing import KBinsDiscretizer, Binarizer\n",
    "from sklearn.compose import ColumnTransformer\n",
    "from sklearn.model_selection import train_test_split\n",
    "#from sklearn.pipeline import Pipeline\n",
    "from sklearn.model_selection import cross_val_score\n",
    "from sklearn.model_selection import GridSearchCV\n",
    "from sklearn.metrics import confusion_matrix, f1_score, precision_score, plot_confusion_matrix\n",
    "from matplotlib import pyplot as plt\n",
    "from imblearn.over_sampling import RandomOverSampler\n",
    "from imblearn.pipeline import Pipeline\n",
    "from imblearn.over_sampling import SMOTE\n",
    "from collections import Counter\n",
    "%matplotlib inline\n",
    "import numpy as np\n",
    "import pandas as pd\n",
    "import pickle"
   ]
  },
  {
   "cell_type": "code",
   "execution_count": 2,
   "metadata": {},
   "outputs": [],
   "source": [
    "# Train/Test Split - Just run once\n",
    "X_tas = np.load('Data/tas_train.npy')\n",
    "X_psl = np.load('Data/psl_train.npy')\n",
    "X_hf = np.load('Data/heatflux_train.npy')\n",
    "y=np.load('Data/nao_index_train.npy')\n",
    "\n",
    "X = np.concatenate((X_tas, X_psl, X_hf),axis=1)\n",
    "y=y.reshape(-1,1)\n",
    "\n",
    "X_train, X_test, y_train, y_test = train_test_split(X, y, test_size=0.20, random_state=42)\n",
    "\n",
    "np.save('Data/train/X_train_wHF.npy', X_train)\n",
    "np.save('Data/test/X_test_wHF.npy', X_test)\n",
    "np.save('Data/train/y_train_wHF.npy', y_train)\n",
    "np.save('Data/test/y_test_wHF.npy', y_test)"
   ]
  },
  {
   "cell_type": "markdown",
   "metadata": {},
   "source": [
    "# Exploratory Data Analysis"
   ]
  },
  {
   "cell_type": "code",
   "execution_count": 3,
   "metadata": {},
   "outputs": [
    {
     "name": "stdout",
     "output_type": "stream",
     "text": [
      "(720, 6966)\n",
      "(720, 1)\n"
     ]
    }
   ],
   "source": [
    "#Load training data\n",
    "X_train = np.load('Data/train/X_train_wHF.npy')\n",
    "y_train = np.load('Data/train/y_train_wHF.npy')\n",
    "print(X_train.shape)\n",
    "print(y_train.shape)"
   ]
  },
  {
   "cell_type": "code",
   "execution_count": 4,
   "metadata": {},
   "outputs": [
    {
     "name": "stdout",
     "output_type": "stream",
     "text": [
      "Range of means:  0.11358084917841821\n",
      "Range of stdevs:  0.10109558691530329\n"
     ]
    }
   ],
   "source": [
    "# Data are standardized by column\n",
    "X_df = pd.DataFrame(X_train)\n",
    "print(\"Range of means: \",X_df.mean().max() - X_df.mean().min())\n",
    "print(\"Range of stdevs: \",X_df.std().max() - X_df.std().min())"
   ]
  },
  {
   "cell_type": "code",
   "execution_count": 5,
   "metadata": {},
   "outputs": [
    {
     "data": {
      "text/plain": [
       "0"
      ]
     },
     "execution_count": 5,
     "metadata": {},
     "output_type": "execute_result"
    }
   ],
   "source": [
    "# No missing data (synthetic dataset, so none are expected)\n",
    "X_df.isna().sum().sum()"
   ]
  },
  {
   "cell_type": "code",
   "execution_count": 6,
   "metadata": {
    "scrolled": true
   },
   "outputs": [
    {
     "data": {
      "image/png": "[encoded data removed]",
      "text/plain": [
       "<Figure size 432x288 with 1 Axes>"
      ]
     },
     "metadata": {
      "needs_background": "light"
     },
     "output_type": "display_data"
    }
   ],
   "source": [
    "# PCA - Virtually all variance is explained in the first 200 PCs of press and the first 500 PCs of temp\n",
    "num_components = [50,100,150,200,250,300,350,400,500]\n",
    "explained_variance_temp = []\n",
    "explained_variance_press = []\n",
    "explained_variance_flux = []\n",
    "for i in num_components:\n",
    "    pca_temp = PCA(n_components=i)\n",
    "    pca_press = PCA(n_components=i)\n",
    "    pca_flux = PCA(n_components=i)\n",
    "    X_tas_pca = pca_temp.fit_transform(X_train[:,0:2322])\n",
    "    X_psl_pca = pca_press.fit_transform(X_train[:,2322:4645])\n",
    "    X_hf_pca = pca_flux.fit_transform(X_train[:,4645:])\n",
    "    explained_variance_temp.append(pca_temp.explained_variance_ratio_.sum())\n",
    "    explained_variance_press.append(pca_press.explained_variance_ratio_.sum())\n",
    "    explained_variance_flux.append(pca_flux.explained_variance_ratio_.sum())\n",
    "\n",
    "    \n",
    "plt.plot(num_components,explained_variance_temp,'go',label=\"Temp\")\n",
    "plt.plot(num_components,explained_variance_press,\"r^\",label=\"Press\")\n",
    "plt.plot(num_components,explained_variance_flux,\"b+\",label=\"Heat Flux\")\n",
    "plt.title(\"PCA Explained Variance\")\n",
    "plt.xlabel(\"Num Components\")\n",
    "plt.ylabel(\"% Explained Variance\")\n",
    "plt.legend(loc=\"lower right\")\n",
    "plt.show()\n"
   ]
  },
  {
   "cell_type": "code",
   "execution_count": 7,
   "metadata": {},
   "outputs": [
    {
     "data": {
      "image/png": "[encoded data removed]",
      "text/plain": [
       "<Figure size 432x288 with 1 Axes>"
      ]
     },
     "metadata": {
      "needs_background": "light"
     },
     "output_type": "display_data"
    }
   ],
   "source": [
    "np.histogram(y_train, bins=20);\n",
    "plt.title(\"NAO Index Histogram\")\n",
    "plt.xlabel(\"Index\")\n",
    "plt.ylabel(\"Frequency\")\n",
    "plt.hist(y_train,bins=20)\n",
    "plt.show()"
   ]
  },
  {
   "cell_type": "markdown",
   "metadata": {},
   "source": [
    "#### Investigate Correlation between target variable and each coordinate"
   ]
  },
  {
   "cell_type": "code",
   "execution_count": 8,
   "metadata": {},
   "outputs": [],
   "source": [
    "data = pd.DataFrame(X_train)"
   ]
  },
  {
   "cell_type": "code",
   "execution_count": 9,
   "metadata": {},
   "outputs": [
    {
     "data": {
      "image/png": "[encoded data removed]",
      "text/plain": [
       "<Figure size 432x288 with 1 Axes>"
      ]
     },
     "metadata": {
      "needs_background": "light"
     },
     "output_type": "display_data"
    }
   ],
   "source": [
    "data.corrwith(pd.Series(y_train.reshape(720,))).hist(bins=15);"
   ]
  },
  {
   "cell_type": "markdown",
   "metadata": {},
   "source": [
    "# Preprocessing"
   ]
  },
  {
   "cell_type": "code",
   "execution_count": 10,
   "metadata": {},
   "outputs": [],
   "source": [
    "# Transform Training Data with PCA (~95% cutoff)\n",
    "pca_temp = PCA(n_components=125)\n",
    "pca_press = PCA(n_components=50)\n",
    "pca_flux = PCA(n_components=350)\n",
    "# After feedback from Eduardo Zorita, reduced the number of PCs.\n",
    "# pca_temp = PCA(n_components=15)\n",
    "# pca_press = PCA(n_components=15)\n",
    "\n",
    "X_tas_pca = pca_temp.fit_transform(X_train[:,0:2322])\n",
    "X_psl_pca = pca_press.fit_transform(X_train[:,2322:4645])\n",
    "X_hf_pca = pca_flux.fit_transform(X_train[:,4645:])\n",
    "X_train_pca = np.concatenate((X_tas_pca,X_psl_pca,X_hf_pca),axis=1)"
   ]
  },
  {
   "cell_type": "code",
   "execution_count": 11,
   "metadata": {},
   "outputs": [
    {
     "name": "stdout",
     "output_type": "stream",
     "text": [
      "MSE Temp: 0.03999836378622099\n",
      "MSE Press: 0.013874691224903538\n",
      "MSE Heat Flux: 0.045476300114683746\n"
     ]
    }
   ],
   "source": [
    "# Calculate reconstruction error\n",
    "X_tas_projected = pca_temp.inverse_transform(X_tas_pca)\n",
    "X_psl_projected = pca_press.inverse_transform(X_psl_pca)\n",
    "X_hf_projected = pca_flux.inverse_transform(X_hf_pca)\n",
    "loss_temp = ((X_train[:,0:2322]-X_tas_projected)**2).mean()\n",
    "loss_press = ((X_train[:,2322:4645]-X_psl_projected)**2).mean()\n",
    "loss_hf = ((X_train[:,4645:]-X_hf_projected)**2).mean()\n",
    "print('MSE Temp: '+str(loss_temp))\n",
    "print('MSE Press: '+str(loss_press))\n",
    "print('MSE Heat Flux: '+str(loss_hf))"
   ]
  },
  {
   "cell_type": "code",
   "execution_count": 12,
   "metadata": {},
   "outputs": [],
   "source": [
    "y_train_bin = np.sign(y_train).reshape(-1,)\n",
    "# kbin = KBinsDiscretizer(n_bins=3, encode='ordinal', strategy='kmeans')\n",
    "# kbin = KBinsDiscretizer(n_bins=3, encode='ordinal', strategy='quantile')\n",
    "\n",
    "# y_train_cat= kbin.fit_transform(y_train.reshape(-1,1)).reshape(-1,)\n",
    "# print(pd.Series(y_train_cat).value_counts())\n",
    "# print(kbin.bin_edges_)"
   ]
  },
  {
   "cell_type": "markdown",
   "metadata": {},
   "source": [
    "# Random Forest Classifier\n",
    "## Binary Classification (positive or negative NAOI)"
   ]
  },
  {
   "cell_type": "code",
   "execution_count": 36,
   "metadata": {},
   "outputs": [],
   "source": [
    "rf = RandomForestClassifier(random_state=1337)"
   ]
  },
  {
   "cell_type": "code",
   "execution_count": 37,
   "metadata": {},
   "outputs": [
    {
     "name": "stdout",
     "output_type": "stream",
     "text": [
      "0.6484744900788914\n",
      "{'criterion': 'entropy', 'max_depth': 100, 'min_samples_split': 15}\n"
     ]
    }
   ],
   "source": [
    "# HPO without PCA\n",
    "## Random Forest ##\n",
    "parameters = {'max_depth':(10, 100), 'min_samples_split':[5, 15], 'criterion':['entropy','gini']}\n",
    "clf = GridSearchCV(rf, parameters,scoring='f1')\n",
    "clf.fit(X_train,y_train_bin)\n",
    "print(clf.best_score_)\n",
    "print(clf.best_params_)"
   ]
  },
  {
   "cell_type": "markdown",
   "metadata": {},
   "source": [
    "Best F1 Score: 0.6484744900788914\n",
    "\n",
    "{'criterion': 'entropy', 'max_depth': 100, 'min_samples_split': 15}"
   ]
  },
  {
   "cell_type": "code",
   "execution_count": 38,
   "metadata": {},
   "outputs": [
    {
     "data": {
      "text/html": [
       "<div>\n",
       "<style scoped>\n",
       "    .dataframe tbody tr th:only-of-type {\n",
       "        vertical-align: middle;\n",
       "    }\n",
       "\n",
       "    .dataframe tbody tr th {\n",
       "        vertical-align: top;\n",
       "    }\n",
       "\n",
       "    .dataframe thead th {\n",
       "        text-align: right;\n",
       "    }\n",
       "</style>\n",
       "<table border=\"1\" class=\"dataframe\">\n",
       "  <thead>\n",
       "    <tr style=\"text-align: right;\">\n",
       "      <th></th>\n",
       "      <th>mean_fit_time</th>\n",
       "      <th>std_fit_time</th>\n",
       "      <th>mean_score_time</th>\n",
       "      <th>std_score_time</th>\n",
       "      <th>param_criterion</th>\n",
       "      <th>param_max_depth</th>\n",
       "      <th>param_min_samples_split</th>\n",
       "      <th>params</th>\n",
       "      <th>split0_test_score</th>\n",
       "      <th>split1_test_score</th>\n",
       "      <th>split2_test_score</th>\n",
       "      <th>split3_test_score</th>\n",
       "      <th>split4_test_score</th>\n",
       "      <th>mean_test_score</th>\n",
       "      <th>std_test_score</th>\n",
       "      <th>rank_test_score</th>\n",
       "    </tr>\n",
       "  </thead>\n",
       "  <tbody>\n",
       "    <tr>\n",
       "      <th>0</th>\n",
       "      <td>3.184707</td>\n",
       "      <td>0.046127</td>\n",
       "      <td>0.014668</td>\n",
       "      <td>0.001324</td>\n",
       "      <td>entropy</td>\n",
       "      <td>10</td>\n",
       "      <td>5</td>\n",
       "      <td>{'criterion': 'entropy', 'max_depth': 10, 'min...</td>\n",
       "      <td>0.652850</td>\n",
       "      <td>0.670051</td>\n",
       "      <td>0.645161</td>\n",
       "      <td>0.614525</td>\n",
       "      <td>0.617021</td>\n",
       "      <td>0.639922</td>\n",
       "      <td>0.021316</td>\n",
       "      <td>6</td>\n",
       "    </tr>\n",
       "    <tr>\n",
       "      <th>1</th>\n",
       "      <td>3.108255</td>\n",
       "      <td>0.061116</td>\n",
       "      <td>0.014269</td>\n",
       "      <td>0.001023</td>\n",
       "      <td>entropy</td>\n",
       "      <td>10</td>\n",
       "      <td>15</td>\n",
       "      <td>{'criterion': 'entropy', 'max_depth': 10, 'min...</td>\n",
       "      <td>0.605405</td>\n",
       "      <td>0.663366</td>\n",
       "      <td>0.663102</td>\n",
       "      <td>0.663102</td>\n",
       "      <td>0.621053</td>\n",
       "      <td>0.643206</td>\n",
       "      <td>0.024971</td>\n",
       "      <td>4</td>\n",
       "    </tr>\n",
       "    <tr>\n",
       "      <th>2</th>\n",
       "      <td>3.365026</td>\n",
       "      <td>0.077358</td>\n",
       "      <td>0.015143</td>\n",
       "      <td>0.001608</td>\n",
       "      <td>entropy</td>\n",
       "      <td>100</td>\n",
       "      <td>5</td>\n",
       "      <td>{'criterion': 'entropy', 'max_depth': 100, 'mi...</td>\n",
       "      <td>0.673684</td>\n",
       "      <td>0.642105</td>\n",
       "      <td>0.641711</td>\n",
       "      <td>0.644809</td>\n",
       "      <td>0.621053</td>\n",
       "      <td>0.644672</td>\n",
       "      <td>0.016822</td>\n",
       "      <td>3</td>\n",
       "    </tr>\n",
       "    <tr>\n",
       "      <th>3</th>\n",
       "      <td>3.169475</td>\n",
       "      <td>0.099367</td>\n",
       "      <td>0.013599</td>\n",
       "      <td>0.001843</td>\n",
       "      <td>entropy</td>\n",
       "      <td>100</td>\n",
       "      <td>15</td>\n",
       "      <td>{'criterion': 'entropy', 'max_depth': 100, 'mi...</td>\n",
       "      <td>0.635897</td>\n",
       "      <td>0.660099</td>\n",
       "      <td>0.652632</td>\n",
       "      <td>0.644809</td>\n",
       "      <td>0.648936</td>\n",
       "      <td>0.648474</td>\n",
       "      <td>0.008053</td>\n",
       "      <td>1</td>\n",
       "    </tr>\n",
       "    <tr>\n",
       "      <th>4</th>\n",
       "      <td>1.826320</td>\n",
       "      <td>0.056222</td>\n",
       "      <td>0.014640</td>\n",
       "      <td>0.002879</td>\n",
       "      <td>gini</td>\n",
       "      <td>10</td>\n",
       "      <td>5</td>\n",
       "      <td>{'criterion': 'gini', 'max_depth': 10, 'min_sa...</td>\n",
       "      <td>0.625641</td>\n",
       "      <td>0.639175</td>\n",
       "      <td>0.680628</td>\n",
       "      <td>0.638743</td>\n",
       "      <td>0.642105</td>\n",
       "      <td>0.645259</td>\n",
       "      <td>0.018576</td>\n",
       "      <td>2</td>\n",
       "    </tr>\n",
       "    <tr>\n",
       "      <th>5</th>\n",
       "      <td>1.752499</td>\n",
       "      <td>0.026226</td>\n",
       "      <td>0.012890</td>\n",
       "      <td>0.001550</td>\n",
       "      <td>gini</td>\n",
       "      <td>10</td>\n",
       "      <td>15</td>\n",
       "      <td>{'criterion': 'gini', 'max_depth': 10, 'min_sa...</td>\n",
       "      <td>0.611399</td>\n",
       "      <td>0.631579</td>\n",
       "      <td>0.673267</td>\n",
       "      <td>0.571429</td>\n",
       "      <td>0.617021</td>\n",
       "      <td>0.620939</td>\n",
       "      <td>0.032891</td>\n",
       "      <td>7</td>\n",
       "    </tr>\n",
       "    <tr>\n",
       "      <th>6</th>\n",
       "      <td>1.979397</td>\n",
       "      <td>0.037088</td>\n",
       "      <td>0.016495</td>\n",
       "      <td>0.004453</td>\n",
       "      <td>gini</td>\n",
       "      <td>100</td>\n",
       "      <td>5</td>\n",
       "      <td>{'criterion': 'gini', 'max_depth': 100, 'min_s...</td>\n",
       "      <td>0.605405</td>\n",
       "      <td>0.624339</td>\n",
       "      <td>0.652406</td>\n",
       "      <td>0.635417</td>\n",
       "      <td>0.691099</td>\n",
       "      <td>0.641733</td>\n",
       "      <td>0.029028</td>\n",
       "      <td>5</td>\n",
       "    </tr>\n",
       "    <tr>\n",
       "      <th>7</th>\n",
       "      <td>2.000341</td>\n",
       "      <td>0.040489</td>\n",
       "      <td>0.013384</td>\n",
       "      <td>0.001227</td>\n",
       "      <td>gini</td>\n",
       "      <td>100</td>\n",
       "      <td>15</td>\n",
       "      <td>{'criterion': 'gini', 'max_depth': 100, 'min_s...</td>\n",
       "      <td>0.617021</td>\n",
       "      <td>0.580645</td>\n",
       "      <td>0.652632</td>\n",
       "      <td>0.543353</td>\n",
       "      <td>0.649485</td>\n",
       "      <td>0.608627</td>\n",
       "      <td>0.041761</td>\n",
       "      <td>8</td>\n",
       "    </tr>\n",
       "  </tbody>\n",
       "</table>\n",
       "</div>"
      ],
      "text/plain": [
       "   mean_fit_time  std_fit_time  mean_score_time  std_score_time  \\\n",
       "0       3.184707      0.046127         0.014668        0.001324   \n",
       "1       3.108255      0.061116         0.014269        0.001023   \n",
       "2       3.365026      0.077358         0.015143        0.001608   \n",
       "3       3.169475      0.099367         0.013599        0.001843   \n",
       "4       1.826320      0.056222         0.014640        0.002879   \n",
       "5       1.752499      0.026226         0.012890        0.001550   \n",
       "6       1.979397      0.037088         0.016495        0.004453   \n",
       "7       2.000341      0.040489         0.013384        0.001227   \n",
       "\n",
       "  param_criterion param_max_depth param_min_samples_split  \\\n",
       "0         entropy              10                       5   \n",
       "1         entropy              10                      15   \n",
       "2         entropy             100                       5   \n",
       "3         entropy             100                      15   \n",
       "4            gini              10                       5   \n",
       "5            gini              10                      15   \n",
       "6            gini             100                       5   \n",
       "7            gini             100                      15   \n",
       "\n",
       "                                              params  split0_test_score  \\\n",
       "0  {'criterion': 'entropy', 'max_depth': 10, 'min...           0.652850   \n",
       "1  {'criterion': 'entropy', 'max_depth': 10, 'min...           0.605405   \n",
       "2  {'criterion': 'entropy', 'max_depth': 100, 'mi...           0.673684   \n",
       "3  {'criterion': 'entropy', 'max_depth': 100, 'mi...           0.635897   \n",
       "4  {'criterion': 'gini', 'max_depth': 10, 'min_sa...           0.625641   \n",
       "5  {'criterion': 'gini', 'max_depth': 10, 'min_sa...           0.611399   \n",
       "6  {'criterion': 'gini', 'max_depth': 100, 'min_s...           0.605405   \n",
       "7  {'criterion': 'gini', 'max_depth': 100, 'min_s...           0.617021   \n",
       "\n",
       "   split1_test_score  split2_test_score  split3_test_score  split4_test_score  \\\n",
       "0           0.670051           0.645161           0.614525           0.617021   \n",
       "1           0.663366           0.663102           0.663102           0.621053   \n",
       "2           0.642105           0.641711           0.644809           0.621053   \n",
       "3           0.660099           0.652632           0.644809           0.648936   \n",
       "4           0.639175           0.680628           0.638743           0.642105   \n",
       "5           0.631579           0.673267           0.571429           0.617021   \n",
       "6           0.624339           0.652406           0.635417           0.691099   \n",
       "7           0.580645           0.652632           0.543353           0.649485   \n",
       "\n",
       "   mean_test_score  std_test_score  rank_test_score  \n",
       "0         0.639922        0.021316                6  \n",
       "1         0.643206        0.024971                4  \n",
       "2         0.644672        0.016822                3  \n",
       "3         0.648474        0.008053                1  \n",
       "4         0.645259        0.018576                2  \n",
       "5         0.620939        0.032891                7  \n",
       "6         0.641733        0.029028                5  \n",
       "7         0.608627        0.041761                8  "
      ]
     },
     "execution_count": 38,
     "metadata": {},
     "output_type": "execute_result"
    }
   ],
   "source": [
    "results = pd.DataFrame(clf.cv_results_)\n",
    "results"
   ]
  },
  {
   "cell_type": "code",
   "execution_count": 39,
   "metadata": {},
   "outputs": [
    {
     "name": "stdout",
     "output_type": "stream",
     "text": [
      "0.6783414519943268\n",
      "{'criterion': 'entropy', 'max_depth': 10, 'min_samples_split': 15}\n"
     ]
    }
   ],
   "source": [
    "# HPO with PCA\n",
    "## Random Forest ##\n",
    "parameters = {'max_depth':(10, 100), 'min_samples_split':[5, 15], 'criterion':['entropy','gini']}\n",
    "clf = GridSearchCV(rf, parameters,scoring='f1')\n",
    "clf.fit(X_train_pca,y_train_bin)\n",
    "print(clf.best_score_)\n",
    "print(clf.best_params_)"
   ]
  },
  {
   "cell_type": "markdown",
   "metadata": {},
   "source": [
    "Best F1 Score: 0.6783414519943268\n",
    "\n",
    "{'criterion': 'entropy', 'max_depth': 10, 'min_samples_split': 15}"
   ]
  },
  {
   "cell_type": "code",
   "execution_count": 40,
   "metadata": {},
   "outputs": [
    {
     "data": {
      "text/html": [
       "<div>\n",
       "<style scoped>\n",
       "    .dataframe tbody tr th:only-of-type {\n",
       "        vertical-align: middle;\n",
       "    }\n",
       "\n",
       "    .dataframe tbody tr th {\n",
       "        vertical-align: top;\n",
       "    }\n",
       "\n",
       "    .dataframe thead th {\n",
       "        text-align: right;\n",
       "    }\n",
       "</style>\n",
       "<table border=\"1\" class=\"dataframe\">\n",
       "  <thead>\n",
       "    <tr style=\"text-align: right;\">\n",
       "      <th></th>\n",
       "      <th>mean_fit_time</th>\n",
       "      <th>std_fit_time</th>\n",
       "      <th>mean_score_time</th>\n",
       "      <th>std_score_time</th>\n",
       "      <th>param_criterion</th>\n",
       "      <th>param_max_depth</th>\n",
       "      <th>param_min_samples_split</th>\n",
       "      <th>params</th>\n",
       "      <th>split0_test_score</th>\n",
       "      <th>split1_test_score</th>\n",
       "      <th>split2_test_score</th>\n",
       "      <th>split3_test_score</th>\n",
       "      <th>split4_test_score</th>\n",
       "      <th>mean_test_score</th>\n",
       "      <th>std_test_score</th>\n",
       "      <th>rank_test_score</th>\n",
       "    </tr>\n",
       "  </thead>\n",
       "  <tbody>\n",
       "    <tr>\n",
       "      <th>0</th>\n",
       "      <td>0.839623</td>\n",
       "      <td>0.033637</td>\n",
       "      <td>0.007597</td>\n",
       "      <td>0.003402</td>\n",
       "      <td>entropy</td>\n",
       "      <td>10</td>\n",
       "      <td>5</td>\n",
       "      <td>{'criterion': 'entropy', 'max_depth': 10, 'min...</td>\n",
       "      <td>0.647059</td>\n",
       "      <td>0.680000</td>\n",
       "      <td>0.689320</td>\n",
       "      <td>0.676471</td>\n",
       "      <td>0.669856</td>\n",
       "      <td>0.672541</td>\n",
       "      <td>0.014207</td>\n",
       "      <td>3</td>\n",
       "    </tr>\n",
       "    <tr>\n",
       "      <th>1</th>\n",
       "      <td>0.827910</td>\n",
       "      <td>0.028783</td>\n",
       "      <td>0.010014</td>\n",
       "      <td>0.000599</td>\n",
       "      <td>entropy</td>\n",
       "      <td>10</td>\n",
       "      <td>15</td>\n",
       "      <td>{'criterion': 'entropy', 'max_depth': 10, 'min...</td>\n",
       "      <td>0.682692</td>\n",
       "      <td>0.696078</td>\n",
       "      <td>0.670000</td>\n",
       "      <td>0.669951</td>\n",
       "      <td>0.672986</td>\n",
       "      <td>0.678341</td>\n",
       "      <td>0.010022</td>\n",
       "      <td>1</td>\n",
       "    </tr>\n",
       "    <tr>\n",
       "      <th>2</th>\n",
       "      <td>0.945764</td>\n",
       "      <td>0.038929</td>\n",
       "      <td>0.008112</td>\n",
       "      <td>0.002872</td>\n",
       "      <td>entropy</td>\n",
       "      <td>100</td>\n",
       "      <td>5</td>\n",
       "      <td>{'criterion': 'entropy', 'max_depth': 100, 'mi...</td>\n",
       "      <td>0.650246</td>\n",
       "      <td>0.683417</td>\n",
       "      <td>0.702439</td>\n",
       "      <td>0.647343</td>\n",
       "      <td>0.656566</td>\n",
       "      <td>0.668002</td>\n",
       "      <td>0.021431</td>\n",
       "      <td>6</td>\n",
       "    </tr>\n",
       "    <tr>\n",
       "      <th>3</th>\n",
       "      <td>0.908051</td>\n",
       "      <td>0.026933</td>\n",
       "      <td>0.009560</td>\n",
       "      <td>0.000866</td>\n",
       "      <td>entropy</td>\n",
       "      <td>100</td>\n",
       "      <td>15</td>\n",
       "      <td>{'criterion': 'entropy', 'max_depth': 100, 'mi...</td>\n",
       "      <td>0.683673</td>\n",
       "      <td>0.646766</td>\n",
       "      <td>0.703518</td>\n",
       "      <td>0.639594</td>\n",
       "      <td>0.630542</td>\n",
       "      <td>0.660819</td>\n",
       "      <td>0.027965</td>\n",
       "      <td>7</td>\n",
       "    </tr>\n",
       "    <tr>\n",
       "      <th>4</th>\n",
       "      <td>0.544089</td>\n",
       "      <td>0.021131</td>\n",
       "      <td>0.009874</td>\n",
       "      <td>0.000734</td>\n",
       "      <td>gini</td>\n",
       "      <td>10</td>\n",
       "      <td>5</td>\n",
       "      <td>{'criterion': 'gini', 'max_depth': 10, 'min_sa...</td>\n",
       "      <td>0.666667</td>\n",
       "      <td>0.666667</td>\n",
       "      <td>0.720000</td>\n",
       "      <td>0.676617</td>\n",
       "      <td>0.650718</td>\n",
       "      <td>0.676134</td>\n",
       "      <td>0.023451</td>\n",
       "      <td>2</td>\n",
       "    </tr>\n",
       "    <tr>\n",
       "      <th>5</th>\n",
       "      <td>0.523489</td>\n",
       "      <td>0.020807</td>\n",
       "      <td>0.009833</td>\n",
       "      <td>0.001195</td>\n",
       "      <td>gini</td>\n",
       "      <td>10</td>\n",
       "      <td>15</td>\n",
       "      <td>{'criterion': 'gini', 'max_depth': 10, 'min_sa...</td>\n",
       "      <td>0.666667</td>\n",
       "      <td>0.704225</td>\n",
       "      <td>0.660099</td>\n",
       "      <td>0.643564</td>\n",
       "      <td>0.666667</td>\n",
       "      <td>0.668244</td>\n",
       "      <td>0.019875</td>\n",
       "      <td>5</td>\n",
       "    </tr>\n",
       "    <tr>\n",
       "      <th>6</th>\n",
       "      <td>0.588555</td>\n",
       "      <td>0.022672</td>\n",
       "      <td>0.010691</td>\n",
       "      <td>0.000865</td>\n",
       "      <td>gini</td>\n",
       "      <td>100</td>\n",
       "      <td>5</td>\n",
       "      <td>{'criterion': 'gini', 'max_depth': 100, 'min_s...</td>\n",
       "      <td>0.666667</td>\n",
       "      <td>0.659898</td>\n",
       "      <td>0.673367</td>\n",
       "      <td>0.683417</td>\n",
       "      <td>0.620000</td>\n",
       "      <td>0.660670</td>\n",
       "      <td>0.021768</td>\n",
       "      <td>8</td>\n",
       "    </tr>\n",
       "    <tr>\n",
       "      <th>7</th>\n",
       "      <td>0.542428</td>\n",
       "      <td>0.015784</td>\n",
       "      <td>0.009144</td>\n",
       "      <td>0.001368</td>\n",
       "      <td>gini</td>\n",
       "      <td>100</td>\n",
       "      <td>15</td>\n",
       "      <td>{'criterion': 'gini', 'max_depth': 100, 'min_s...</td>\n",
       "      <td>0.682927</td>\n",
       "      <td>0.682692</td>\n",
       "      <td>0.696078</td>\n",
       "      <td>0.656716</td>\n",
       "      <td>0.640394</td>\n",
       "      <td>0.671762</td>\n",
       "      <td>0.020227</td>\n",
       "      <td>4</td>\n",
       "    </tr>\n",
       "  </tbody>\n",
       "</table>\n",
       "</div>"
      ],
      "text/plain": [
       "   mean_fit_time  std_fit_time  mean_score_time  std_score_time  \\\n",
       "0       0.839623      0.033637         0.007597        0.003402   \n",
       "1       0.827910      0.028783         0.010014        0.000599   \n",
       "2       0.945764      0.038929         0.008112        0.002872   \n",
       "3       0.908051      0.026933         0.009560        0.000866   \n",
       "4       0.544089      0.021131         0.009874        0.000734   \n",
       "5       0.523489      0.020807         0.009833        0.001195   \n",
       "6       0.588555      0.022672         0.010691        0.000865   \n",
       "7       0.542428      0.015784         0.009144        0.001368   \n",
       "\n",
       "  param_criterion param_max_depth param_min_samples_split  \\\n",
       "0         entropy              10                       5   \n",
       "1         entropy              10                      15   \n",
       "2         entropy             100                       5   \n",
       "3         entropy             100                      15   \n",
       "4            gini              10                       5   \n",
       "5            gini              10                      15   \n",
       "6            gini             100                       5   \n",
       "7            gini             100                      15   \n",
       "\n",
       "                                              params  split0_test_score  \\\n",
       "0  {'criterion': 'entropy', 'max_depth': 10, 'min...           0.647059   \n",
       "1  {'criterion': 'entropy', 'max_depth': 10, 'min...           0.682692   \n",
       "2  {'criterion': 'entropy', 'max_depth': 100, 'mi...           0.650246   \n",
       "3  {'criterion': 'entropy', 'max_depth': 100, 'mi...           0.683673   \n",
       "4  {'criterion': 'gini', 'max_depth': 10, 'min_sa...           0.666667   \n",
       "5  {'criterion': 'gini', 'max_depth': 10, 'min_sa...           0.666667   \n",
       "6  {'criterion': 'gini', 'max_depth': 100, 'min_s...           0.666667   \n",
       "7  {'criterion': 'gini', 'max_depth': 100, 'min_s...           0.682927   \n",
       "\n",
       "   split1_test_score  split2_test_score  split3_test_score  split4_test_score  \\\n",
       "0           0.680000           0.689320           0.676471           0.669856   \n",
       "1           0.696078           0.670000           0.669951           0.672986   \n",
       "2           0.683417           0.702439           0.647343           0.656566   \n",
       "3           0.646766           0.703518           0.639594           0.630542   \n",
       "4           0.666667           0.720000           0.676617           0.650718   \n",
       "5           0.704225           0.660099           0.643564           0.666667   \n",
       "6           0.659898           0.673367           0.683417           0.620000   \n",
       "7           0.682692           0.696078           0.656716           0.640394   \n",
       "\n",
       "   mean_test_score  std_test_score  rank_test_score  \n",
       "0         0.672541        0.014207                3  \n",
       "1         0.678341        0.010022                1  \n",
       "2         0.668002        0.021431                6  \n",
       "3         0.660819        0.027965                7  \n",
       "4         0.676134        0.023451                2  \n",
       "5         0.668244        0.019875                5  \n",
       "6         0.660670        0.021768                8  \n",
       "7         0.671762        0.020227                4  "
      ]
     },
     "execution_count": 40,
     "metadata": {},
     "output_type": "execute_result"
    }
   ],
   "source": [
    "# Equal if not better performance when using PCA transform\n",
    "results = pd.DataFrame(clf.cv_results_)\n",
    "results"
   ]
  },
  {
   "cell_type": "code",
   "execution_count": 41,
   "metadata": {},
   "outputs": [],
   "source": [
    "# Persist RF wPCA Model\n",
    "with open('Data/RF_Bin_wPCA_wHF', 'wb') as f:\n",
    "    pickle.dump(clf, f)"
   ]
  },
  {
   "cell_type": "markdown",
   "metadata": {},
   "source": [
    "## Testing"
   ]
  },
  {
   "cell_type": "code",
   "execution_count": 42,
   "metadata": {},
   "outputs": [],
   "source": [
    "# Load Test Data\n",
    "X_test = np.load('Data/test/X_test_wHF.npy')\n",
    "y_test = np.load('Data/test/y_test_wHF.npy')"
   ]
  },
  {
   "cell_type": "code",
   "execution_count": 43,
   "metadata": {},
   "outputs": [],
   "source": [
    "#transform test data\n",
    "X_tas_pca_test = pca_temp.transform(X_test[:,0:2322])\n",
    "X_psl_pca_test = pca_press.transform(X_test[:,2322:4645])\n",
    "X_hf_pca_test = pca_flux.transform(X_test[:,4645:])\n",
    "X_test_pca = np.concatenate((X_tas_pca_test,X_psl_pca_test,X_hf_pca_test),axis=1)\n",
    "y_test_bin = np.sign(y_test)\n"
   ]
  },
  {
   "cell_type": "code",
   "execution_count": 44,
   "metadata": {},
   "outputs": [
    {
     "data": {
      "text/plain": [
       "<sklearn.metrics._plot.confusion_matrix.ConfusionMatrixDisplay at 0x2010c464288>"
      ]
     },
     "execution_count": 44,
     "metadata": {},
     "output_type": "execute_result"
    },
    {
     "data": {
      "image/png": "[encoded data removed]",
      "text/plain": [
       "<Figure size 432x288 with 2 Axes>"
      ]
     },
     "metadata": {
      "needs_background": "light"
     },
     "output_type": "display_data"
    }
   ],
   "source": [
    "plot_confusion_matrix(clf, X_test_pca, y_test_bin)"
   ]
  },
  {
   "cell_type": "code",
   "execution_count": 45,
   "metadata": {},
   "outputs": [],
   "source": [
    "y_pred = clf.predict(X_test_pca)"
   ]
  },
  {
   "cell_type": "code",
   "execution_count": 46,
   "metadata": {},
   "outputs": [
    {
     "name": "stdout",
     "output_type": "stream",
     "text": [
      "F1 score: 0.6614173228346457\n"
     ]
    }
   ],
   "source": [
    "print('F1 score: '+str(f1_score(y_test_bin, y_pred, average='binary')))"
   ]
  },
  {
   "cell_type": "code",
   "execution_count": 48,
   "metadata": {},
   "outputs": [
    {
     "data": {
      "text/plain": [
       "(array([-1.,  1.]), array([85, 95], dtype=int64))"
      ]
     },
     "execution_count": 48,
     "metadata": {},
     "output_type": "execute_result"
    }
   ],
   "source": [
    "np.unique(y_test_bin, return_counts=True)"
   ]
  },
  {
   "cell_type": "markdown",
   "metadata": {},
   "source": [
    "# Try XGBoost"
   ]
  },
  {
   "cell_type": "code",
   "execution_count": 25,
   "metadata": {},
   "outputs": [],
   "source": [
    "import xgboost as xgb"
   ]
  },
  {
   "cell_type": "code",
   "execution_count": 26,
   "metadata": {},
   "outputs": [],
   "source": [
    "y_train_bin_xg = Binarizer().fit_transform(y_train)\n",
    "y_test_bin_xg = Binarizer().fit_transform(y_test)\n",
    "dtrain = xgb.DMatrix(X_train_pca, label=y_train_bin_xg)\n",
    "dtest = xgb.DMatrix(X_test_pca, label=y_test_bin_xg)"
   ]
  },
  {
   "cell_type": "code",
   "execution_count": 27,
   "metadata": {},
   "outputs": [],
   "source": [
    "param = {'max_depth':100, 'eta':1, 'objective': 'binary:logistic'}\n",
    "param['eval_metric'] = 'auc'\n",
    "evallist = [(dtest,'eval'),(dtrain,'train')]\n",
    "num_round = 20"
   ]
  },
  {
   "cell_type": "code",
   "execution_count": 28,
   "metadata": {},
   "outputs": [
    {
     "name": "stdout",
     "output_type": "stream",
     "text": [
      "[0]\teval-auc:0.54502\ttrain-auc:0.98982\n",
      "[1]\teval-auc:0.52291\ttrain-auc:0.99991\n",
      "[2]\teval-auc:0.53430\ttrain-auc:1.00000\n",
      "[3]\teval-auc:0.52929\ttrain-auc:1.00000\n",
      "[4]\teval-auc:0.53858\ttrain-auc:1.00000\n",
      "[5]\teval-auc:0.53907\ttrain-auc:1.00000\n",
      "[6]\teval-auc:0.54229\ttrain-auc:1.00000\n",
      "[7]\teval-auc:0.55108\ttrain-auc:1.00000\n",
      "[8]\teval-auc:0.54266\ttrain-auc:1.00000\n",
      "[9]\teval-auc:0.54502\ttrain-auc:1.00000\n",
      "[10]\teval-auc:0.55951\ttrain-auc:1.00000\n",
      "[11]\teval-auc:0.56049\ttrain-auc:1.00000\n",
      "[12]\teval-auc:0.55294\ttrain-auc:1.00000\n",
      "[13]\teval-auc:0.55567\ttrain-auc:1.00000\n",
      "[14]\teval-auc:0.55022\ttrain-auc:1.00000\n",
      "[15]\teval-auc:0.54836\ttrain-auc:1.00000\n",
      "[16]\teval-auc:0.55170\ttrain-auc:1.00000\n",
      "[17]\teval-auc:0.54489\ttrain-auc:1.00000\n",
      "[18]\teval-auc:0.54328\ttrain-auc:1.00000\n",
      "[19]\teval-auc:0.54885\ttrain-auc:1.00000\n"
     ]
    }
   ],
   "source": [
    "bst = xgb.train(param, dtrain, num_round, evallist)"
   ]
  },
  {
   "cell_type": "code",
   "execution_count": 29,
   "metadata": {},
   "outputs": [],
   "source": [
    "y_pred = bst.predict(xgb.DMatrix(X_test_pca))\n",
    "y_pred_bin = y_pred>=0.5"
   ]
  },
  {
   "cell_type": "code",
   "execution_count": 35,
   "metadata": {},
   "outputs": [
    {
     "name": "stdout",
     "output_type": "stream",
     "text": [
      "F1 score: 0.6442307692307693\n"
     ]
    }
   ],
   "source": [
    "print('F1 score: '+str(f1_score(y_test_bin_xg, y_pred_bin, average='binary')))"
   ]
  },
  {
   "cell_type": "code",
   "execution_count": null,
   "metadata": {},
   "outputs": [],
   "source": []
  }
 ],
 "metadata": {
  "kernelspec": {
   "display_name": "UT",
   "language": "python",
   "name": "ut"
  },
  "language_info": {
   "codemirror_mode": {
    "name": "ipython",
    "version": 3
   },
   "file_extension": ".py",
   "mimetype": "text/x-python",
   "name": "python",
   "nbconvert_exporter": "python",
   "pygments_lexer": "ipython3",
   "version": "3.7.4"
  }
 },
 "nbformat": 4,
 "nbformat_minor": 4
}
